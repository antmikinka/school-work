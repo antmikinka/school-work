{
 "cells": [
  {
   "cell_type": "code",
   "execution_count": 182,
   "metadata": {},
   "outputs": [],
   "source": [
    "import json\n",
    "import pandas as pd\n",
    "\n",
    "\n",
    "population = pd.read_json('population.json', lines = True)\n"
   ]
  },
  {
   "cell_type": "code",
   "execution_count": 183,
   "metadata": {},
   "outputs": [
    {
     "data": {
      "text/html": [
       "<div>\n",
       "<style scoped>\n",
       "    .dataframe tbody tr th:only-of-type {\n",
       "        vertical-align: middle;\n",
       "    }\n",
       "\n",
       "    .dataframe tbody tr th {\n",
       "        vertical-align: top;\n",
       "    }\n",
       "\n",
       "    .dataframe thead th {\n",
       "        text-align: right;\n",
       "    }\n",
       "</style>\n",
       "<table border=\"1\" class=\"dataframe\">\n",
       "  <thead>\n",
       "    <tr style=\"text-align: right;\">\n",
       "      <th></th>\n",
       "      <th>0</th>\n",
       "      <th>1</th>\n",
       "      <th>2</th>\n",
       "      <th>3</th>\n",
       "      <th>4</th>\n",
       "      <th>5</th>\n",
       "      <th>6</th>\n",
       "      <th>7</th>\n",
       "      <th>8</th>\n",
       "      <th>9</th>\n",
       "      <th>...</th>\n",
       "      <th>18008</th>\n",
       "      <th>18009</th>\n",
       "      <th>18010</th>\n",
       "      <th>18011</th>\n",
       "      <th>18012</th>\n",
       "      <th>18013</th>\n",
       "      <th>18014</th>\n",
       "      <th>18015</th>\n",
       "      <th>18016</th>\n",
       "      <th>18017</th>\n",
       "    </tr>\n",
       "  </thead>\n",
       "  <tbody>\n",
       "    <tr>\n",
       "      <th>0</th>\n",
       "      <td>{'population': 2536274.721, 'region': 'WORLD',...</td>\n",
       "      <td>{'population': 2583816.786, 'region': 'WORLD',...</td>\n",
       "      <td>{'population': 2630584.384, 'region': 'WORLD',...</td>\n",
       "      <td>{'population': 2677230.358, 'region': 'WORLD',...</td>\n",
       "      <td>{'population': 2724302.468, 'region': 'WORLD',...</td>\n",
       "      <td>{'population': 2772242.535, 'region': 'WORLD',...</td>\n",
       "      <td>{'population': 2821383.444, 'region': 'WORLD',...</td>\n",
       "      <td>{'population': 2871952.278, 'region': 'WORLD',...</td>\n",
       "      <td>{'population': 2924081.243, 'region': 'WORLD',...</td>\n",
       "      <td>{'population': 2977824.686, 'region': 'WORLD',...</td>\n",
       "      <td>...</td>\n",
       "      <td>{'population': 14.434, 'region': 'Wallis and F...</td>\n",
       "      <td>{'population': 14.229, 'region': 'Wallis and F...</td>\n",
       "      <td>{'population': 13.984, 'region': 'Wallis and F...</td>\n",
       "      <td>{'population': 13.706, 'region': 'Wallis and F...</td>\n",
       "      <td>{'population': 13.428, 'region': 'Wallis and F...</td>\n",
       "      <td>{'population': 13.129, 'region': 'Wallis and F...</td>\n",
       "      <td>{'population': 12.836, 'region': 'Wallis and F...</td>\n",
       "      <td>{'population': 12.551, 'region': 'Wallis and F...</td>\n",
       "      <td>{'population': 12.285, 'region': 'Wallis and F...</td>\n",
       "      <td>{'population': 12.066, 'region': 'Wallis and F...</td>\n",
       "    </tr>\n",
       "  </tbody>\n",
       "</table>\n",
       "<p>1 rows × 18018 columns</p>\n",
       "</div>"
      ],
      "text/plain": [
       "                                               0      \\\n",
       "0  {'population': 2536274.721, 'region': 'WORLD',...   \n",
       "\n",
       "                                               1      \\\n",
       "0  {'population': 2583816.786, 'region': 'WORLD',...   \n",
       "\n",
       "                                               2      \\\n",
       "0  {'population': 2630584.384, 'region': 'WORLD',...   \n",
       "\n",
       "                                               3      \\\n",
       "0  {'population': 2677230.358, 'region': 'WORLD',...   \n",
       "\n",
       "                                               4      \\\n",
       "0  {'population': 2724302.468, 'region': 'WORLD',...   \n",
       "\n",
       "                                               5      \\\n",
       "0  {'population': 2772242.535, 'region': 'WORLD',...   \n",
       "\n",
       "                                               6      \\\n",
       "0  {'population': 2821383.444, 'region': 'WORLD',...   \n",
       "\n",
       "                                               7      \\\n",
       "0  {'population': 2871952.278, 'region': 'WORLD',...   \n",
       "\n",
       "                                               8      \\\n",
       "0  {'population': 2924081.243, 'region': 'WORLD',...   \n",
       "\n",
       "                                               9      ...  \\\n",
       "0  {'population': 2977824.686, 'region': 'WORLD',...  ...   \n",
       "\n",
       "                                               18008  \\\n",
       "0  {'population': 14.434, 'region': 'Wallis and F...   \n",
       "\n",
       "                                               18009  \\\n",
       "0  {'population': 14.229, 'region': 'Wallis and F...   \n",
       "\n",
       "                                               18010  \\\n",
       "0  {'population': 13.984, 'region': 'Wallis and F...   \n",
       "\n",
       "                                               18011  \\\n",
       "0  {'population': 13.706, 'region': 'Wallis and F...   \n",
       "\n",
       "                                               18012  \\\n",
       "0  {'population': 13.428, 'region': 'Wallis and F...   \n",
       "\n",
       "                                               18013  \\\n",
       "0  {'population': 13.129, 'region': 'Wallis and F...   \n",
       "\n",
       "                                               18014  \\\n",
       "0  {'population': 12.836, 'region': 'Wallis and F...   \n",
       "\n",
       "                                               18015  \\\n",
       "0  {'population': 12.551, 'region': 'Wallis and F...   \n",
       "\n",
       "                                               18016  \\\n",
       "0  {'population': 12.285, 'region': 'Wallis and F...   \n",
       "\n",
       "                                               18017  \n",
       "0  {'population': 12.066, 'region': 'Wallis and F...  \n",
       "\n",
       "[1 rows x 18018 columns]"
      ]
     },
     "execution_count": 183,
     "metadata": {},
     "output_type": "execute_result"
    }
   ],
   "source": [
    "population.head()"
   ]
  },
  {
   "cell_type": "code",
   "execution_count": 184,
   "metadata": {},
   "outputs": [],
   "source": [
    "with open('population.json', 'r') as file:\n",
    "    population = json.load(file)"
   ]
  },
  {
   "cell_type": "code",
   "execution_count": 185,
   "metadata": {},
   "outputs": [],
   "source": [
    "from collections import defaultdict"
   ]
  },
  {
   "cell_type": "code",
   "execution_count": 197,
   "metadata": {},
   "outputs": [
    {
     "name": "stdout",
     "output_type": "stream",
     "text": [
      "{'population': 229763.052, 'region': 'United States of America', 'year': '1980'}\n"
     ]
    }
   ],
   "source": [
    "usa_fed = defaultdict(int)\n",
    "rus_fed = defaultdict(int)\n",
    "#pop_usa = \"region\"\n",
    "print(pop_object)#i have no idea where this is initalized at\n",
    "\n",
    "for row in population:\n",
    "    year = row['year']\n",
    "    popul = row['population']\n",
    "    region = row['region']\n",
    "    \n",
    "    usa_fed[region] += int(row.get('United States of America', 0)) + int(row.get('population', 0)) + int(row.get('year', 0))\n",
    "    rus_fed[region] += int(row.get('Russian Federation', 0)) + int(row.get('population', 0)) + int(row.get('year', 0))\n",
    "    #welp, this project sounds and looks similar to the last problem set we had. The reason why I may have a hard time understanding it is because I have not slept since yesterday, I stayed up all night studying and have not gone to bed yet.\n",
    "#print(usa_fed[region])\n",
    "\n",
    "    "
   ]
  },
  {
   "cell_type": "code",
   "execution_count": 187,
   "metadata": {},
   "outputs": [
    {
     "name": "stdout",
     "output_type": "stream",
     "text": [
      "[('WORLD', 314738961), ('More developed regions', 71160108), ('Less developed regions', 243709664), ('Least developed countries', 31487300), ('Less developed regions, excluding least developed countries', 212353180), ('Less developed regions, excluding China', 175455382), ('High-income countries', 62123510), ('Middle-income countries', 232421303), ('Upper-middle-income countries', 119285284), ('Lower-middle-income countries', 113266836), ('Low-income countries', 20342477), ('Sub-Saharan Africa', 30346201), ('AFRICA', 38488120), ('Eastern Africa', 12231525), ('Burundi', 459359), ('Comoros', 155871), ('Djibouti', 158799), ('Eritrea', 304701), ('Ethiopia', 3183062), ('Kenya', 1512867), ('Madagascar', 857894), ('Malawi', 657127), ('Mauritius', 193713), ('Mayotte', 136758), ('Mozambique', 1026127), ('Réunion', 167533), ('Rwanda', 514288), ('Seychelles', 135122), ('Somalia', 555453), ('South Sudan', 488379), ('Uganda', 1227661), ('United Republic of Tanzania', 1691007), ('Zambia', 609300), ('Zimbabwe', 681935), ('Middle Africa', 4643172), ('Angola', 910180), ('Cameroon', 841954), ('Central African Republic', 308055), ('Chad', 527730), ('Congo', 281237), ('Democratic Republic of the Congo', 2330668), ('Equatorial Guinea', 160970), ('Gabon', 191056), ('Sao Tome and Principe', 137829), ('Northern Africa', 8272729), ('Algeria', 1586627), ('Egypt', 3480646), ('Libya', 367842), ('Morocco', 1547483), ('Sudan', 1331444), ('Tunisia', 599666), ('Western Sahara', 143888), ('Southern Africa', 2591957), ('Botswana', 207866), ('Lesotho', 223317), ('Namibia', 213671), ('South Africa', 2292239), ('Swaziland', 178112), ('Western Africa', 11271982), ('Benin', 451083), ('Burkina Faso', 698951), ('Cabo Verde', 152542), (\"Côte d'Ivoire\", 824536), ('Gambia', 186085), ('Ghana', 1019263), ('Guinea', 536611), ('Guinea-Bissau', 194478), ('Liberia', 270754), ('Mali', 696769), ('Mauritania', 256061), ('Niger', 655538), ('Nigeria', 5959147), ('Saint Helena', 131141), ('Senegal', 589064), ('Sierra Leone', 383613), ('Togo', 359341), ('ASIA', 186719638), ('Eastern Asia', 79676544), ('China', 66897150), ('China, Hong Kong SAR', 457762), ('China, Macao SAR', 151926), ('China, Taiwan Province of China', 1270698), (\"Dem. People's Republic of Korea\", 1310593), ('Japan', 7634349), ('Mongolia', 249041), ('Republic of Korea', 2620713), ('South-Central Asia', 72948542), ('Central Asia', 2950136), ('Kazakhstan', 1040875), ('Kyrgyzstan', 377827), ('Tajikistan', 425257), ('Turkmenistan', 340741), ('Uzbekistan', 1288687), ('Southern Asia', 70129217), ('Afghanistan', 1149895), ('Bangladesh', 6272364), ('Bhutan', 159740), ('India', 51510864), ('Iran (Islamic Republic of)', 3125833), ('Maldives', 143840), ('Nepal', 1260784), ('Pakistan', 6428934), ('Sri Lanka', 1123465), ('South-Eastern Asia', 25592170), ('Brunei Darussalam', 145204), ('Cambodia', 717949), ('Indonesia', 10523789), (\"Lao People's Democratic Republic\", 383353), ('Malaysia', 1203552), ('Myanmar', 2431838), ('Philippines', 3729601), ('Singapore', 321576), ('Thailand', 3265776), ('Timor-Leste', 179111), ('Viet Nam', 3998538), ('Western Asia', 8894823), ('Armenia', 309285), ('Azerbaijan', 549338), ('Bahrain', 163166), ('Cyprus', 180982), ('Georgia', 432268), ('Iraq', 1214577), ('Israel', 409832), ('Jordan', 349073), ('Kuwait', 227033), ('Lebanon', 316408), ('Oman', 233167), ('Qatar', 164402), ('Saudi Arabia', 1012700), ('State of Palestine', 270048), ('Syrian Arab Republic', 847379), ('Turkey', 3257731), ('United Arab Emirates', 277575), ('Yemen', 903663), ('EUROPE', 45011000), ('Eastern Europe', 18842244), ('Belarus', 741627), ('Bulgaria', 669684), ('Czechia', 795113), ('Hungary', 804434), ('Poland', 2416788), ('Republic of Moldova', 378966), ('Romania', 1509223), ('Russian Federation', 9031834), ('Slovakia', 450876), ('Ukraine', 3221006), ('Northern Europe', 6072875), ('Channel Islands', 139541), ('Denmark', 464249), ('Estonia', 220750), ('Faeroe Islands', 133611), ('Finland', 450321), ('Iceland', 146414), ('Ireland', 361763), ('Isle of Man', 135027), ('Latvia', 284002), ('Lithuania', 342792), ('Norway', 403633), ('Sweden', 681775), ('United Kingdom', 3878753), ('Southern Europe', 9091672), ('Albania', 296873), ('Andorra', 133685), ('Bosnia and Herzegovina', 377513), ('Croatia', 421776), ('Gibraltar', 132716), ('Greece', 772401), ('Holy See', 130845), ('Italy', 3762154), ('Malta', 154210), ('Montenegro', 168008), ('Portugal', 766786), ('San Marino', 132285), ('Serbia', 700576), ('Slovenia', 251281), ('Spain', 2601594), ('TFYR Macedonia', 251130), ('Western Europe', 11396643), ('Austria', 638338), ('Belgium', 783773), ('France', 3703287), ('Germany', 5281488), ('Liechtenstein', 132523), ('Luxembourg', 156216), ('Monaco', 132652), ('Netherlands', 1057723), ('Switzerland', 557144), ('LATIN AMERICA AND THE CARIBBEAN', 25870933), ('Caribbean', 2152889), ('Anguilla', 131367), ('Antigua and Barbuda', 135546), ('Aruba', 135408), ('Bahamas', 145535), ('Barbados', 147483), ('British Virgin Islands', 131799), ('Caribbean Netherlands', 131644), ('Cayman Islands', 132423), ('Cuba', 757994), ('Curaçao', 139940), ('Dominica', 135314), ('Dominican Republic', 542784), ('Grenada', 137098), ('Guadeloupe', 154040), ('Haiti', 553967), ('Jamaica', 276240), ('Martinique', 152957), ('Montserrat', 131463), ('Puerto Rico', 337805), ('Saint Kitts and Nevis', 133874), ('Saint Lucia', 139142), ('Saint Vincent and the Grenadines', 137211), ('Sint Maarten (Dutch part)', 132008), ('Trinidad and Tobago', 202264), ('Turks and Caicos Islands', 131672), ('United States Virgin Islands', 136219), ('Central America', 6718682), ('Belize', 142536), ('Costa Rica', 310231), ('El Salvador', 429539), ('Guatemala', 685119), ('Honduras', 425826), ('Mexico', 5000495), ('Nicaragua', 364873), ('Panama', 275741), ('South America', 17260991), ('Argentina', 2089950), ('Bolivia (Plurinational State of)', 543287), ('Brazil', 8653937), ('Chile', 915788), ('Colombia', 2096063), ('Ecuador', 723314), ('Falkland Islands (Malvinas)', 130957), ('French Guiana', 137739), ('Guyana', 176664), ('Paraguay', 375783), ('Peru', 1371185), ('Suriname', 156569), ('Uruguay', 325493), ('Venezuela (Bolivarian Republic of)', 1264807), ('NORTHERN AMERICA', 17544324), ('Bermuda', 134484), ('Canada', 1792859), ('Greenland', 133922), ('Saint Pierre and Miquelon', 131198), ('United States of America', 15875107), ('OCEANIA', 1759005), ('Australia/New Zealand', 1362875), ('Australia', 1148878), ('New Zealand', 344808), ('Melanesia', 472326), ('Fiji', 172520), ('New Caledonia', 140960), ('Papua New Guinea', 393217), ('Solomon Islands', 149286), ('Vanuatu', 139585), ('Micronesia', 153541), ('Guam', 138231), ('Kiribati', 135164), ('Marshall Islands', 133093), ('Micronesia (Fed. States of)', 135922), ('Nauru', 131321), ('Northern Mariana Islands', 132945), ('Palau', 131752), ('Polynesia', 162701), ('American Samoa', 133357), ('Cook Islands', 132031), ('French Polynesia', 141735), ('Niue', 131025), ('Samoa', 140713), ('Tokelau', 130911), ('Tonga', 136506), ('Tuvalu', 131354), ('Wallis and Futuna Islands', 131564)]\n"
     ]
    }
   ],
   "source": [
    "data_items = usa_fed.items()\n",
    "usa_list = list(data_items)\n",
    "df = pd.DataFrame(usa_list)\n",
    "print(usa_list)\n",
    "\n",
    "#print(rus_fed['year':'1990'])"
   ]
  },
  {
   "cell_type": "code",
   "execution_count": 188,
   "metadata": {},
   "outputs": [
    {
     "data": {
      "text/html": [
       "<div>\n",
       "<style scoped>\n",
       "    .dataframe tbody tr th:only-of-type {\n",
       "        vertical-align: middle;\n",
       "    }\n",
       "\n",
       "    .dataframe tbody tr th {\n",
       "        vertical-align: top;\n",
       "    }\n",
       "\n",
       "    .dataframe thead th {\n",
       "        text-align: right;\n",
       "    }\n",
       "</style>\n",
       "<table border=\"1\" class=\"dataframe\">\n",
       "  <thead>\n",
       "    <tr style=\"text-align: right;\">\n",
       "      <th></th>\n",
       "      <th>region</th>\n",
       "      <th>population</th>\n",
       "    </tr>\n",
       "  </thead>\n",
       "  <tbody>\n",
       "    <tr>\n",
       "      <th>0</th>\n",
       "      <td>WORLD</td>\n",
       "      <td>314738961</td>\n",
       "    </tr>\n",
       "    <tr>\n",
       "      <th>1</th>\n",
       "      <td>More developed regions</td>\n",
       "      <td>71160108</td>\n",
       "    </tr>\n",
       "    <tr>\n",
       "      <th>2</th>\n",
       "      <td>Less developed regions</td>\n",
       "      <td>243709664</td>\n",
       "    </tr>\n",
       "    <tr>\n",
       "      <th>3</th>\n",
       "      <td>Least developed countries</td>\n",
       "      <td>31487300</td>\n",
       "    </tr>\n",
       "    <tr>\n",
       "      <th>4</th>\n",
       "      <td>Less developed regions, excluding least develo...</td>\n",
       "      <td>212353180</td>\n",
       "    </tr>\n",
       "    <tr>\n",
       "      <th>...</th>\n",
       "      <td>...</td>\n",
       "      <td>...</td>\n",
       "    </tr>\n",
       "    <tr>\n",
       "      <th>268</th>\n",
       "      <td>Samoa</td>\n",
       "      <td>140713</td>\n",
       "    </tr>\n",
       "    <tr>\n",
       "      <th>269</th>\n",
       "      <td>Tokelau</td>\n",
       "      <td>130911</td>\n",
       "    </tr>\n",
       "    <tr>\n",
       "      <th>270</th>\n",
       "      <td>Tonga</td>\n",
       "      <td>136506</td>\n",
       "    </tr>\n",
       "    <tr>\n",
       "      <th>271</th>\n",
       "      <td>Tuvalu</td>\n",
       "      <td>131354</td>\n",
       "    </tr>\n",
       "    <tr>\n",
       "      <th>272</th>\n",
       "      <td>Wallis and Futuna Islands</td>\n",
       "      <td>131564</td>\n",
       "    </tr>\n",
       "  </tbody>\n",
       "</table>\n",
       "<p>273 rows × 2 columns</p>\n",
       "</div>"
      ],
      "text/plain": [
       "                                                region  population\n",
       "0                                                WORLD   314738961\n",
       "1                               More developed regions    71160108\n",
       "2                               Less developed regions   243709664\n",
       "3                            Least developed countries    31487300\n",
       "4    Less developed regions, excluding least develo...   212353180\n",
       "..                                                 ...         ...\n",
       "268                                              Samoa      140713\n",
       "269                                            Tokelau      130911\n",
       "270                                              Tonga      136506\n",
       "271                                             Tuvalu      131354\n",
       "272                          Wallis and Futuna Islands      131564\n",
       "\n",
       "[273 rows x 2 columns]"
      ]
     },
     "execution_count": 188,
     "metadata": {},
     "output_type": "execute_result"
    }
   ],
   "source": [
    "df.columns = ['region', 'population']\n",
    "df\n",
    "\n",
    "#usa_items = usa_fed.items()\n",
    "#rus_items = rus_fed.items()\n",
    "#print(usa_items)"
   ]
  },
  {
   "cell_type": "code",
   "execution_count": 180,
   "metadata": {},
   "outputs": [
    {
     "name": "stdout",
     "output_type": "stream",
     "text": [
      "by region\n",
      "WORLD : 0\n",
      "('United States of America', '1990') : 0\n",
      "Russian Federation : 0\n"
     ]
    }
   ],
   "source": [
    "print('by region')\n",
    "for key in usa_fed:\n",
    "    print(key, ':', rus_fed['Russian Federation'])\n"
   ]
  },
  {
   "cell_type": "code",
   "execution_count": null,
   "metadata": {},
   "outputs": [],
   "source": [
    "#calculation growth rate is current year poop - previous year pop/previous yr pop * 100"
   ]
  }
 ],
 "metadata": {
  "kernelspec": {
   "display_name": "Python 3",
   "language": "python",
   "name": "python3"
  },
  "language_info": {
   "codemirror_mode": {
    "name": "ipython",
    "version": 3
   },
   "file_extension": ".py",
   "mimetype": "text/x-python",
   "name": "python",
   "nbconvert_exporter": "python",
   "pygments_lexer": "ipython3",
   "version": "3.8.8"
  }
 },
 "nbformat": 4,
 "nbformat_minor": 2
}
