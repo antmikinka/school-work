{
 "cells": [
  {
   "cell_type": "markdown",
   "metadata": {},
   "source": [
    "## <span style=\"color:blue\">Problem Set 5</span>"
   ]
  },
  {
   "cell_type": "raw",
   "metadata": {},
   "source": [
    "<Anthony Mikinka>"
   ]
  },
  {
   "cell_type": "markdown",
   "metadata": {},
   "source": [
    "**Note:**   \n",
    "1. You need to use code to arrive at a solution.  Hardcoding a solution results in 0 points for the problem.\n",
    "2. **Use only syntax covered in the Units so far.**  Using any other syntax results in 0 points for the problem."
   ]
  },
  {
   "cell_type": "markdown",
   "metadata": {},
   "source": [
    "### Problem 1\n",
    "The function _isFactor_ accepts two parameters _num1_ and _num2_. Write code in the function that does the following:\n",
    "1. Divide num1 by num2.\n",
    "2. If the reminder is 0, the function returns True otherwise the function returns False. "
   ]
  },
  {
   "cell_type": "code",
   "execution_count": 39,
   "metadata": {
    "scrolled": true
   },
   "outputs": [
    {
     "name": "stdout",
     "output_type": "stream",
     "text": [
      "2 is a factor of 20\n",
      "3 is not a factor of 20\n",
      "4 is a factor of 20\n",
      "5 is a factor of 20\n",
      "6 is not a factor of 20\n",
      "7 is not a factor of 20\n",
      "8 is not a factor of 20\n",
      "9 is not a factor of 20\n",
      "10 is a factor of 20\n"
     ]
    }
   ],
   "source": [
    "def isFactor(num1,num2):\n",
    "    # write your code here\n",
    "    return num1 % num2 == 0\n",
    "    \n",
    "# Do not change the code below\n",
    "dividend = 20\n",
    "for divisor in range(2,11):\n",
    "    if isFactor(dividend,divisor):\n",
    "        print(divisor,'is a factor of',dividend)\n",
    "    else:\n",
    "        print(divisor,'is not a factor of',dividend)"
   ]
  },
  {
   "cell_type": "markdown",
   "metadata": {},
   "source": [
    "<span style=\"color:blue\">Expected output:</span><br/>\n",
    "<span style=\"font: courier; font-size: 13px\">\n",
    "2 is a factor of 20<br/>\n",
    "3 is not a factor of 20<br/>\n",
    "4 is a factor of 20<br/>\n",
    "5 is a factor of 20<br/>\n",
    "6 is not a factor of 20<br/>\n",
    "7 is not a factor of 20<br/>\n",
    "8 is not a factor of 20<br/>\n",
    "9 is not a factor of 20<br/>\n",
    "10 is a factor of 20</span>"
   ]
  },
  {
   "cell_type": "markdown",
   "metadata": {},
   "source": [
    "### Problem 2\n",
    "The purpose of the function _changeColors_ is to accept a string and append the string _\",orange\"_ to the string.  Change the code below in any fashion, so that the expected output is produced. The change to the string colors must occur within the function."
   ]
  },
  {
   "cell_type": "code",
   "execution_count": 23,
   "metadata": {
    "scrolled": true
   },
   "outputs": [
    {
     "name": "stdout",
     "output_type": "stream",
     "text": [
      "The new colors are red,green,blue,orange\n"
     ]
    }
   ],
   "source": [
    "def changeColors(colors):\n",
    "    # write your code here\n",
    "    return colors + (\",orange\")\n",
    "    \n",
    "# do not change the code below\n",
    "colors = \"red,green,blue\"\n",
    "colors = changeColors(colors)\n",
    "print(\"The new colors are\",colors)"
   ]
  },
  {
   "cell_type": "markdown",
   "metadata": {},
   "source": [
    "<span style=\"color:blue\">Expected output:</span><br/>\n",
    "<span style=\"font: courier; font-size: 13px\">\n",
    "The new colors are red,green,blue,orange</span>"
   ]
  },
  {
   "cell_type": "markdown",
   "metadata": {},
   "source": [
    "### Problem 3\n",
    "Write a function called _removeColor_ that searches the list parameter _colors_ and, if the string in colorToRemove is present in the list, removes it. As shown in expected output, print the list before the change and the list after the change. "
   ]
  },
  {
   "cell_type": "code",
   "execution_count": 105,
   "metadata": {},
   "outputs": [
    {
     "name": "stdout",
     "output_type": "stream",
     "text": [
      "The original list is: ['red', 'green', 'blue', 'black', 'orange', 'magnenta']\n",
      "The color to remove is green\n",
      "The new list is: ['red', 'blue', 'black', 'orange', 'magnenta']\n"
     ]
    }
   ],
   "source": [
    "def removeColor(color_To_Remove, colors):\n",
    "    # write your code here\n",
    "    return colors.remove('green')\n",
    "\n",
    "\n",
    "colors = ['red','green','blue','black','orange','magnenta']\n",
    "colorToRemove = 'green'\n",
    "\n",
    "\n",
    "# write your code below\n",
    "    \n",
    "print(\"The original list is:\", colors)\n",
    "print(\"The color to remove is\", color_to_remove)\n",
    "\n",
    "removeColor(\"green\", colors)\n",
    "\n",
    "#colors.remove('green') I know that would work\n",
    "\n",
    "print(\"The new list is:\", colors)"
   ]
  },
  {
   "cell_type": "markdown",
   "metadata": {},
   "source": [
    "<span style=\"color:blue\">Expected output:</span><br/>\n",
    "<span style=\"font: courier; font-size: 13px\">\n",
    "The original list is ['red', 'green', 'blue', 'black', 'orange', 'magnenta']<br/>\n",
    "The color to remove is green<br/>\n",
    "The new list is ['red', 'blue', 'black', 'orange', 'magnenta']</span>"
   ]
  },
  {
   "cell_type": "markdown",
   "metadata": {},
   "source": [
    "### Problem 4\n",
    "Define a function called _getValues_ that is passed the dictionary _myDict_.  The function must create a list of the dictionary values.  **Do not use** any dictionary method other than the _items()_ method.  You must iterate over _myDict_  and create the list of values.  "
   ]
  },
  {
   "cell_type": "code",
   "execution_count": 2,
   "metadata": {},
   "outputs": [
    {
     "name": "stdout",
     "output_type": "stream",
     "text": [
      "(60, 30, 20)\n"
     ]
    }
   ],
   "source": [
    "def getValues(myDict):\n",
    "    #write your code here\n",
    "\n",
    "    keys, values = zip(*myDict.items())\n",
    "    return values\n",
    "\n",
    "# do not change the code below\n",
    "courses = {'CPS141':60, 'CSS210':30, 'CPS161':20}\n",
    "print(getValues(courses))"
   ]
  },
  {
   "cell_type": "markdown",
   "metadata": {},
   "source": [
    "<span style=\"color:blue\">Expected output:</span><br/>\n",
    "<span style=\"font: courier; font-size: 13px\">\n",
    "[60, 30, 20]</span>"
   ]
  },
  {
   "cell_type": "markdown",
   "metadata": {},
   "source": [
    "### Problem 5\n",
    "Define a function called _maxInList_ that returns the maximum value from a list of integers. If the list is empty, your function should return False."
   ]
  },
  {
   "cell_type": "code",
   "execution_count": 206,
   "metadata": {},
   "outputs": [
    {
     "name": "stdout",
     "output_type": "stream",
     "text": [
      "73\n",
      "False\n"
     ]
    }
   ],
   "source": [
    "def maxInList(lst):\n",
    "    # write your code here\n",
    "    if len(lst) >= 1:\n",
    "        return max(lst)\n",
    "    \n",
    "    elif len(lst) == 0:    #Does this work? Is it acceptable?\n",
    "           return \"False\"\n",
    "    \n",
    "        \n",
    "#  Do not change the code below\n",
    "my_list = [1,15,73,3,6,10,24]\n",
    "print(maxInList(my_list))\n",
    "print(maxInList([]))"
   ]
  },
  {
   "cell_type": "markdown",
   "metadata": {},
   "source": [
    "<span style=\"color:blue\">Expected output:</span><br/>\n",
    "<span style=\"font: courier; font-size: 13px\">\n",
    "73<br/>\n",
    "False</span>"
   ]
  },
  {
   "cell_type": "markdown",
   "metadata": {},
   "source": [
    "### Problem 6\n",
    "Write a function named _wordsStartingWith_ that accepts a string as an argument.  The function returns a dictionary whose keys are the unique first letter of each word in the string and whose associated values is a list of words starting with that letter. For example, calling the function as below:\n",
    "\n",
    "   words_starting_with(\"this is the correct Terminal\")\n",
    "    \n",
    "   returns: \n",
    "   \n",
    "      { \"t\": [\"this\", \"the\", \"terminal\"], \"i\": [\"is\"], \"c\": [\"correct\"]}\n",
    "Approach (in the function):\n",
    "\n",
    "1. Split the sentence into words. Note, the string has embedded new-line (\\n) characters.  You need to replace the new-line character with a space. (search for the replace() function in strings)\n",
    "2. Iterate through the words.\n",
    "    1. Convert the first letter to lower case (search for the lower() function in strings)\n",
    "    2. If the first character of the current word is not in the dictionary,<br />\n",
    "          initialize the dictionary entry for the current character with an empty list as the value\n",
    "    3. Append the current word to the value for the current character key  "
   ]
  },
  {
   "cell_type": "code",
   "execution_count": 41,
   "metadata": {
    "scrolled": true
   },
   "outputs": [
    {
     "name": "stdout",
     "output_type": "stream",
     "text": [
      "{'a': ['A', 'always', 'Are', 'apart'], 's': ['satire,', 'see', 'satire', 'so'], 'h': ['however', 'hard', 'how'], 'i': ['it', 'it', 'is', 'it'], 't': ['tries', 'tear', 'to', 'the'], 'w': ['Will'], 'b': ['be', 'by'], 'd': ['delightful', 'delicious', 'Does'], 'y': ['you', 'you'], 'u': ['upset'], 'p': ['pleasing']}\n"
     ]
    }
   ],
   "source": [
    "def wordsStartingWith(sentence):\n",
    "    # write your code here\n",
    "    aList = sentence.split()#makes a new list with sentence.lower()\n",
    "    myDict = {}#creates a dictionary\n",
    "    \n",
    "    for word in aList:#for word in aList\n",
    "        firstChar = word.lower()[0]#first char is word.lower zero index\n",
    "        if firstChar not in myDict:#if first char is not in the Dict because its uppercase\n",
    "            \n",
    "            myDict[firstChar] = []#myDict indexes firstChar and makes a list\n",
    "            myDict[firstChar].append(word)#myDict indexed firstChar adds word var to that dict\n",
    "            \n",
    "        else:#if else\n",
    "            \n",
    "            myDict[firstChar].append(word)#myDict adds that word anyways to list\n",
    "            \n",
    "            \n",
    "    return myDict  #returns dictionary\n",
    "\n",
    "\n",
    "# Do not change the code below\n",
    "sentence = \"\"\"A satire, however hard it tries\n",
    "Will always be delightful\n",
    "Are you upset by how delicious it is\n",
    "Does it tear you apart to see the satire so pleasing\"\"\"\n",
    "print(wordsStartingWith(sentence))"
   ]
  },
  {
   "cell_type": "markdown",
   "metadata": {},
   "source": [
    "<span style=\"color:blue\">Expected output:</span><br/>\n",
    "<span style=\"font: courier; font-size: 13px\">\n",
    "{'a': ['A', 'always', 'Are', 'apart'], 's': ['satire,', 'see', 'satire', 'so'], 'h': ['however', 'hard', 'how'], 'i': ['it', 'it', 'is', 'it'], 't': ['tries', 'tear', 'to', 'the'], 'w': ['Will'], 'b': ['be', 'by'], 'd': ['delightful', 'delicious', 'Does'], 'y': ['you', 'you'], 'u': ['upset'], 'p': ['pleasing']}</span>"
   ]
  },
  {
   "cell_type": "markdown",
   "metadata": {},
   "source": [
    "### Problem 7\n",
    "Define a function called _square_ that accepts the integer parameter _num_ and returns the square of _num_.  Define a function called _myMap_ that accepts two arguments: a function _func_ and a list _myList_. The function _myMap_ should map _func_ onto _myList_.  This means that it should call _func_ on each individual element of _myList_ and return a list whose values are the result of the mapping.  "
   ]
  },
  {
   "cell_type": "code",
   "execution_count": 35,
   "metadata": {},
   "outputs": [
    {
     "name": "stdout",
     "output_type": "stream",
     "text": [
      "[1, 4, 9]\n"
     ]
    }
   ],
   "source": [
    "def square(num):\n",
    "    # write your code here\n",
    "    return  num*num#square func\n",
    "\n",
    "def myMap(fn, my_list):\n",
    "    # write your code here    \n",
    "         \n",
    "    newList = []#creates new list\n",
    "    \n",
    "    for eachEle in my_list:#for each element in my_list\n",
    "        newList.append(fn(eachEle))#newList adds fn((square func) * eachEle of my_list\n",
    "        \n",
    "    return newList#returns new squared list\n",
    "    \n",
    "# Do not change the code below\n",
    "my_list = [1,2,3]\n",
    "result = myMap(square, my_list)\n",
    "print(result)"
   ]
  },
  {
   "cell_type": "markdown",
   "metadata": {},
   "source": [
    "<span style=\"color:blue\">Expected output:</span><br/>\n",
    "<span style=\"font: courier; font-size: 13px\">\n",
    "[1, 4, 9]</span>"
   ]
  },
  {
   "cell_type": "markdown",
   "metadata": {},
   "source": [
    "### Problem 8\n",
    "In this problem you are to calculate the largest Scrabble score for a word in a list of words and find the word with the highest Scrabble score.  This problem has the following parts:\n",
    "\n",
    "1. Write the function _computeScrabbleScore_ that accepts the parameter _word_ that returns the Scrabble score for that word. The Scrabble Score for a word is the sum of the value associated with each letter in the word.  The dictionary *letter_values* below has the letter values.\n",
    "\n",
    "2. Write the function _wordScore_ that accepts a list of words as a parameter and builds a dictionary that has the word as the key and the associated Scrabble score of the word as the value.  This function calls computeScrabbleScore to get the score for each word.\n",
    "\n",
    "3.  Write the function _bestWord_ that accepts the dictionary of words and scores and returns the tuple of the word and score of the word with the highest score.  Use the max accumulation pattern to iterate through the dictionary to find the word with the highest score.\n",
    "\n",
    "Note, that *letter_values* has only lower case letters.  You need to allow for uppercase letters.  This means you need to convert upper case letters to lower case before accumulating the Scrabble score for the word. Hint: search for the lower() function for strings."
   ]
  },
  {
   "cell_type": "code",
   "execution_count": 36,
   "metadata": {},
   "outputs": [
    {
     "name": "stdout",
     "output_type": "stream",
     "text": [
      "{'Half': 10, 'a': 1, 'league': 7, 'half': 10, 'onward': 10, 'All': 3, 'in': 2, 'the': 6, 'valley': 16, 'of': 5, 'Death': 9, 'Rode': 5, 'six': 10, 'hundred': 12, 'Forward': 14, 'Light': 9, 'Brigade': 11, 'Charge': 12, 'for': 6, 'guns': 5, 'he': 5, 'said': 5, 'Into': 4}\n",
      "The word with the highest score is valley with a score of 16\n"
     ]
    }
   ],
   "source": [
    "def computeScrabbleScore(word):\n",
    "    letter_values = {'a': 1, 'b': 3, 'c': 3, 'd': 2, 'e': 1, 'f':4, 'g': 2, 'h':4, 'i':1,'j':8, 'k':5,\n",
    "                     'l':1, 'm':3, 'n':1, 'o':1, 'p':3, 'q':10, 'r':1, 's':1, 't':1, 'u':1,'v':8, 'w':4,\n",
    "                     'x':8, 'y':4, 'z':10}\n",
    "    # write your code below\n",
    "    score = 0#initilize score\n",
    "    \n",
    "    for eachChar in word.lower():# for each character in word.lower()\n",
    "        score = score + letter_values[eachChar]#add score of each character from letter_values to score variable\n",
    "    \n",
    "    return score     #returns score\n",
    "\n",
    "def wordScore(word_list):\n",
    "    # write your code below\n",
    "    wordDict = {}#initilize word dictionary\n",
    "    \n",
    "    for eachW in word_list:#for each word in word_list\n",
    "        wordDict[eachW] = computeScrabbleScore(eachW)#wordDict indexes eachW which is the computeScrabbleScore func above\n",
    "        \n",
    "    \n",
    "    return wordDict#returns word dictionary\n",
    "\n",
    "def bestWord(word_dict):\n",
    "    # write your code below\n",
    "    maxTuple = ()#initilizes maxTuple \n",
    "    maxScore = 0#initilizes score\n",
    "    \n",
    "    for eachW in word_dict:#for each word in word_dict\n",
    "        if word_dict[eachW] > maxScore:#if word_dict indexes eachW and its greater than maxScore\n",
    "            maxScore = word_dict[eachW]#makes maxScore that word_dict index\n",
    "            maxTuple = (eachW, maxScore)#maxTuple data\n",
    "    \n",
    "    return maxTuple#returns maxTuple\n",
    "\n",
    "#print(computeScrabbleScore(\"Hello\"))\n",
    "\n",
    "# do not change the code below\n",
    "word_list = ['Half','a','league','half','a','league','Half','a','league','onward',\n",
    "         'All','in','the','valley','of','Death','Rode','the','six','hundred',\n",
    "         'Forward','the','Light','Brigade','Charge','for','the','guns','he','said',\n",
    "         'Into','the','valley','of','Death','Rode','the','six','hundred']\n",
    "wordDict = wordScore(word_list)\n",
    "print(wordDict)\n",
    "best_word = bestWord(wordDict)\n",
    "print(\"The word with the highest score is\",best_word[0],\"with a score of\",best_word[1])"
   ]
  },
  {
   "cell_type": "markdown",
   "metadata": {},
   "source": [
    "<span style=\"color:blue\">Expected output:</span><br/>\n",
    "<span style=\"font: courier; font-size: 13px\">\n",
    "{'Half': 10, 'a': 1, 'league': 7, 'half': 10, 'onward': 10, 'All': 3, 'in': 2, 'the': 6, 'valley': 16, 'of': 5, 'Death': 9, 'Rode': 5, 'six': 10, 'hundred': 12, 'Forward': 14, 'Light': 9, 'Brigade': 11, 'Charge': 12, 'for': 6, 'guns': 5, 'he': 5, 'said': 5, 'Into': 4}<br />\n",
    "The word with the highest score is valley with a score of 16</span>"
   ]
  },
  {
   "cell_type": "markdown",
   "metadata": {},
   "source": [
    "### Problem 9\n",
    "Write the function _scrabbleTuples_ that accepts the list parameter _words_ and uses the _computeScrabbleScore_ function developed earlier to return a list of tuples.  Each element in the list is a tuple that consists of the word and the associated Scrabble score.  However, only words with a score of 8 or greater are returned."
   ]
  },
  {
   "cell_type": "code",
   "execution_count": 42,
   "metadata": {},
   "outputs": [
    {
     "name": "stdout",
     "output_type": "stream",
     "text": [
      "[('python', 14), ('program', 12), ('unix', 11), ('hours', 8), ('syntax', 16)]\n"
     ]
    }
   ],
   "source": [
    "def bestScrabbleTuples(words):\n",
    "    # Write your code here\n",
    "    \n",
    "    myList = []\n",
    "    \n",
    "    for eachW in words:\n",
    "        if computeScrabbleScore(eachW) >= 8:\n",
    "            myList.append((eachW, computeScrabbleScore(eachW)))\n",
    "        \n",
    "    return myList\n",
    "    \n",
    "    \n",
    "# do not change the code below\n",
    "my_words = ['python', 'program', 'list', 'string', 'unix', 'hours', 'syntax', 'error']\n",
    "result = bestScrabbleTuples(my_words)\n",
    "print(result)"
   ]
  },
  {
   "cell_type": "markdown",
   "metadata": {},
   "source": [
    "<span style=\"color:blue\">Expected output:</span><br/>\n",
    "<span style=\"font: courier; font-size: 13px\">\n",
    "[('python', 14), ('program', 12), ('unix', 11), ('hours', 8), ('syntax', 16)]</span>"
   ]
  },
  {
   "cell_type": "markdown",
   "metadata": {},
   "source": [
    "### Problem 10\n",
    "Your code needs to do the following:\n",
    "1. Create a function called _pigLatin_ that accepts  a string of English words in the parameter _sentence_ and returns a string of those words translated into Pig Latin. English is translated to Pig Latin by taking the first letter of every word, moving it to the end of the word and adding ‘ay’. For example the sentence “The quick brown fox” becomes “hetay uickqay rownbay oxfay”.  You may assume the words in the parameter _sentence_ are separated by a space.\n",
    "2. Print the original sentence.\n",
    "3. Print the Pig Latin sentence\n",
    "4. Use the _computeScrabbleScore_ function, developed earlier, to produce a list of tuples of the Pig Latin words and their associated Scrabble scores.\n",
    "5. Print the list of Pig Latin tuples. "
   ]
  },
  {
   "cell_type": "markdown",
   "metadata": {},
   "source": [
    "<span style=\"color:blue\">Expected output:</span><br/>\n",
    "<span style=\"font: courier; font-size: 13px\">\n",
    "The quick brown fox jumps over the lazy dog<br/>\n",
    "heTay uickqay rownbay oxfay umpsjay veroay hetay azylay ogday<br/> \n",
    "[('heTay', 11), ('uickqay', 25), ('rownbay', 15), ('oxfay', 18), ('umpsjay', 21), ('veroay', 16), ('hetay', 11), ('azylay', 21), ('ogday', 10)]</span>"
   ]
  },
  {
   "cell_type": "code",
   "execution_count": 54,
   "metadata": {},
   "outputs": [
    {
     "name": "stdout",
     "output_type": "stream",
     "text": [
      "The quick brown fox jumps over the lazy dog\n",
      "heTay\n",
      "uickqay\n",
      "rownbay\n",
      "oxfay\n",
      "umpsjay\n",
      "veroay\n",
      "hetay\n",
      "azylay\n",
      "ogday\n",
      "heTay uickqay rownbay oxfay umpsjay veroay hetay azylay ogday \n",
      "heTay\n",
      "uickqay\n",
      "rownbay\n",
      "oxfay\n",
      "umpsjay\n",
      "veroay\n",
      "hetay\n",
      "azylay\n",
      "ogday\n",
      "[('heTay', 11), ('uickqay', 25), ('rownbay', 15), ('oxfay', 18), ('umpsjay', 21), ('veroay', 16), ('hetay', 11), ('azylay', 21), ('ogday', 10)]\n"
     ]
    }
   ],
   "source": [
    "def pigLatin(sentence):\n",
    "    # Write your code below\n",
    "    \n",
    "    wList = sentence.split()#splits sentence var and puts it into wList\n",
    "    \n",
    "    newSentence = \"\"#an empty string\n",
    "    \n",
    "    for eachW in wList: #for eachW in wList\n",
    "        print(eachW[1:] + eachW[0] + \"ay\")  #prints each word and adds 'ay' to it\n",
    "        newSentence = newSentence + eachW[1:] + eachW[0] + \"ay\" + \" \" #newSentence contains those words in wList and adds 'ay' and a space to end of each word\n",
    "        \n",
    "    return newSentence#returns newSentence\n",
    "\n",
    "# Use the variable below to test\n",
    "sentence = 'The quick brown fox jumps over the lazy dog'\n",
    "# write your code below\n",
    "print(sentence)\n",
    "print(pigLatin(sentence))\n",
    "\n",
    "\n",
    "\n",
    "myList = []#initilizes myList\n",
    "pigLatinSent = pigLatin(sentence)#pigLatinSent is the product of the function pigLatin with the sentence variable as the argument\n",
    "wList = pigLatinSent.split() #this wList is pigLatinSent split\n",
    "\n",
    "for eachW in wList:#for each word in wList\n",
    "        myList.append((eachW, computeScrabbleScore(eachW)))#myList adds the word and computes the scrabble score of that word\n",
    "print(myList)#prints myList updated\n",
    "\n",
    "\n",
    "\n"
   ]
  },
  {
   "cell_type": "code",
   "execution_count": 56,
   "metadata": {},
   "outputs": [],
   "source": [
    "import unittest\n",
    "\n",
    "class PS05_01 (unittest.TestCase):\n",
    "    def test_problem01(self):\n",
    "        self.assertEqual(isFactor(20,10), True)\n",
    "        self.assertEqual(isFactor(20,11), False)\n",
    "class PS05_02 (unittest.TestCase):\n",
    "    def test_problem02(self):\n",
    "        s = 'a,b'\n",
    "        s = changeColors(s)\n",
    "        self.assertEqual(s,'a,b,orange')\n",
    "class PS05_03 (unittest.TestCase):\n",
    "    def test_problem03(self):\n",
    "        l = ['a','b','c']\n",
    "        removeColor('b',l)\n",
    "        self.assertEqual(l, ['a','c'])\n",
    "        l = ['a','b','c']\n",
    "        removeColor('z',l)        \n",
    "        self.assertEqual(l, ['a','b','c'])\n",
    "class PS05_04 (unittest.TestCase):\n",
    "    def test_problem04(self):\n",
    "        d = {'a':11, 'b':21, 'c':31}\n",
    "        self.assertEqual(getValues(d), [11,21,31])\n",
    "class PS05_05 (unittest.TestCase):\n",
    "    def test_problem05(self):\n",
    "        l = [10,5,13,2]\n",
    "        self.assertEqual(maxInList(l), 13)\n",
    "        l = []\n",
    "        self.assertEqual(maxInList(l), False)\n",
    "class PS05_06 (unittest.TestCase):\n",
    "    def test_problem06(self):\n",
    "        s = 'Able amy August Bus Board burn'\n",
    "        r = {'a': ['Able', 'amy', 'August'], 'b': ['Bus', 'Board', 'burn']}\n",
    "        self.assertEqual(wordsStartingWith(s), r)\n",
    "class PS05_07 (unittest.TestCase):\n",
    "    def test_problem07(self):\n",
    "        l = [2,4,6]\n",
    "        self.assertEqual(myMap(square,l), [4,16,36])\n",
    "class PS05_08 (unittest.TestCase):\n",
    "    def test_problem08(self):\n",
    "        l = ['Half','a','mile']\n",
    "        d = wordScore(l)\n",
    "        self.assertEqual(d, {'Half': 10, 'a': 1, 'mile': 6})\n",
    "        t = bestWord(d)\n",
    "        self.assertEqual(t[0],'Half')\n",
    "        self.assertEqual(t[1],10)\n",
    "class PS05_09 (unittest.TestCase):\n",
    "    def test_problem09(self):\n",
    "        my_words = ['python', 'program', 'list']\n",
    "        result = bestScrabbleTuples(my_words)\n",
    "        self.assertEqual(result,[('python', 14), ('program', 12)])\n",
    "class PS05_10 (unittest.TestCase):\n",
    "    def test_problem10(self):\n",
    "        s = 'The quick brown'\n",
    "        pl_s = pigLatin(s)\n",
    "        if pl_s[-1] == \" \":\n",
    "            pl_s = pl_s[0:-1]\n",
    "        self.assertEqual(pl_s, \"heTay uickqay rownbay\")  "
   ]
  },
  {
   "cell_type": "code",
   "execution_count": 57,
   "metadata": {},
   "outputs": [
    {
     "name": "stderr",
     "output_type": "stream",
     "text": [
      "test_problem01 (__main__.PS05_01) ... ERROR\n",
      "test_problem02 (__main__.PS05_02) ... ERROR\n",
      "test_problem03 (__main__.PS05_03) ... ERROR\n",
      "test_problem04 (__main__.PS05_04) ... ERROR\n",
      "test_problem05 (__main__.PS05_05) ... ERROR\n",
      "test_problem06 (__main__.PS05_06) ... ok\n",
      "test_problem07 (__main__.PS05_07) ... ok\n",
      "test_problem08 (__main__.PS05_08) ... ok\n",
      "test_problem09 (__main__.PS05_09) ... ok\n",
      "test_problem10 (__main__.PS05_10) ... "
     ]
    },
    {
     "name": "stdout",
     "output_type": "stream",
     "text": [
      "heTay\n",
      "uickqay\n",
      "rownbay\n"
     ]
    },
    {
     "name": "stderr",
     "output_type": "stream",
     "text": [
      "ok\n",
      "\n",
      "======================================================================\n",
      "ERROR: test_problem01 (__main__.PS05_01)\n",
      "----------------------------------------------------------------------\n",
      "Traceback (most recent call last):\n",
      "  File \"<ipython-input-56-f49159a7efe1>\", line 5, in test_problem01\n",
      "    self.assertEqual(isFactor(20,10), True)\n",
      "NameError: name 'isFactor' is not defined\n",
      "\n",
      "======================================================================\n",
      "ERROR: test_problem02 (__main__.PS05_02)\n",
      "----------------------------------------------------------------------\n",
      "Traceback (most recent call last):\n",
      "  File \"<ipython-input-56-f49159a7efe1>\", line 10, in test_problem02\n",
      "    s = changeColors(s)\n",
      "NameError: name 'changeColors' is not defined\n",
      "\n",
      "======================================================================\n",
      "ERROR: test_problem03 (__main__.PS05_03)\n",
      "----------------------------------------------------------------------\n",
      "Traceback (most recent call last):\n",
      "  File \"<ipython-input-56-f49159a7efe1>\", line 15, in test_problem03\n",
      "    removeColor('b',l)\n",
      "NameError: name 'removeColor' is not defined\n",
      "\n",
      "======================================================================\n",
      "ERROR: test_problem04 (__main__.PS05_04)\n",
      "----------------------------------------------------------------------\n",
      "Traceback (most recent call last):\n",
      "  File \"<ipython-input-56-f49159a7efe1>\", line 23, in test_problem04\n",
      "    self.assertEqual(getValues(d), [11,21,31])\n",
      "NameError: name 'getValues' is not defined\n",
      "\n",
      "======================================================================\n",
      "ERROR: test_problem05 (__main__.PS05_05)\n",
      "----------------------------------------------------------------------\n",
      "Traceback (most recent call last):\n",
      "  File \"<ipython-input-56-f49159a7efe1>\", line 27, in test_problem05\n",
      "    self.assertEqual(maxInList(l), 13)\n",
      "NameError: name 'maxInList' is not defined\n",
      "\n",
      "----------------------------------------------------------------------\n",
      "Ran 10 tests in 0.010s\n",
      "\n",
      "FAILED (errors=5)\n"
     ]
    },
    {
     "data": {
      "text/plain": [
       "<unittest.main.TestProgram at 0x7fc48ce44eb8>"
      ]
     },
     "execution_count": 57,
     "metadata": {},
     "output_type": "execute_result"
    }
   ],
   "source": [
    "unittest.main(argv=['first-arg-is-ignored'], exit=False, verbosity=2)"
   ]
  },
  {
   "cell_type": "code",
   "execution_count": null,
   "metadata": {},
   "outputs": [],
   "source": []
  },
  {
   "cell_type": "code",
   "execution_count": null,
   "metadata": {},
   "outputs": [],
   "source": []
  }
 ],
 "metadata": {
  "kernelspec": {
   "display_name": "Python 3",
   "language": "python",
   "name": "python3"
  },
  "language_info": {
   "codemirror_mode": {
    "name": "ipython",
    "version": 3
   },
   "file_extension": ".py",
   "mimetype": "text/x-python",
   "name": "python",
   "nbconvert_exporter": "python",
   "pygments_lexer": "ipython3",
   "version": "3.8.8"
  }
 },
 "nbformat": 4,
 "nbformat_minor": 2
}
