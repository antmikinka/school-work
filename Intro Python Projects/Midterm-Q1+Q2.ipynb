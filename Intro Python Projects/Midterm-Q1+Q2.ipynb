{
 "cells": [
  {
   "cell_type": "code",
   "execution_count": 13,
   "metadata": {},
   "outputs": [
    {
     "name": "stdout",
     "output_type": "stream",
     "text": [
      "8\n"
     ]
    }
   ],
   "source": [
    "def longest_word_length(string):\n",
    "    split = string.split()\n",
    "    max = 0\n",
    "    \n",
    "    for word in split:\n",
    "        if len(word) > max:\n",
    "            max = len(word)\n",
    "        \n",
    "    return max\n",
    "\n",
    "print(longest_word_length(\"This is a sentence\"))\n"
   ]
  },
  {
   "cell_type": "code",
   "execution_count": 14,
   "metadata": {},
   "outputs": [
    {
     "name": "stdout",
     "output_type": "stream",
     "text": [
      "{'it': 3, 'is': 3, 'what': 2, 'and': 1, 'only': 1}\n"
     ]
    }
   ],
   "source": [
    "def word_freq(s):\n",
    "    word_dict = {}\n",
    "    \n",
    "    for word in s.split():\n",
    "        if word not in word_dict:\n",
    "            word_dict[word] = 0\n",
    "        word_dict[word] += 1\n",
    "        \n",
    "    return word_dict\n",
    "\n",
    "s = 'it is what it is and only what it is'\n",
    "\n",
    "print(word_freq(s))\n"
   ]
  },
  {
   "cell_type": "code",
   "execution_count": null,
   "metadata": {},
   "outputs": [],
   "source": []
  }
 ],
 "metadata": {
  "kernelspec": {
   "display_name": "Python 3",
   "language": "python",
   "name": "python3"
  },
  "language_info": {
   "codemirror_mode": {
    "name": "ipython",
    "version": 3
   },
   "file_extension": ".py",
   "mimetype": "text/x-python",
   "name": "python",
   "nbconvert_exporter": "python",
   "pygments_lexer": "ipython3",
   "version": "3.8.8"
  }
 },
 "nbformat": 4,
 "nbformat_minor": 2
}
