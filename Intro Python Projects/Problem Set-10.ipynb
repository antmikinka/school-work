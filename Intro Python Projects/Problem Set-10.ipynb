{
 "cells": [
  {
   "cell_type": "markdown",
   "metadata": {},
   "source": [
    "## <span style=\"color:blue\">Problem Set 10</span>"
   ]
  },
  {
   "cell_type": "markdown",
   "metadata": {},
   "source": [
    "### Overview\n",
    "In this problem set will introduce you to classes and objects (instances).  You will create the classes and subclasses below in an incremental fashion.  The objective is to provide you with a better understanding of the object-oriented programming.\n",
    "\n",
    "- Book\n",
    "  - subclass PaperBook\n",
    "  - subclass ElectronicBook\n",
    "- Library\n",
    "\n",
    "A Library instance will keep track of a list of book instances that are owned by that Library.\n",
    "A Book instance will keep track of whether it's currently checked out."
   ]
  },
  {
   "cell_type": "markdown",
   "metadata": {},
   "source": [
    "### PROBLEM 1\n",
    "Define a class named *Book*. Each instance of Book should have three\n",
    "instance variables: \n",
    "- title\n",
    "- author\n",
    "- checked_out. \n",
    "\n",
    "The Book constructor takes two formal parameters: *title* and *author*. Use these parameters to initialize instance variables *title* and *author* respectively.  The third instance variable, *checked_out*, must be initialized to False."
   ]
  },
  {
   "cell_type": "code",
   "execution_count": 158,
   "metadata": {},
   "outputs": [],
   "source": [
    "class Book:\n",
    "    def __init__(self, title, author):\n",
    "        self.title = title\n",
    "        self.author = author\n",
    "        self.checked_out = False\n",
    "    \n",
    "    def checkOut(self):\n",
    "        self.checked_out = True\n",
    "        \n",
    "    def checkIn(self, library):\n",
    "        if library.willAccept(self) == True:\n",
    "            self.checked_out = False\n",
    "            \n",
    "    def canCheckOut(self):\n",
    "        return not self.checked_out\n",
    "    "
   ]
  },
  {
   "cell_type": "code",
   "execution_count": 159,
   "metadata": {},
   "outputs": [
    {
     "name": "stdout",
     "output_type": "stream",
     "text": [
      "The book title is Kokoro\n",
      "The author of the book is Natsume Souseki\n",
      "The book is not checked out\n",
      "<__main__.Book object at 0x7fa6587e0a90>\n"
     ]
    }
   ],
   "source": [
    "# Use this cell to test the Book class\n",
    "mybook = Book('Kokoro','Natsume Souseki')\n",
    "print('The book title is',mybook.title)\n",
    "print('The author of the book is',mybook.author)\n",
    "if mybook.checked_out == False:\n",
    "    v = 'is not'\n",
    "else:\n",
    "    v = 'is'\n",
    "print('The book',v,'checked out')\n",
    "print(mybook)"
   ]
  },
  {
   "cell_type": "markdown",
   "metadata": {},
   "source": [
    "<span style=\"color:blue\">Expected output:</span><br/>\n",
    "<span style=\"font: courier; font-size: 13px\">\n",
    "The book title is Kokoro<br/>\n",
    "The author of the book is Natsume Souseki<br/>\n",
    "The book is not checked out<br/>\n",
    "<\\__main\\__.Book object at 0x009715F0><br/>\n",
    "When the book object is printed, an object reference is printed since there is no *\\__str\\__* method.  Your object reference will be different than the one shown here.</span>   "
   ]
  },
  {
   "cell_type": "markdown",
   "metadata": {},
   "source": [
    "### PROBLEM 2\n",
    "When objects are printed, python calls the *\\__str\\__* method.  This method should return relevant information about the object. Add an *\\__str\\__* class to the Book class in the cell above.  This method returns the string *\"{self.title} by {self.author}\"*."
   ]
  },
  {
   "cell_type": "code",
   "execution_count": 160,
   "metadata": {},
   "outputs": [
    {
     "name": "stdout",
     "output_type": "stream",
     "text": [
      "The book title is Kokoro\n",
      "The author of the book is Natsume Souseki\n",
      "The book is not checked out\n",
      "<__main__.Book object at 0x7fa6587e0550>\n"
     ]
    }
   ],
   "source": [
    "# Use this cell to verify that the __str__ method of the Book class is working correctly\n",
    "mybook = Book('Kokoro','Natsume Souseki')\n",
    "\n",
    "print('The book title is',mybook.title)\n",
    "print('The author of the book is',mybook.author)\n",
    "\n",
    "if mybook.checked_out == False:\n",
    "    v = 'is not'\n",
    "else:\n",
    "    v = 'is'\n",
    "    \n",
    "print('The book',v,'checked out')\n",
    "print(mybook)"
   ]
  },
  {
   "cell_type": "markdown",
   "metadata": {},
   "source": [
    "<span style=\"color:blue\">Expected output:</span><br/>\n",
    "<span style=\"font: courier; font-size: 13px\">\n",
    "The book title is Kokoro<br/>\n",
    "The author of the book is Natsume Souseki<br/>\n",
    "The book is not checked out<br/>\n",
    "Kokoro by Natsume Souseki</span> "
   ]
  },
  {
   "cell_type": "markdown",
   "metadata": {},
   "source": [
    "### PROBLEM 3\n",
    "Create a class named Library. This class has two instance variables:\n",
    "- books: which is initialized to an empty list \n",
    "- tornPageTolerance: which is initialized to 5 \n",
    "\n",
    "The constructor for Library does not require any arguments other than self."
   ]
  },
  {
   "cell_type": "code",
   "execution_count": 161,
   "metadata": {},
   "outputs": [],
   "source": [
    "class Library:\n",
    "    def __init__(self):\n",
    "        self.books = []\n",
    "        self.tornPageTolerance = 10\n",
    "        \n",
    "    def addBook(self, book):\n",
    "        self.books.append(book)\n",
    "        \n",
    "    def findBooksBy(self, author):\n",
    "        return [x for x in self.books if author == x.author]\n",
    "    \n",
    "    def willAccept(self, book):\n",
    "        if isinstance(book, PaperBook):\n",
    "            if book.numTornPages < self.tornPageTolerance:\n",
    "                return True\n",
    "            \n",
    "            else:\n",
    "                return True\n",
    "            "
   ]
  },
  {
   "cell_type": "code",
   "execution_count": 162,
   "metadata": {},
   "outputs": [
    {
     "name": "stdout",
     "output_type": "stream",
     "text": [
      "<__main__.Library object at 0x7fa65880bb00>\n"
     ]
    }
   ],
   "source": [
    "# Use this cell to test the Library class\n",
    "mylibrary = Library()\n",
    "print (mylibrary)"
   ]
  },
  {
   "cell_type": "markdown",
   "metadata": {},
   "source": [
    "<span style=\"color:blue\">Sample output:</span><br/>\n",
    "<span style=\"font: courier; font-size: 13px\">\n",
    "<\\__main\\__.Library object at 0x7fe5b42604a8><br/>\n",
    "The reference address of your Library object will be different</span> "
   ]
  },
  {
   "cell_type": "markdown",
   "metadata": {},
   "source": [
    "### PROBLEM 4\n",
    "Navigate back up to the cell containing the Library class and add the methods below.  After you add the methods make sure you run the cell. \n",
    "\n",
    "- addBook\n",
    "  1. Accepts the parameter *book* which is an instance of Book\n",
    "  2. Append *book* to *self.books*\n",
    "  3. Returns nothing\n",
    "  \n",
    "  \n",
    "- findBooksBy\n",
    "  1. Accepts the string formal parameter author\n",
    "  2. Searchs the list *self.books*\n",
    "  3. Returns a list of all books whose author attribute matches the author parameter. \n"
   ]
  },
  {
   "cell_type": "code",
   "execution_count": 163,
   "metadata": {},
   "outputs": [
    {
     "name": "stdout",
     "output_type": "stream",
     "text": [
      "Books by James Michener\n",
      "   Chesapeake\n",
      "   Hawaii\n",
      "Books by James Baldwin\n",
      "   Another Country\n",
      "   Go Tell It to the Mountain\n"
     ]
    }
   ],
   "source": [
    "# Use this cell to test the addBook and findBooksBy emthods\n",
    "books =[('Chesapeake','James A Michener'),('A Wild Sheep Chase', 'Murakami Haruki'),\n",
    "    ('Kappa', 'Akutagawa Ryuunosuke'),('Hawaii', 'James A Michener'),\n",
    "    ('Another Country', 'James Baldwin'),('Go Tell It to the Mountain', 'James Baldwin'),\n",
    "    ('Jane Eyre', 'Charlotte Bronte')]\n",
    " \n",
    "mylibrary = Library()\n",
    "for book in books:\n",
    "    mybook = Book(book[0],book[1])\n",
    "    mylibrary.addBook(mybook)\n",
    "\n",
    "print('Books by James Michener')        \n",
    "for book in mylibrary.findBooksBy(\"James A Michener\"):\n",
    "    print('  ',book.title)\n",
    "\n",
    "print('Books by James Baldwin')\n",
    "for book in mylibrary.findBooksBy(\"James Baldwin\"):\n",
    "    print('  ',book.title)"
   ]
  },
  {
   "cell_type": "markdown",
   "metadata": {},
   "source": [
    "<span style=\"color:blue\">Expected output:</span><br/>\n",
    "<span style=\"font: courier; font-size: 13px\">\n",
    "Books by James Michener<br/>\n",
    "&nbsp;&nbsp;&nbsp;Chesapeake<br/>\n",
    "&nbsp;&nbsp;&nbsp;Hawaii<br/>\n",
    "Books by James Baldwin<br/>\n",
    "&nbsp;&nbsp;&nbsp;Another Country<br/>\n",
    "&nbsp;&nbsp;&nbsp;Go Tell It to the Mountain</span> "
   ]
  },
  {
   "cell_type": "markdown",
   "metadata": {},
   "source": [
    "### PROBLEM 5\n",
    "Define a subclass of Book called *PaperBook*. Since Paperbook is a subclass of Books, it automatically inherits the attributes and methods of the class Book.  The PaperBook class has the following characteristics:\n",
    "\n",
    "- Add a constructor:\n",
    "  1. The constructor accepts the formal parameters title and author.\n",
    "  2. There is no need to explicitly define or initialize title and author in the constructor. Just call the Book constructor with the parameters title and author.\n",
    "  3. Add an attribute called *numTornPages* and initialize it to 0.\n",
    "\n",
    "\n",
    "- Add a method *ripPage*\n",
    "  1. Increments numTornPages by 1\n",
    "  \n",
    "  \n",
    "- Add an *\\__str\\__* method\n",
    "  1. Returns the string self.title + \" by \" + self.author + \", \"+ self.numTornPages +\" torn page(s)\"\n"
   ]
  },
  {
   "cell_type": "code",
   "execution_count": 164,
   "metadata": {},
   "outputs": [],
   "source": [
    "class PaperBook(Book):\n",
    "    def __init__(self, title, author):\n",
    "        self.title = title\n",
    "        self.author = author\n",
    "        self.checked_out = False\n",
    "        self.numTornPages = 0\n",
    "    \n",
    "    def ripPage(self):\n",
    "        self.numTornPages += 1\n",
    "        \n",
    "    def __str__(self):\n",
    "        return  \"{} by {}, {} torn page(s)\".format(self.title, self.author, self.numTornPages)\n",
    "   "
   ]
  },
  {
   "cell_type": "code",
   "execution_count": 165,
   "metadata": {},
   "outputs": [
    {
     "name": "stdout",
     "output_type": "stream",
     "text": [
      "Snow Country by Kawabata Yasunari, 0 torn page(s)\n",
      "Snow Country by Kawabata Yasunari, 1 torn page(s)\n"
     ]
    }
   ],
   "source": [
    "# Use this cell to these the PaperBook class\n",
    "paperbook = PaperBook('Snow Country','Kawabata Yasunari')\n",
    "print (paperbook)\n",
    "paperbook.ripPage()\n",
    "print(paperbook)"
   ]
  },
  {
   "cell_type": "markdown",
   "metadata": {},
   "source": [
    "<span style=\"color:blue\">Expected output:</span><br/>\n",
    "<span style=\"font: courier; font-size: 13px\">\n",
    "Snow Country by Kawabata Yasunari, 0 torn page(s)<br/>\n",
    "Snow Country by Kawabata Yasunari, 1 torn page(s)</span> "
   ]
  },
  {
   "cell_type": "markdown",
   "metadata": {},
   "source": [
    "### PROBLEM 6\n",
    "Define subclass of Book called *ElectronicBook*. ElectronicBook will inherit from Book. Add the method below:\n",
    "\n",
    "```\n",
    "def canCheckOut(self): \n",
    "   return True\n",
    "```\n",
    "\n",
    "There is no need to add a constructor since ElectronicBook inherited the Book constructor.  The one difference between the ElectronicBook and PaperBook classes is that PaperBook has the instance variable *num_torn_pages*.  As a result, we had to define a constructor and initialize *title* and *author* by explicitly calling the Book constructor.  Since there are no instance variables for ElectronicBook there is no need to define the constructor because it is inherited. "
   ]
  },
  {
   "cell_type": "code",
   "execution_count": 166,
   "metadata": {},
   "outputs": [],
   "source": [
    "class ElectronicBook(Book):\n",
    "# add your code here\n",
    "\n",
    "    def __init__(self, title, author):\n",
    "        self.title = title\n",
    "        self.author = author\n",
    "        self.checked_out = False\n",
    "        \n",
    "    def checkOut(self):\n",
    "        self.checked_out = True\n",
    "        \n",
    "    def checkIn(self, library):\n",
    "        if library.willAccept(self) == True:\n",
    "            self.checked_out = False\n",
    "            \n",
    "    def canCheckOut(self):\n",
    "        return not self.checked_out\n",
    "        \n",
    "    def __str__(self):\n",
    "        return  \"{} by {}\".format(self.title, self.author)\n"
   ]
  },
  {
   "cell_type": "code",
   "execution_count": 167,
   "metadata": {},
   "outputs": [
    {
     "name": "stdout",
     "output_type": "stream",
     "text": [
      "Pride and Prejudice and Zombies by Seth Grahame-Smith\n",
      "True\n"
     ]
    }
   ],
   "source": [
    "# Use this code to test the ElectronicBook class.\n",
    "ebook = ElectronicBook('Pride and Prejudice and Zombies',\"Seth Grahame-Smith\")\n",
    "print(ebook)\n",
    "print(ebook.canCheckOut())"
   ]
  },
  {
   "cell_type": "markdown",
   "metadata": {},
   "source": [
    "<span style=\"color:blue\">Expected output:</span><br/>\n",
    "<span style=\"font: courier; font-size: 13px\">\n",
    "Pride and Prejudice and Zombies by Seth Grahame-Smith<br/>\n",
    "True</span> "
   ]
  },
  {
   "cell_type": "markdown",
   "metadata": {},
   "source": [
    "### PROBLEM 7\n",
    "Add mechanisms for checking books out of and into libraries. Navigate back up to the Library class and add the *willAccept* method as define below.  Remember to run the cell containing the Library class. \n",
    "\n",
    "- willAccept\n",
    "  1. Accepts the formal parameter *book* (which should be a PaperBook object) \n",
    "  2. Use the *isinstance* function to check that *book* is a PaperBook instance. If it is, return True if and only if the book has fewer torn pages library's tolerance level defined by the Library attribute *tornPageTolerance* .\n",
    "  3. If the book is NOT a PaperBook instance, return True."
   ]
  },
  {
   "cell_type": "code",
   "execution_count": 168,
   "metadata": {},
   "outputs": [
    {
     "name": "stdout",
     "output_type": "stream",
     "text": [
      "Pride and Prejudice and Zombies has 0 torn pages so it has been accepted at the Library\n",
      "Pride and Prejudice and Zombies has 6 torn pages so it has not been accepted at the Library\n"
     ]
    }
   ],
   "source": [
    "# Use this code to test the willAccept method when within the torn page limit.\n",
    "pbook = PaperBook('Pride and Prejudice and Zombies',\"Seth Grahame-Smith\")\n",
    "mylibrary = Library()\n",
    "\n",
    "result = mylibrary.willAccept(pbook)\n",
    "\n",
    "print(pbook.title,'has',pbook.numTornPages,'torn pages',end=' ')\n",
    "\n",
    "if pbook.numTornPages == 0:\n",
    "    print('so it has been accepted at the Library')\n",
    "    \n",
    "else:\n",
    "    print('so it has not been accepted at the Library')\n",
    "    \n",
    "# Test when the torn page limit is exceeded\n",
    "for i in range(0,6):\n",
    "    pbook.ripPage()\n",
    "    \n",
    "mylibrary = Library()\n",
    "result = mylibrary.willAccept(pbook)\n",
    "\n",
    "print(pbook.title,'has',pbook.numTornPages,'torn pages',end=' ')\n",
    "\n",
    "if pbook.numTornPages == 0:\n",
    "    print('so it has been accepted at the Library')\n",
    "    \n",
    "else:\n",
    "    print('so it has not been accepted at the Library')"
   ]
  },
  {
   "cell_type": "markdown",
   "metadata": {},
   "source": [
    "<span style=\"color:blue\">Expected output:</span><br/>\n",
    "<span style=\"font: courier; font-size: 13px\">\n",
    "Pride and Prejudice and Zombies has 0 torn pages so it has been accepted at the Library<br/>\n",
    "Pride and Prejudice and Zombies has 6 torn pages so it has been not accepted at the Library</span> "
   ]
  },
  {
   "cell_type": "markdown",
   "metadata": {},
   "source": [
    "### PROBLEM 8\n",
    "Navigate back to the cell containing the Book class and add the methods below.  There is no need to modify PaperBook or ElectronicBook.\n",
    "\n",
    "- checkOut \n",
    "  1. Accepts no arguments\n",
    "  2. Sets the current book's(self) *checked_out* attribute to True\n",
    "  \n",
    "  \n",
    "- checkIn \n",
    "  1. Accepts the formal parameter *library* which should be a Library instance \n",
    "  2. Call the library's *willAccept()*  method with the current book(self)\n",
    "  3. If the library will accept it, set the *checked_out* attribute of the book to False\n",
    "  4. Otherwise, do not modify it.\n",
    "  \n",
    "  \n",
    "- canCheckOut\n",
    "  1. Accepts no arguments\n",
    "  2. if the *checked_out* attribute is False return True\n",
    "  3. Otherwise return False"
   ]
  },
  {
   "cell_type": "code",
   "execution_count": 169,
   "metadata": {},
   "outputs": [
    {
     "name": "stdout",
     "output_type": "stream",
     "text": [
      "Pride and Prejudice and Zombies can be checked out\n",
      "Pride and Prejudice and Zombies cannot be checked out\n",
      "Pride and Prejudice and Zombies can be checked out\n"
     ]
    }
   ],
   "source": [
    "# Use this code to test the above emthods.\n",
    "pbook = PaperBook('Pride and Prejudice and Zombies',\"Seth Grahame-Smith\")\n",
    "mylibrary = Library()\n",
    "\n",
    "if pbook.canCheckOut() == True:\n",
    "    can = 'can'\n",
    "else:\n",
    "    can = 'cannot'\n",
    "    \n",
    "print(pbook.title,can,'be checked out')\n",
    "\n",
    "pbook.checkOut()\n",
    "\n",
    "if pbook.canCheckOut() == True:\n",
    "    can = 'can'\n",
    "    \n",
    "else:\n",
    "    can = 'cannot'\n",
    "    \n",
    "print(pbook.title,can,'be checked out')\n",
    "\n",
    "pbook.checkIn(mylibrary)\n",
    "\n",
    "if pbook.canCheckOut() == True:\n",
    "    can = 'can'\n",
    "    \n",
    "else:\n",
    "    can = 'cannot'\n",
    "    \n",
    "print(pbook.title,can,'be checked out')"
   ]
  },
  {
   "cell_type": "markdown",
   "metadata": {},
   "source": [
    "<span style=\"color:blue\">Expected output:</span><br/>\n",
    "<span style=\"font: courier; font-size: 13px\">\n",
    "Pride and Prejudice and Zombies can be checked out<br/>\n",
    "Pride and Prejudice and Zombies cannot be checked out<br/>\n",
    "Pride and Prejudice and Zombies can be checked out</span> "
   ]
  },
  {
   "cell_type": "markdown",
   "metadata": {},
   "source": [
    "### PROBLEM 9\n",
    "Navigate back up to the cell containing the Library class. Add the method below to the Library class.. Remember to run the cell after you add the method.\n",
    "\n",
    "- getBooksYouCanCheckOut\n",
    "  1. Accepts no arguments \n",
    "  2. Return a list containing every book in the library that can be checked out. "
   ]
  },
  {
   "cell_type": "code",
   "execution_count": 170,
   "metadata": {},
   "outputs": [
    {
     "ename": "AttributeError",
     "evalue": "'Library' object has no attribute 'getBooksYouCanCheckOut'",
     "output_type": "error",
     "traceback": [
      "\u001b[0;31m---------------------------------------------------------------------------\u001b[0m",
      "\u001b[0;31mAttributeError\u001b[0m                            Traceback (most recent call last)",
      "\u001b[0;32m<ipython-input-170-92a5b5dedb40>\u001b[0m in \u001b[0;36m<module>\u001b[0;34m\u001b[0m\n\u001b[1;32m      5\u001b[0m \u001b[0mbook\u001b[0m \u001b[0;34m=\u001b[0m \u001b[0mBook\u001b[0m\u001b[0;34m(\u001b[0m\u001b[0;34m'Abraham Lincoln:Vampire Hunter'\u001b[0m\u001b[0;34m,\u001b[0m\u001b[0;34m\"Seth Grahame-Smith\"\u001b[0m\u001b[0;34m)\u001b[0m\u001b[0;34m\u001b[0m\u001b[0;34m\u001b[0m\u001b[0m\n\u001b[1;32m      6\u001b[0m \u001b[0mmylibrary\u001b[0m\u001b[0;34m.\u001b[0m\u001b[0maddBook\u001b[0m\u001b[0;34m(\u001b[0m\u001b[0mbook\u001b[0m\u001b[0;34m)\u001b[0m\u001b[0;34m\u001b[0m\u001b[0;34m\u001b[0m\u001b[0m\n\u001b[0;32m----> 7\u001b[0;31m \u001b[0;32mfor\u001b[0m \u001b[0mbook\u001b[0m \u001b[0;32min\u001b[0m \u001b[0mmylibrary\u001b[0m\u001b[0;34m.\u001b[0m\u001b[0mgetBooksYouCanCheckOut\u001b[0m\u001b[0;34m(\u001b[0m\u001b[0;34m)\u001b[0m\u001b[0;34m:\u001b[0m\u001b[0;34m\u001b[0m\u001b[0;34m\u001b[0m\u001b[0m\n\u001b[0m\u001b[1;32m      8\u001b[0m     \u001b[0mprint\u001b[0m\u001b[0;34m(\u001b[0m\u001b[0mbook\u001b[0m\u001b[0;34m.\u001b[0m\u001b[0mtitle\u001b[0m\u001b[0;34m)\u001b[0m\u001b[0;34m\u001b[0m\u001b[0;34m\u001b[0m\u001b[0m\n\u001b[1;32m      9\u001b[0m \u001b[0mprint\u001b[0m\u001b[0;34m(\u001b[0m\u001b[0;34m)\u001b[0m\u001b[0;34m\u001b[0m\u001b[0;34m\u001b[0m\u001b[0m\n",
      "\u001b[0;31mAttributeError\u001b[0m: 'Library' object has no attribute 'getBooksYouCanCheckOut'"
     ]
    }
   ],
   "source": [
    "# Use this cell to test the getBooksYouCanCheckOut method\n",
    "mylibrary = Library()\n",
    "book = Book('Pride and Prejudice and Zombies',\"Seth Grahame-Smith\")\n",
    "mylibrary.addBook(book)\n",
    "book = Book('Abraham Lincoln:Vampire Hunter',\"Seth Grahame-Smith\")\n",
    "mylibrary.addBook(book)\n",
    "for book in mylibrary.getBooksYouCanCheckOut():\n",
    "    print(book.title)\n",
    "print()\n",
    "mylibrary = Library()\n",
    "book = Book('Pride and Prejudice and Zombies',\"Seth Grahame-Smith\")\n",
    "mylibrary.addBook(book)\n",
    "book = Book('Abraham Lincoln:Vampire Hunter',\"Seth Grahame-Smith\")\n",
    "book.checkOut()\n",
    "mylibrary.addBook(book)\n",
    "for book in mylibrary.getBooksYouCanCheckOut():\n",
    "    print(book.title)"
   ]
  },
  {
   "cell_type": "markdown",
   "metadata": {},
   "source": [
    "<span style=\"color:blue\">Expected output:</span><br/>\n",
    "<span style=\"font: courier; font-size: 13px\">\n",
    "Pride and Prejudice and Zombies<br/>\n",
    "Abraham Lincoln:Vampire Hunter<br/><br/>\n",
    "Pride and Prejudice and Zombies</span> "
   ]
  },
  {
   "cell_type": "markdown",
   "metadata": {},
   "source": [
    "### PROBLEM 10\n",
    "Do the following: \n",
    "\n",
    "- Create a Library instance called baileyLibrary\n",
    "- Using the list paperbook_titles, create a list of Book instances called paperBooks\n",
    "- Add to Book instances in paperBooks to baileyLibrary\n",
    "- Print the titles of books in the baileyLibrary authored by Steven Pinker\n"
   ]
  },
  {
   "cell_type": "code",
   "execution_count": 14,
   "metadata": {},
   "outputs": [],
   "source": [
    "paperbook_titles = [('How the Mind Works', 'Steven Pinker'),\n",
    "        ('Always Leading, Forever Valiant', 'Kim Clarke'),\n",
    "        ('The Language Instinct: How the Mind Creates Language', 'Steven Pinker'),\n",
    "        ('The Last Lecture', 'Randy Pausch'),\n",
    "        ('The Stuff of Thought: Language as a Window into Human Nature', 'Steven Pinker')]\n",
    "# write your code below\n"
   ]
  },
  {
   "cell_type": "markdown",
   "metadata": {},
   "source": [
    "<span style=\"color:blue\">Expected output:</span><br/>\n",
    "<span style=\"font: courier; font-size: 13px\">\n",
    "Books authored by Steven Pinker:<br/>\n",
    "How the Mind Works<br/>\n",
    "The Language Instinct: How the Mind Creates Language<br/>\n",
    "The Stuff of Thought: Language as a Window into Human Nature</span> "
   ]
  }
 ],
 "metadata": {
  "kernelspec": {
   "display_name": "Python 3",
   "language": "python",
   "name": "python3"
  },
  "language_info": {
   "codemirror_mode": {
    "name": "ipython",
    "version": 3
   },
   "file_extension": ".py",
   "mimetype": "text/x-python",
   "name": "python",
   "nbconvert_exporter": "python",
   "pygments_lexer": "ipython3",
   "version": "3.8.8"
  }
 },
 "nbformat": 4,
 "nbformat_minor": 2
}
