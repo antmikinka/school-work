{
 "cells": [
  {
   "cell_type": "markdown",
   "metadata": {},
   "source": [
    "## Problem Set 6"
   ]
  },
  {
   "cell_type": "markdown",
   "metadata": {},
   "source": [
    "### Problem 1\n",
    "Write a while loop that does the following:\n",
    "1. Prompts the user for a number.\n",
    "2. If the number is greater than 255, terminate the loop.\n",
    "3. If the number is less than 33 or greater than 126, print an error message.\n",
    "4. Use the chr function to convert the number to an ASCII printable character.\n",
    "5. Print the character."
   ]
  },
  {
   "cell_type": "code",
   "execution_count": null,
   "metadata": {},
   "outputs": [],
   "source": [
    "\n",
    "while True:#while true loop\n",
    "    num = int(input(\"Enter a number: \"))#prompts user to enter a number\n",
    "    if num > 255:#if user enters a number greater than 255\n",
    "        break#breaks loop\n",
    "    elif num < 33 or num > 126:#if user enters a number thats less than 33 or greater than 126\n",
    "        print(\"Error\")#prints 'Error' message\n",
    "    else:#else \n",
    "        asc = chr(num)#asc variable is equal to chr func num\n",
    "        print(\"In ASCII format the number is: \" + chr(num) + \" ,you entered: \" + str(num))#prints the number the user entered and ASCII format for that numbner\n",
    "        \n",
    "    print#prints \n",
    "    "
   ]
  },
  {
   "cell_type": "markdown",
   "metadata": {},
   "source": [
    "### Problem 2\n",
    "Write code that builds a list of a user's favorites things.  The code should use a while loop to repeatedly prompt the user for a favorite thing.  If the user enters the sentinel \"None\" or \"none\", the loop should terminate and print the list."
   ]
  },
  {
   "cell_type": "code",
   "execution_count": 15,
   "metadata": {},
   "outputs": [
    {
     "name": "stdout",
     "output_type": "stream",
     "text": [
      "Enter your favorate things, one at a time: orangte\n",
      "Enter your favorate things, one at a time: bannana\n",
      "Enter your favorate things, one at a time: none\n",
      "Your favorite things list is: ['orangte', 'bannana']\n"
     ]
    }
   ],
   "source": [
    "\n",
    "favThings = [] ##initilizes list\n",
    "while True:#while true loop\n",
    "    user = input(\"Enter your favorite things, one at a time: \")#prompts user to enter favorite things\n",
    "    if user == \"None\" or user == \"none\":#if user enters 'none' or 'none'\n",
    "        break#breaks loop\n",
    "    favThings.append(user)#each favorite thing gets added to favThings list\n",
    "    \n",
    "print(\"Your favorite things list is: \" + str(favThings))#prints favorite things and makes the list a string\n"
   ]
  },
  {
   "cell_type": "markdown",
   "metadata": {},
   "source": [
    "### Problem 3\n",
    "Write a code that calculates the largest, smallest and average score in the set of entered scores.  Your code should prompt the user for a number of scores to enter.  Using a while loop, prompt for a score, accumulate and count the score, and find the largest and smallest scores.  After the while loop terminates, calculate the average by dividing the total of the scores by the number of scores.  Print the average, the smallest, and largest score."
   ]
  },
  {
   "cell_type": "code",
   "execution_count": 56,
   "metadata": {},
   "outputs": [
    {
     "name": "stdout",
     "output_type": "stream",
     "text": [
      "Enter the number of scores: 3\n",
      "Enter the score: 10\n",
      "Enter the score: 12\n",
      "Enter the score: 90\n",
      "The list of scores: [10, 12, 90]\n",
      "The total of all the scores is: 112\n",
      "The minimum score in the score list is: 10\n",
      "The maximum score in the score list is: 90\n",
      "The average from of scores is:  37.333333333333336\n"
     ]
    }
   ],
   "source": [
    "\n",
    "scoreSet = int(input(\"Enter the number of scores: \")) #prompts user to enter the amount of scores\n",
    "scoreList = [] #initilizes score list\n",
    "\n",
    "numOfScores = 1 #sets number of scores to 1\n",
    "\n",
    "while numOfScores <= scoreSet: #when the user enters the amount of scores they said in scoreSet, while loop will finish\n",
    "    score = int(input(\"Enter the score: \")) #prompts user for the score\n",
    "    scoreList.append(score) #score gets added to the scoreList\n",
    "    numOfScores += 1 #numOfScores gets +1 everytime loop gets here, once it is equal to scoreSet it'll stop\n",
    "  \n",
    "        \n",
    "scoreSum = sum(scoreList) #sum of the scores\n",
    "avg = scoreSum/scoreSet #scoreSum divided by the scoreSet equals average\n",
    "scoreMin = min(scoreList) #gets the minimum score in scoreList\n",
    "scoreMax = max(scoreList) #gets the maximum score in scoreList\n",
    "\n",
    "print(\"The list of scores: \" + str(scoreList)) #prints the list of scores in a string\n",
    "print(\"The total of all the scores is: \" + str(scoreSum)) #prints the sum of all the scores in a string\n",
    "print(\"The minimum score in the score list is: \" + str(scoreMin)) #prints the scoreMin in a string\n",
    "print(\"The maximum score in the score list is: \" + str(scoreMax)) #prints the scoreMax in a string\n",
    "print(\"The average from of scores is: \" + str(avg)) #prints the average in a string\n"
   ]
  },
  {
   "cell_type": "markdown",
   "metadata": {},
   "source": [
    "### Problem 4\n",
    "Complete the function called gcf that calculates the Greatest Common Factor(Divisor) given two integers.  The function accepts two integers x and y as parameters and returns the GCF using the Euclidean algorithm below.  You need to use a while loop.\n",
    "\n",
    "Step 1: x % y = r\n",
    "Step 2: x = y\n",
    "Step 3: y = r\n",
    "Step 4: Repeat Steps 1 through 3 while y is greater than 0\n",
    "Step 5: GCF = x\n",
    "\n",
    "Write code that iterates over the list number_pairs (you may use a for statement) and calls the function gcf with each pair."
   ]
  },
  {
   "cell_type": "code",
   "execution_count": 55,
   "metadata": {},
   "outputs": [
    {
     "name": "stdout",
     "output_type": "stream",
     "text": [
      "12\n",
      "24\n",
      "1\n"
     ]
    }
   ],
   "source": [
    "def gcf(x,y):\n",
    "    return None # TODO: replace this\n",
    "\n",
    "number_pairs = [(12, 24), (24, 48), (17, 37)]\n",
    "# write you code below\n",
    "def gcf(x, y):\n",
    "        if y > x:# if secNum(y) > firstNum(x)\n",
    "            x, y = y, x#swaps number places in number_list\n",
    "        \n",
    "        while y != 0: #while secNum is != 0\n",
    "            r = y #r = secNum\n",
    "            y = x % r #secNum is equal to the remainder of firstNum\n",
    "            x = r #firstNum is the remainder\n",
    "        \n",
    "        return x #returns x\n",
    "\n",
    "number_pairs = [(12, 24), (24, 48), (17, 37)] #reiterates number_pairs\n",
    "for i in number_pairs: #for i in number_pairs\n",
    "    print(gcf(i[0], i[1])) #prints the func gcf with args of each pair, 37 and 17 GCF is 1"
   ]
  },
  {
   "cell_type": "markdown",
   "metadata": {},
   "source": [
    "### Problem 5\n",
    "The dictionary letter_values maps the each letter in the alphabet to its scrabble point value. Complete the function scrabbleValue below so that the function returns the Scrabble value of the word passed.  In this function, you need to accumulate the value of each letter in the word. You may use a for loop in this function.\n",
    "\n",
    "Write code that repeatedly prompts the user for a word until the sentinel \"None\" or \"none\" is entered. In the loop, call scrabbleValue with the word entered then add the word and its value as a key-value pair to word_dict. After the loop terminates, print word_dict."
   ]
  },
  {
   "cell_type": "code",
   "execution_count": 20,
   "metadata": {},
   "outputs": [
    {
     "name": "stdout",
     "output_type": "stream",
     "text": [
      "Enter your word or None/none to exit: apple\n",
      "Enter your word or None/none to exit: orange\n",
      "Enter your word or None/none to exit: bannana\n",
      "Enter your word or None/none to exit: none\n",
      "{'apple': 9, 'orange': 7, 'bannana': 9}\n"
     ]
    }
   ],
   "source": [
    "letter_values =  {'a':1, 'b':3, 'c':3, 'd':2, 'e':1, 'f':4, 'g': 2, 'h':4,\n",
    "    'i':1, 'j':8, 'k':5, 'l':1, 'm':3, 'n':1, 'o':1, 'p':3, 'q':10, 'r':1,\n",
    "    's':1, 't':1, 'u':1, 'v':8, 'w':4, 'x':8, 'y':4, 'z':10}\n",
    "\n",
    "def scrabbleValue(word):\n",
    "    return None # TODO: replace this\n",
    "\n",
    "word_dict = {}\n",
    "# write your code below\n",
    "\n",
    "def scrabbleValue(word):#def scrabble value\n",
    "    letter_values =  {'a':1, 'b':3, 'c':3, 'd':2, 'e':1, 'f':4, 'g': 2, 'h':4,\n",
    "    'i':1, 'j':8, 'k':5, 'l':1, 'm':3, 'n':1, 'o':1, 'p':3, 'q':10, 'r':1,\n",
    "    's':1, 't':1, 'u':1, 'v':8, 'w':4, 'x':8, 'y':4, 'z':10}#letter values for each character\n",
    "    value = 0#value is 0 \n",
    "    for i in range(len(word)):# for i in range of each length of the word\n",
    "        value = value + letter_values[word[i]]# value is equal to the letter_values of word of i(range)\n",
    "        \n",
    "    return value#returns value of word\n",
    "\n",
    "word_dict = {}#builds a word dictionary\n",
    "\n",
    "while True:#while true\n",
    "    word = input(\"Enter your word or None/none to exit: \")#prompts user to enter a word or 'none'/'None' to exit\n",
    "    \n",
    "    if word == \"none\" or word == \"None\":#if word equals 'none'/'None'\n",
    "        break#breaks while loop\n",
    "        \n",
    "    word_dict[word] = scrabbleValue(word)#word dictionary is equal to the scrabble value of those word/s\n",
    "    \n",
    "print(word_dict)#prints word dictionary\n"
   ]
  },
  {
   "cell_type": "markdown",
   "metadata": {},
   "source": [
    "### Problem 6\n",
    "Alter the above code so that instead of building a dictionary of word-value pairs, you build a list.  Each entry of the list is a tuple containing the word and value.  Print the list after the loop terminates."
   ]
  },
  {
   "cell_type": "code",
   "execution_count": 22,
   "metadata": {},
   "outputs": [
    {
     "name": "stdout",
     "output_type": "stream",
     "text": [
      "Enter your word or None/none to exit: apple\n",
      "Enter your word or None/none to exit: orange\n",
      "Enter your word or None/none to exit: bannana\n",
      "Enter your word or None/none to exit: none\n",
      "[('apple', 9), ('orange', 7), ('bannana', 9)]\n"
     ]
    }
   ],
   "source": [
    "letter_values =  {'a':1, 'b':3, 'c':3, 'd':2, 'e':1, 'f':4, 'g': 2, 'h':4,\n",
    "    'i':1, 'j':8, 'k':5, 'l':1, 'm':3, 'n':1, 'o':1, 'p':3, 'q':10, 'r':1,\n",
    "    's':1, 't':1, 'u':1, 'v':8, 'w':4, 'x':8, 'y':4, 'z':10}\n",
    "\n",
    "def scrabbleValue(word):\n",
    "    return None # TODO: replace this\n",
    "\n",
    "word_list = []\n",
    "# write your code below\n",
    "\n",
    "def scrabbleValue(word):#def scrabbleValue\n",
    "    total = 0#total = 0\n",
    "    \n",
    "    for i in word:# for i in word\n",
    "        total += letter_values[i]#total is equal to the letter values of each character in word\n",
    "        \n",
    "    return total#returns total\n",
    "\n",
    "\n",
    "word_list = []#builds word_list\n",
    "\n",
    "\n",
    "while True:#while true\n",
    "    word = input(\"Enter your word or None/none to exit: \")#prompts user to enter a word or 'none'/'None' to exit\n",
    "    \n",
    "    if word != \"None\" and word != \"none\":#if user's entry is not equal to 'None' and 'none'\n",
    "        word_list.append((word, scrabbleValue(word)))#adds word and scrabbleValue of that word to word_list\n",
    "        \n",
    "    else:#else\n",
    "        \n",
    "        break#breaks while loop\n",
    "        \n",
    "print(word_list)#prints word list\n"
   ]
  },
  {
   "cell_type": "markdown",
   "metadata": {},
   "source": [
    "### Problem 7\n",
    "Write code that divides each value in the list dividend by each value in the list divisor.  To do this, you will need a nested loop.  Use a for loop to iterate over each value in dividend.  Within the for loop, use a while loop to iterate over each value in divisor.  In the while loop, you will need to index into divisor.  The while loop terminates when the index counter exceeds the number of entries in divisor.  DO NOT hard code the number of entries in the list.  You must calculate that number.  In the while loop, divide the for loop variable with the current divisor.  You will need to use try/catch since a divisor may be 0.  In the case of a 0 divisor, print and appropriate error message and continue.\n",
    "\n"
   ]
  },
  {
   "cell_type": "code",
   "execution_count": 14,
   "metadata": {},
   "outputs": [
    {
     "name": "stdout",
     "output_type": "stream",
     "text": [
      "32 / 32  =  16.0\n",
      "32 / 24  =  8.0\n",
      "Error: Can not divide by 0\n",
      "32 / 16  =  4.0\n",
      "24 / 32  =  12.0\n",
      "24 / 24  =  6.0\n",
      "Error: Can not divide by 0\n",
      "24 / 16  =  3.0\n",
      "8 / 32  =  4.0\n",
      "8 / 24  =  2.0\n",
      "Error: Can not divide by 0\n",
      "8 / 16  =  1.0\n",
      "16 / 32  =  8.0\n",
      "16 / 24  =  4.0\n",
      "Error: Can not divide by 0\n",
      "16 / 16  =  2.0\n"
     ]
    }
   ],
   "source": [
    "dividend = [32,24,8,16]\n",
    "divisor = [2,4,0,8]\n",
    "# write your code below\n",
    "for p in dividend:#for p in dividend\n",
    "    i = 0#i is equal to 0\n",
    "    while i < len(divisor):#whilen i is less than the length of the divisor\n",
    "        try:#try\n",
    "            print(p, \"/\", dividend[i], \" = \", p/divisor[i])#prints p number dividend[i] is equal to p/divisor[i]\n",
    "        except Exception:#exception error\n",
    "            print(\"Error: Can not divide by 0\")#prints error message\n",
    "        i += 1#i += 1 to keep loop going until i is no longer less than divisor\n",
    "        "
   ]
  },
  {
   "cell_type": "markdown",
   "metadata": {},
   "source": [
    "### Problem 8\n",
    "You are to write a password generator.  You code needs to do the following:\n",
    "\n",
    "1. Prompt the user for a password length.\n",
    "2. Use a while loop to iterate up to the password length.\n",
    "3. In the loop generate a random character within the ASCII printable range.\n",
    "4. Accumulate the character in the password.\n",
    "5. After the loop terminates, print the password.\n",
    "\n",
    "To generate a random character, you will need to import the random module and use the random.randrange function to generate a number between 33 and 126 (printable ASCII character range).  Convert the number to a character using the chr function.  Accumulate that character in the password variable."
   ]
  },
  {
   "cell_type": "code",
   "execution_count": 17,
   "metadata": {},
   "outputs": [
    {
     "name": "stdout",
     "output_type": "stream",
     "text": [
      "Password Generator\n",
      "Enter a password length: 8\n",
      "The generated password is:  #ubi}<Pe\n"
     ]
    }
   ],
   "source": [
    "\n",
    "import random\n",
    "\n",
    "# initialize the pseudorandom number generator\n",
    "random.seed()\n",
    "\n",
    "print(\"Password Generator\")\n",
    "#  write you code below\n",
    "\n",
    "passLength = int(input(\"Enter a password length: \"))#prompts user for the desired password length\n",
    "\n",
    "password = \"\"#initilizes password as an empty string\n",
    "a = 0# a = 0\n",
    "\n",
    "while (a < passLength):#while loop a is less than passLength\n",
    "    randNum = random.randrange(33, 126)#randNum generates randum numbers in the desired range\n",
    "    password += chr(randNum)#password is equal to the product of the chr(randNum) func\n",
    "    a += 1#a += 1 so that once a is no longer < passLength ends loop\n",
    "    \n",
    "print(\"The generated password is: \", password)\n"
   ]
  },
  {
   "cell_type": "code",
   "execution_count": null,
   "metadata": {},
   "outputs": [],
   "source": []
  }
 ],
 "metadata": {
  "kernelspec": {
   "display_name": "Python 3",
   "language": "python",
   "name": "python3"
  },
  "language_info": {
   "codemirror_mode": {
    "name": "ipython",
    "version": 3
   },
   "file_extension": ".py",
   "mimetype": "text/x-python",
   "name": "python",
   "nbconvert_exporter": "python",
   "pygments_lexer": "ipython3",
   "version": "3.8.8"
  }
 },
 "nbformat": 4,
 "nbformat_minor": 2
}
