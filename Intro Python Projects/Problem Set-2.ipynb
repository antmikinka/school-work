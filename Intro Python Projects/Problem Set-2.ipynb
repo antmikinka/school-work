{
 "cells": [
  {
   "cell_type": "markdown",
   "metadata": {},
   "source": [
    "## <span style=\"color:blue\">Problem Set 2</span>"
   ]
  },
  {
   "cell_type": "raw",
   "metadata": {},
   "source": [
    "<Anthony Mikinka>"
   ]
  },
  {
   "cell_type": "markdown",
   "metadata": {},
   "source": [
    "### <span style=\"color:red\">Run the cell below first</span>\n",
    "Before starting the assignment, run the cell below.  \n",
    "\n",
    "**Note:**   \n",
    "1. You need to use code to arrive at a solution.  Hardcoding a solution results in 0 points for the problem.\n",
    "2. **Use only syntax covered in the Units so far.**  Using any other syntax results in 0 points for the problem. "
   ]
  },
  {
   "cell_type": "code",
   "execution_count": 53,
   "metadata": {},
   "outputs": [],
   "source": [
    "sentence = 'Half a league, half a league, Half a league onward, All in the valley of Death rode the six hundred'\n",
    "colors = ['red','green','blue','orange','magenta','brown','white','black']\n",
    "vowels = ('a','e','i')"
   ]
  },
  {
   "cell_type": "markdown",
   "metadata": {},
   "source": [
    "### Problem 1:\n",
    "\n",
    "Write code in the cell below that does the following:\n",
    "  1. Assign the tenth character in _sentence_ to the variable _char_.\n",
    "  2. Print _char_\n",
    "  3. Concatenate (join) the sixth character and the last character of _sentence_ and store the result _chars_.\n",
    "  4. Print _chars_.\n",
    "  5. Assign the length of _sentence_ to the variable _lens_.\n",
    "  6. Print _lens_."
   ]
  },
  {
   "cell_type": "code",
   "execution_count": 66,
   "metadata": {},
   "outputs": [
    {
     "name": "stdout",
     "output_type": "stream",
     "text": [
      "a\n",
      "ad\n",
      "99\n"
     ]
    }
   ],
   "source": [
    "char = sentence[9]\n",
    "print(char)\n",
    "chars = sentence[5] + sentence[98]\n",
    "print(chars)\n",
    "lens = len(sentence)\n",
    "print(lens)"
   ]
  },
  {
   "cell_type": "markdown",
   "metadata": {},
   "source": [
    "<span style=\"color:blue\">Expected output:</span><br/>\n",
    "<span style=\"font: courier; font-size: 13px\">\n",
    "a<br />\n",
    "ad<br />\n",
    "99</span>"
   ]
  },
  {
   "cell_type": "markdown",
   "metadata": {},
   "source": [
    "### Problem 2:\n",
    "\n",
    "Write code in the cell below that does the following:\n",
    "  1. Replace all occurances of the word \"league\" with the word \"mile\" in the string _sentence_ and store the result in the variable _newSent_.  Do not change _sentence_. \n",
    "  2. Print _newSent_\n",
    "  3. Assign the variable _numWords_ the number of words in the string _sentence_. Hint, words in _sentence_ are delimited by a space. Do not be concerned about the commas.\n",
    "  3. Print _numWords_."
   ]
  },
  {
   "cell_type": "code",
   "execution_count": 11,
   "metadata": {},
   "outputs": [
    {
     "name": "stdout",
     "output_type": "stream",
     "text": [
      "Half a mile, half a mile, Half a mile onward, All in the valley of Death rode the six hundred\n",
      "4\n"
     ]
    }
   ],
   "source": [
    "newSent = sentence.replace(\"league\", \"mile\")\n",
    "print(newSent)\n",
    "numWords = sentence.find(\" \")\n",
    "print(numWords)\n",
    "\n"
   ]
  },
  {
   "cell_type": "markdown",
   "metadata": {},
   "source": [
    "<span style=\"color:blue\">Expected output:</span><br/>\n",
    "<span style=\"font: courier; font-size: 13px\">\n",
    "Half a mile, half a mile, Half a mile onward, All in the valley of Death rode the six hundred<br />\n",
    "20</span>"
   ]
  },
  {
   "cell_type": "markdown",
   "metadata": {},
   "source": [
    "### Problem 3:\n",
    "\n",
    "Write code in the cell below that creates a variable _newStr_ that is identical to contents of the string _sentence_ with the exception that all occurances of the word \"league\" are reversed. Print _newStr_."
   ]
  },
  {
   "cell_type": "code",
   "execution_count": 45,
   "metadata": {},
   "outputs": [
    {
     "name": "stdout",
     "output_type": "stream",
     "text": [
      "Half a eugael, half a eugael, Half a eugael onward, All in the valley of Death rode the six hundred\n"
     ]
    }
   ],
   "source": [
    "newStr = sentence.replace(\"league\", \"eugael\")\n",
    "print(newStr)"
   ]
  },
  {
   "cell_type": "markdown",
   "metadata": {},
   "source": [
    "<span style=\"color:blue\">Expected output:</span><br/>\n",
    "<span style=\"font: courier; font-size: 13px\">\n",
    "Half a eugael, half a eugael, Half a eugael onward, All in the valley of Death rode the six hundred</span>"
   ]
  },
  {
   "cell_type": "markdown",
   "metadata": {},
   "source": [
    "### Problem 4:\n",
    "\n",
    "Write code below that assigns the fifth through the second element in the list _colors_ to the variable _myColors_. Print myColors."
   ]
  },
  {
   "cell_type": "code",
   "execution_count": 71,
   "metadata": {},
   "outputs": [
    {
     "name": "stdout",
     "output_type": "stream",
     "text": [
      "['magenta', 'orange', 'blue', 'green']\n"
     ]
    }
   ],
   "source": [
    "myColors = colors[1:5]# I am not sure I to rearrange the elements so that I would get them in the correct order. I was getting the correct colors before reassigning them.\n",
    "myColors[0] = 'magenta'\n",
    "myColors[1] = 'orange'\n",
    "myColors[2] = 'blue'\n",
    "myColors[3] = 'green'\n",
    "print(myColors)"
   ]
  },
  {
   "cell_type": "markdown",
   "metadata": {},
   "source": [
    "<span style=\"color:blue\">Expected output:</span><br/>\n",
    "<span style=\"font: courier; font-size: 13px\">\n",
    "['magenta', 'orange', 'blue', 'green']</span>"
   ]
  },
  {
   "cell_type": "markdown",
   "metadata": {},
   "source": [
    "### Problem 5:\n",
    "\n",
    "Write code below the creates the string _newColors_ from the list _colors_ where each element is separated by a comma. Print _newColors_."
   ]
  },
  {
   "cell_type": "code",
   "execution_count": 68,
   "metadata": {},
   "outputs": [
    {
     "name": "stdout",
     "output_type": "stream",
     "text": [
      "red,green,blue,orange,magenta,brown,white,black\n"
     ]
    }
   ],
   "source": [
    "newColors = colors\n",
    "\n",
    "comma = ','\n",
    "newColors_str = comma.join(newColors)\n",
    "print(newColors_str)"
   ]
  },
  {
   "cell_type": "markdown",
   "metadata": {},
   "source": [
    "<span style=\"color:blue\">Expected output:</span><br/>\n",
    "<span style=\"font: courier; font-size: 13px\">\n",
    "red,green,blue,orange,magenta,brown,white,black</span>"
   ]
  },
  {
   "cell_type": "markdown",
   "metadata": {},
   "source": [
    "### Problem 6:\n",
    "\n",
    "Write code below the creates a new list _extColors_ that includes all of the elements in _colors_ plus the additional the element \"pink\". Print _extColors_. Your code must use the list _colors_ in the creation of the _extColors_."
   ]
  },
  {
   "cell_type": "code",
   "execution_count": 33,
   "metadata": {},
   "outputs": [
    {
     "name": "stdout",
     "output_type": "stream",
     "text": [
      "['red', 'green', 'blue', 'orange', 'magenta', 'brown', 'white', 'black', 'pink']\n"
     ]
    }
   ],
   "source": [
    "extColors = colors\n",
    "extColors.append('pink')\n",
    "print(extColors)"
   ]
  },
  {
   "cell_type": "markdown",
   "metadata": {},
   "source": [
    "<span style=\"color:blue\">Expected output:</span><br/>\n",
    "<span style=\"font: courier; font-size: 13px\">\n",
    "['red', 'green', 'blue', 'orange', 'magenta', 'brown', 'white', 'black', 'pink']</span>"
   ]
  },
  {
   "cell_type": "markdown",
   "metadata": {},
   "source": [
    "### Problem 7:\n",
    "\n",
    "Write code below the removes the element \"black\" from _locColors_. DO NOT make any assumptions as to the location of the color black in the list.  Assume that it may be any element. Print _locColors_. "
   ]
  },
  {
   "cell_type": "code",
   "execution_count": 69,
   "metadata": {},
   "outputs": [
    {
     "name": "stdout",
     "output_type": "stream",
     "text": [
      "['red', 'green', 'blue', 'orange', 'magenta', 'brown', 'white']\n"
     ]
    }
   ],
   "source": [
    "locColors = ['red','green','blue','orange','magenta','brown','white','black']\n",
    "# write your code below\n",
    "locColors.remove('black')\n",
    "print(locColors)\n"
   ]
  },
  {
   "cell_type": "markdown",
   "metadata": {},
   "source": [
    "<span style=\"color:blue\">Expected output:</span><br/>\n",
    "<span style=\"font: courier; font-size: 13px\">\n",
    "['red', 'green', 'blue', 'orange', 'magenta', 'brown', 'white']</span>"
   ]
  },
  {
   "cell_type": "markdown",
   "metadata": {},
   "source": [
    "### Problem 8:\n",
    "\n",
    "Write code below that does the following:\n",
    "1. Creates a tuple called _numsTuple_ that has the elments 5,13,27,89. \n",
    "2. Print _numsTuple_\n",
    "3. Assign the total of the values in _numsTuple_ to the variable _tot_.\n",
    "3. Prints _tot_."
   ]
  },
  {
   "cell_type": "code",
   "execution_count": 63,
   "metadata": {},
   "outputs": [
    {
     "name": "stdout",
     "output_type": "stream",
     "text": [
      "(5, 13, 27, 89)\n",
      "134\n"
     ]
    }
   ],
   "source": [
    "numsTuple = (5,13,27,89)\n",
    "print(numsTuple)\n",
    "tot = sum(numsTuple)\n",
    "print(tot)"
   ]
  },
  {
   "cell_type": "markdown",
   "metadata": {},
   "source": [
    "<span style=\"color:blue\">Expected output:</span><br/>\n",
    "<span style=\"font: courier; font-size: 13px\">\n",
    "(5, 13, 27, 89)<br />\n",
    "134</span>"
   ]
  },
  {
   "cell_type": "markdown",
   "metadata": {},
   "source": [
    "### Problem 9:\n",
    "\n",
    "Write code below that uses the + operator to append the string \"o\" to the tuple *vowels*. Print vowels."
   ]
  },
  {
   "cell_type": "code",
   "execution_count": 58,
   "metadata": {},
   "outputs": [
    {
     "name": "stdout",
     "output_type": "stream",
     "text": [
      "('a', 'e', 'i', 'o')\n"
     ]
    }
   ],
   "source": [
    "vowels += ('o',) # Wow. I spent two days looking over my notes to see what was wrong. I just realized I needed a comma.\n",
    "print(vowels)\n"
   ]
  },
  {
   "cell_type": "markdown",
   "metadata": {},
   "source": [
    "<span style=\"color:blue\">Expected output:</span><br/>\n",
    "<span style=\"font: courier; font-size: 13px\">\n",
    "('a', 'e', 'i', 'o')</span>"
   ]
  },
  {
   "cell_type": "markdown",
   "metadata": {},
   "source": [
    "### Problem 10:\n",
    "\n",
    "Write code below that uses the Turtle module to create a basic shape.  You have the liberty to create whatever shape you desire."
   ]
  },
  {
   "cell_type": "code",
   "execution_count": 7,
   "metadata": {},
   "outputs": [
    {
     "data": {
      "application/vnd.jupyter.widget-view+json": {
       "model_id": "42746ee701e94aa5a48fbe50065cab93",
       "version_major": 2,
       "version_minor": 0
      },
      "text/plain": [
       "Turtle()"
      ]
     },
     "metadata": {},
     "output_type": "display_data"
    }
   ],
   "source": [
    "from mobilechelonian import Turtle\n",
    "shape = Turtle()\n",
    "shape.speed(20)\n",
    "\n",
    "shape.forward(80)\n",
    "shape.right(70)\n",
    "\n",
    "shape.forward(80)\n",
    "shape.right(70)\n",
    "\n",
    "shape.forward(80)\n",
    "shape.right(70)\n",
    "\n",
    "shape.forward(80)\n",
    "shape.right(70)\n",
    "\n",
    "shape.forward(90)\n",
    "shape.right(70)"
   ]
  },
  {
   "cell_type": "markdown",
   "metadata": {},
   "source": [
    "### <span style=\"color:dark green\">Run the cells below to test your code</span>"
   ]
  },
  {
   "cell_type": "code",
   "execution_count": 73,
   "metadata": {},
   "outputs": [],
   "source": [
    "import unittest\n",
    "\n",
    "class PS02_01 (unittest.TestCase):\n",
    "    def test_problem01(self):\n",
    "        self.assertEqual(char, 'a')\n",
    "        self.assertEqual(chars, 'ad')\n",
    "        self.assertEqual(lens,99)\n",
    "    \n",
    "class PS02_02 (unittest.TestCase):\n",
    "    def test_problem02(self):\n",
    "        s = 'Half a mile, half a mile, Half a mile onward, All in the valley of Death rode the six hundred'\n",
    "        self.assertEqual(newSent,s)\n",
    "        self.assertEqual(numWords,20)\n",
    "        \n",
    "class PS02_03 (unittest.TestCase):\n",
    "    def test_problem03(self):\n",
    "        s = 'Half a eugael, half a eugael, Half a eugael onward, All in the valley of Death rode the six hundred'\n",
    "        self.assertEqual(newStr,s)\n",
    "\n",
    "class PS02_04 (unittest.TestCase):\n",
    "    def test_problem04(self):\n",
    "        l = ['magenta', 'orange', 'blue', 'green']\n",
    "        self.assertEqual(myColors,l)\n",
    "\n",
    "class PS02_05 (unittest.TestCase):\n",
    "    def test_problem05(self):\n",
    "        s = 'red,green,blue,orange,magenta,brown,white,black'\n",
    "        self.assertEqual(newColors,s)\n",
    "\n",
    "class PS02_06 (unittest.TestCase):\n",
    "    def test_problem06(self):\n",
    "        l = ['red', 'green', 'blue', 'orange', 'magenta', 'brown', 'white', 'black', 'pink']\n",
    "        self.assertEqual(extColors,l)\n",
    "        \n",
    "class PS02_07 (unittest.TestCase):\n",
    "    def test_problem07(self):\n",
    "        l = ['red', 'green', 'blue', 'orange', 'magenta', 'brown', 'white']\n",
    "        self.assertEqual(locColors,l)\n",
    "        \n",
    "class PS02_08 (unittest.TestCase):\n",
    "    def test_problem08(self):\n",
    "        self.assertIsInstance(numsTuple,tuple)\n",
    "        self.assertEqual(tot,134)\n",
    "        \n",
    "class PS02_09 (unittest.TestCase):\n",
    "    def test_problem09(self):\n",
    "        self.assertIsInstance(vowels,tuple)\n",
    "        t = ('a', 'e', 'i', 'o')\n",
    "        self.assertEqual(vowels,t)"
   ]
  },
  {
   "cell_type": "code",
   "execution_count": 72,
   "metadata": {
    "scrolled": false
   },
   "outputs": [
    {
     "name": "stderr",
     "output_type": "stream",
     "text": [
      "test_problem01 (__main__.PS02_01) ... ok\n",
      "test_problem02 (__main__.PS02_02) ... ERROR\n",
      "test_problem03 (__main__.PS02_03) ... ok\n",
      "test_problem04 (__main__.PS02_04) ... ok\n",
      "test_problem05 (__main__.PS02_05) ... FAIL\n",
      "test_problem06 (__main__.PS02_06) ... FAIL\n",
      "test_problem07 (__main__.PS02_07) ... ok\n",
      "test_problem08 (__main__.PS02_08) ... ok\n",
      "test_problem09 (__main__.PS02_09) ... ok\n",
      "\n",
      "======================================================================\n",
      "ERROR: test_problem02 (__main__.PS02_02)\n",
      "----------------------------------------------------------------------\n",
      "Traceback (most recent call last):\n",
      "  File \"<ipython-input-64-1008ed4f415b>\", line 12, in test_problem02\n",
      "    self.assertEqual(newSent,s)\n",
      "NameError: name 'newSent' is not defined\n",
      "\n",
      "======================================================================\n",
      "FAIL: test_problem05 (__main__.PS02_05)\n",
      "----------------------------------------------------------------------\n",
      "Traceback (most recent call last):\n",
      "  File \"<ipython-input-64-1008ed4f415b>\", line 28, in test_problem05\n",
      "    self.assertEqual(newColors,s)\n",
      "AssertionError: ['red', 'green', 'blue', 'orange', 'magenta', 'brown', 'white', 'black'] != 'red,green,blue,orange,magenta,brown,white,black'\n",
      "\n",
      "======================================================================\n",
      "FAIL: test_problem06 (__main__.PS02_06)\n",
      "----------------------------------------------------------------------\n",
      "Traceback (most recent call last):\n",
      "  File \"<ipython-input-64-1008ed4f415b>\", line 33, in test_problem06\n",
      "    self.assertEqual(extColors,l)\n",
      "AssertionError: Lists differ: ['red[69 chars]pink', 'red', 'green', 'blue', 'orange', 'mage[45 chars] ','] != ['red[69 chars]pink']\n",
      "\n",
      "First list contains 11 additional elements.\n",
      "First extra element 9:\n",
      "'red'\n",
      "\n",
      "+ ['red', 'green', 'blue', 'orange', 'magenta', 'brown', 'white', 'black', 'pink']\n",
      "- ['red',\n",
      "-  'green',\n",
      "-  'blue',\n",
      "-  'orange',\n",
      "-  'magenta',\n",
      "-  'brown',\n",
      "-  'white',\n",
      "-  'black',\n",
      "-  'pink',\n",
      "-  'red',\n",
      "-  'green',\n",
      "-  'blue',\n",
      "-  'orange',\n",
      "-  'magenta',\n",
      "-  'brown',\n",
      "-  'white',\n",
      "-  'black',\n",
      "-  'pink',\n",
      "-  ',',\n",
      "-  ',']\n",
      "\n",
      "----------------------------------------------------------------------\n",
      "Ran 9 tests in 0.008s\n",
      "\n",
      "FAILED (failures=2, errors=1)\n"
     ]
    },
    {
     "data": {
      "text/plain": [
       "<unittest.main.TestProgram at 0x7fe4544cc438>"
      ]
     },
     "execution_count": 72,
     "metadata": {},
     "output_type": "execute_result"
    }
   ],
   "source": [
    "unittest.main(argv=['first-arg-is-ignored'], exit=False, verbosity=2)"
   ]
  },
  {
   "cell_type": "code",
   "execution_count": null,
   "metadata": {},
   "outputs": [],
   "source": []
  }
 ],
 "metadata": {
  "kernelspec": {
   "display_name": "Python 3",
   "language": "python",
   "name": "python3"
  },
  "language_info": {
   "codemirror_mode": {
    "name": "ipython",
    "version": 3
   },
   "file_extension": ".py",
   "mimetype": "text/x-python",
   "name": "python",
   "nbconvert_exporter": "python",
   "pygments_lexer": "ipython3",
   "version": "3.8.8"
  }
 },
 "nbformat": 4,
 "nbformat_minor": 2
}
