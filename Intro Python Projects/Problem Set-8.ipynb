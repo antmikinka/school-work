{
 "cells": [
  {
   "cell_type": "markdown",
   "metadata": {},
   "source": [
    "## <span style=\"color:blue\">Problem Set 8</span>"
   ]
  },
  {
   "cell_type": "raw",
   "metadata": {},
   "source": [
    "<Anthony Mikinka>"
   ]
  },
  {
   "cell_type": "markdown",
   "metadata": {},
   "source": [
    "### <span style=\"color:red\">Run the cell below first</span>\n",
    "Before starting the assignment, run the cell below.  "
   ]
  },
  {
   "cell_type": "code",
   "execution_count": 4,
   "metadata": {},
   "outputs": [],
   "source": [
    "# do all our imports at the top of the file, because that's the standard style\n",
    "import csv\n",
    "import json\n",
    "from Unit08_vincenty import latLngDistanceMeters\n",
    "\n",
    "fh = open('unit08_umich_buildings.json','r')\n",
    "umich_buildins_str = fh.read()\n",
    "umich_buildings = json.loads(umich_buildins_str) \n",
    "\n",
    "\n",
    "baby_file = open('Unit08_us-common-baby-names.csv','r')\n",
    "baby_reader = csv.DictReader(baby_file)\n",
    "baby_names = list(baby_reader) # turn the reader object into a real list"
   ]
  },
  {
   "cell_type": "markdown",
   "metadata": {},
   "source": [
    "The variable *umich_buildings* is list where each element is a dictionary.  The keys in the dictionary contained in each list element are: \n",
    "\n",
    "<table>\n",
    "  <tr>\n",
    "    <th style=\"text-align: center\">Key</th>\n",
    "    <th style=\"text-align: center\">Description</th> \n",
    "  </tr>\n",
    "  <tr>\n",
    "    <td style=\"text-align: center\">address</td>\n",
    "    <td  style=\"text-align: left\">The address of the building</td> \n",
    "  </tr>\n",
    "  <tr>\n",
    "    <td style=\"text-align: center\">id</td>\n",
    "    <td  style=\"text-align: left\">The building id, e.g.,asb is Administrative Services Building </td> \n",
    "  </tr>\n",
    "  <tr>\n",
    "    <td style=\"text-align: center\">lat</td>\n",
    "    <td  style=\"text-align: left\">The geographic latitude,i.e., north-south position of a point on the Earth's surface</td> \n",
    "  </tr>\n",
    "  <tr>\n",
    "    <td style=\"text-align: center\">lng</td>\n",
    "    <td  style=\"text-align: left\">The geographic longitude,i.e.,the angular distance of a place east or west of the meridian at Greenwich, England</td> \n",
    "  </tr>\n",
    "  <tr>\n",
    "    <td style=\"text-align: center\">name</td>\n",
    "    <td  style=\"text-align: left\">The building name</td> \n",
    "  </tr>\n",
    "</table>\n",
    "\n",
    "Below is typical element in the list:  \n",
    "{  \n",
    "&nbsp;&nbsp;&nbsp;&nbsp;\"address\": \"1201 South Main Street Ann Arbor, MI 48104-3722\",  \n",
    "&nbsp;&nbsp;&nbsp;&nbsp;\"id\": \"stadm\",  \n",
    "&nbsp;&nbsp;&nbsp;&nbsp;\"lat\": 42.265071,  \n",
    "&nbsp;&nbsp;&nbsp;&nbsp;\"lng\": -83.748662,  \n",
    "&nbsp;&nbsp;&nbsp;&nbsp;\"name\": \"Michigan Stadium\"  \n",
    "}  "
   ]
  },
  {
   "cell_type": "markdown",
   "metadata": {},
   "source": [
    "### Problem 1\n",
    "Write a function named *buildingLatLong* that returns a (name,latitude, longitude) tuple for any building id in *umich_buildings*. You will need to iterate over umich_buildings, then for each list element compare the value associated with the id key to the value passed to the function. If that building id could not be found, return *None*.\n",
    "\n",
    "Write code that iterates of *bldgs* and prints the output below."
   ]
  },
  {
   "cell_type": "code",
   "execution_count": 106,
   "metadata": {},
   "outputs": [
    {
     "name": "stdout",
     "output_type": "stream",
     "text": [
      "('Central Campus Recreation Building', 42.278866, -83.732666)\n",
      "('Aerospace Engineering Lab Plasma Research', 42.293342, -83.710823)\n",
      "('Alfred A Taubman Health Sciences Library', 42.28358, -83.734543)\n",
      "None\n",
      "('North Quadrangle', 42.280477, -83.740131)\n",
      "('Michigan Stadium', 42.265071, -83.748662)\n"
     ]
    }
   ],
   "source": [
    "bldgs = ['ccrb','aep','taubl','unknown','nq','stadm']\n",
    "\n",
    "fh = open('Unit08_umich_buildings.json','r')\n",
    "umich_buildins_str = fh.read()\n",
    "umich_buildings = json.loads(umich_buildins_str) \n",
    "\n",
    "# write your code blow\n",
    "def buildingLatLong(building_id):\n",
    "    for var in umich_buildings:\n",
    "        if var[\"id\"] == building_id:#finds if building id is found in building_id\n",
    "            return ((var[\"name\"], var[\"lat\"], var[\"lng\"]))#returns buildings name, lat, and long\n",
    "        \n",
    "    return None#returns none if the building id is not found\n",
    "\n",
    "for each in bldgs:#each building in bldgs list\n",
    "    print(buildingLatLong(each))#takes the bLL func and uses each as the arg\n",
    "    \n",
    "\n",
    "\n",
    "   \n"
   ]
  },
  {
   "cell_type": "markdown",
   "metadata": {},
   "source": [
    "<span style=\"color:blue\">Expected output:</span><br/>\n",
    "<span style=\"font: courier; font-size: 13px\">\n",
    "('Central Campus Recreation Building', 42.278866, -83.732666)<br/>\n",
    "('Aerospace Engineering Lab Plasma Research', 42.293342, -83.710823)<br/>\n",
    "('Alfred A Taubman Health Sciences Library', 42.28358, -83.734543)<br/>\n",
    "None<br/>\n",
    "('North Quadrangle', 42.280477, -83.740131)<br/>\n",
    "('Michigan Stadium', 42.265071, -83.748662</span>"
   ]
  },
  {
   "cell_type": "markdown",
   "metadata": {},
   "source": [
    "### Problem 2\n",
    "\"Vincenty's formulas are two related iterative methods used to calculate the distance between two points on the surface of a spheroid, developed by Thaddeus Vincenty (1975a)\"\n",
    "\n",
    "The file *Unit08_vincenty.py*, which was imported in the first cell, contains code that calculates the \"vincenty distance\" between two points' using the latitude and longitude of both points. The function *latLngDistanceMeter*, present in vincenty.py, accepts two tuples as parameters where each tuple contains the coordinates (latitude,longitude) of a point on the Earth and performs the vincenty calculation.  Below is an example of how this function is called:\n",
    "\n",
    "&nbsp;&nbsp;&nbsp;&nbsp;&nbsp;&nbsp;&nbsp;latLngDistanceMeters((42.3584, -71.0912), (42.278, -83.7382))\n",
    "\n",
    "Write a function named *buildingDistance* that is passed two building IDs and determines the vincenty distance between two building IDs.\n",
    "\n",
    "Write code that iterates of the *bldgs* list, *buildingDistance* for each tuple in the list, and prints the output below."
   ]
  },
  {
   "cell_type": "code",
   "execution_count": 107,
   "metadata": {},
   "outputs": [
    {
     "name": "stdout",
     "output_type": "stream",
     "text": [
      "The first distance is for ccrb and aep.\n",
      "The second distance is for taubl and nq.\n",
      "The vincenty distance between the buildings is: 2410.332732613888\n",
      "The vincenty distance between the buildings is: 575.5430991021018\n"
     ]
    }
   ],
   "source": [
    "bldgs = [('ccrb','aep'),('taubl','nq')]\n",
    "\n",
    "# write your code below\n",
    "def buildingDistance(building1_id, building2_id):\n",
    "    \n",
    "    for var in umich_buildings:#each var in umich_buildings\n",
    "        if building1_id in var[\"id\"]:#for building1 in var[id] \n",
    "            start = ((var[\"lat\"] , var[\"lng\"]))#start == that buildings lat & long\n",
    "            \n",
    "        if building2_id in var[\"id\"]:#for building2 in var[id]\n",
    "            end = ((var[\"lat\"] , var[\"lng\"]))#end == that buildings lat & long\n",
    "            \n",
    "    return latLngDistanceMeters(start, end)#completes measurement\n",
    "    return None\n",
    "\n",
    "print(\"The first distance is for ccrb and aep.\")#statements for below\n",
    "print(\"The second distance is for taubl and nq.\")\n",
    "\n",
    "for each in bldgs:#accesses each ele in bldgs then issues a print statement\n",
    "    print(\"The vincenty distance between the buildings is:\",buildingDistance(each[0], each[1]))\n"
   ]
  },
  {
   "cell_type": "markdown",
   "metadata": {},
   "source": [
    "<span style=\"color:blue\">Expected output:</span><br/>\n",
    "<span style=\"font: courier; font-size: 13px\">\n",
    "The vincenty distance between building ccrb and aep is 2414.804664314132<br />\n",
    "The vincenty distance between building taubl and nq is 575.5430991021018</span>"
   ]
  },
  {
   "cell_type": "markdown",
   "metadata": {},
   "source": [
    "### Problem 4: \n",
    "Write code that iterates over *umich_buildings* and outputs a *.csv* file called *north_quad_distance.csv*. The csv file has two columns: The first column is the *building name* and the second column is the vincenty distance of that building from North Quad(nq). Since this is a csv file the first row identifies the columns.  Column 1 of the first row has the value \"Name\" and column 2 has the value \"Distance from NQ\". There should be one subsequent row for each building (including North Quad, which should have a zero distance).  You should use the string .format() function to format each row in the csv file.\n",
    "\n",
    "Check your work by opening the .csv file in a text editor and importing it into a spreadsheet program like Excel or Google Sheets.\n",
    "\n",
    "You file should appear similar to that below:  \n",
    "&nbsp;&nbsp;&nbsp;&nbsp;&nbsp;&nbsp;&nbsp;&nbsp;Name,Distance from NQ  \n",
    "&nbsp;&nbsp;&nbsp;&nbsp;&nbsp;&nbsp;&nbsp;&nbsp;1000 Victors Way,4674.366005  \n",
    "&nbsp;&nbsp;&nbsp;&nbsp;&nbsp;&nbsp;&nbsp;&nbsp;1032 Greene Building,1498.650608  \n",
    "&nbsp;&nbsp;&nbsp;&nbsp;&nbsp;&nbsp;&nbsp;&nbsp;523 South Division Building,639.5818755  \n",
    "&nbsp;&nbsp;&nbsp;&nbsp;&nbsp;&nbsp;&nbsp;&nbsp;Administrative Services Building,1410.470849  "
   ]
  },
  {
   "cell_type": "code",
   "execution_count": 419,
   "metadata": {},
   "outputs": [
    {
     "ename": "JSONDecodeError",
     "evalue": "Expecting value: line 1 column 1 (char 0)",
     "output_type": "error",
     "traceback": [
      "\u001b[0;31m---------------------------------------------------------------------------\u001b[0m",
      "\u001b[0;31mJSONDecodeError\u001b[0m                           Traceback (most recent call last)",
      "\u001b[0;32m<ipython-input-419-13beeed946a1>\u001b[0m in \u001b[0;36m<module>\u001b[0;34m\u001b[0m\n\u001b[1;32m      5\u001b[0m \u001b[0mumich_buildins_str\u001b[0m \u001b[0;34m=\u001b[0m \u001b[0mfh\u001b[0m\u001b[0;34m.\u001b[0m\u001b[0mread\u001b[0m\u001b[0;34m(\u001b[0m\u001b[0;34m)\u001b[0m\u001b[0;34m\u001b[0m\u001b[0;34m\u001b[0m\u001b[0m\n\u001b[1;32m      6\u001b[0m \u001b[0;34m\u001b[0m\u001b[0m\n\u001b[0;32m----> 7\u001b[0;31m \u001b[0mnorth_quad_distance\u001b[0m \u001b[0;34m=\u001b[0m \u001b[0mjson\u001b[0m\u001b[0;34m.\u001b[0m\u001b[0mloads\u001b[0m\u001b[0;34m(\u001b[0m\u001b[0mumich_buildins_str\u001b[0m\u001b[0;34m)\u001b[0m\u001b[0;31m#tried to load similarly to previous problems above\u001b[0m\u001b[0;34m\u001b[0m\u001b[0;34m\u001b[0m\u001b[0m\n\u001b[0m\u001b[1;32m      8\u001b[0m \u001b[0;34m\u001b[0m\u001b[0m\n\u001b[1;32m      9\u001b[0m \u001b[0;34m\u001b[0m\u001b[0m\n",
      "\u001b[0;32m/usr/lib64/python3.6/json/__init__.py\u001b[0m in \u001b[0;36mloads\u001b[0;34m(s, encoding, cls, object_hook, parse_float, parse_int, parse_constant, object_pairs_hook, **kw)\u001b[0m\n\u001b[1;32m    352\u001b[0m             \u001b[0mparse_int\u001b[0m \u001b[0;32mis\u001b[0m \u001b[0;32mNone\u001b[0m \u001b[0;32mand\u001b[0m \u001b[0mparse_float\u001b[0m \u001b[0;32mis\u001b[0m \u001b[0;32mNone\u001b[0m \u001b[0;32mand\u001b[0m\u001b[0;34m\u001b[0m\u001b[0;34m\u001b[0m\u001b[0m\n\u001b[1;32m    353\u001b[0m             parse_constant is None and object_pairs_hook is None and not kw):\n\u001b[0;32m--> 354\u001b[0;31m         \u001b[0;32mreturn\u001b[0m \u001b[0m_default_decoder\u001b[0m\u001b[0;34m.\u001b[0m\u001b[0mdecode\u001b[0m\u001b[0;34m(\u001b[0m\u001b[0ms\u001b[0m\u001b[0;34m)\u001b[0m\u001b[0;34m\u001b[0m\u001b[0;34m\u001b[0m\u001b[0m\n\u001b[0m\u001b[1;32m    355\u001b[0m     \u001b[0;32mif\u001b[0m \u001b[0mcls\u001b[0m \u001b[0;32mis\u001b[0m \u001b[0;32mNone\u001b[0m\u001b[0;34m:\u001b[0m\u001b[0;34m\u001b[0m\u001b[0;34m\u001b[0m\u001b[0m\n\u001b[1;32m    356\u001b[0m         \u001b[0mcls\u001b[0m \u001b[0;34m=\u001b[0m \u001b[0mJSONDecoder\u001b[0m\u001b[0;34m\u001b[0m\u001b[0;34m\u001b[0m\u001b[0m\n",
      "\u001b[0;32m/usr/lib64/python3.6/json/decoder.py\u001b[0m in \u001b[0;36mdecode\u001b[0;34m(self, s, _w)\u001b[0m\n\u001b[1;32m    337\u001b[0m \u001b[0;34m\u001b[0m\u001b[0m\n\u001b[1;32m    338\u001b[0m         \"\"\"\n\u001b[0;32m--> 339\u001b[0;31m         \u001b[0mobj\u001b[0m\u001b[0;34m,\u001b[0m \u001b[0mend\u001b[0m \u001b[0;34m=\u001b[0m \u001b[0mself\u001b[0m\u001b[0;34m.\u001b[0m\u001b[0mraw_decode\u001b[0m\u001b[0;34m(\u001b[0m\u001b[0ms\u001b[0m\u001b[0;34m,\u001b[0m \u001b[0midx\u001b[0m\u001b[0;34m=\u001b[0m\u001b[0m_w\u001b[0m\u001b[0;34m(\u001b[0m\u001b[0ms\u001b[0m\u001b[0;34m,\u001b[0m \u001b[0;36m0\u001b[0m\u001b[0;34m)\u001b[0m\u001b[0;34m.\u001b[0m\u001b[0mend\u001b[0m\u001b[0;34m(\u001b[0m\u001b[0;34m)\u001b[0m\u001b[0;34m)\u001b[0m\u001b[0;34m\u001b[0m\u001b[0;34m\u001b[0m\u001b[0m\n\u001b[0m\u001b[1;32m    340\u001b[0m         \u001b[0mend\u001b[0m \u001b[0;34m=\u001b[0m \u001b[0m_w\u001b[0m\u001b[0;34m(\u001b[0m\u001b[0ms\u001b[0m\u001b[0;34m,\u001b[0m \u001b[0mend\u001b[0m\u001b[0;34m)\u001b[0m\u001b[0;34m.\u001b[0m\u001b[0mend\u001b[0m\u001b[0;34m(\u001b[0m\u001b[0;34m)\u001b[0m\u001b[0;34m\u001b[0m\u001b[0;34m\u001b[0m\u001b[0m\n\u001b[1;32m    341\u001b[0m         \u001b[0;32mif\u001b[0m \u001b[0mend\u001b[0m \u001b[0;34m!=\u001b[0m \u001b[0mlen\u001b[0m\u001b[0;34m(\u001b[0m\u001b[0ms\u001b[0m\u001b[0;34m)\u001b[0m\u001b[0;34m:\u001b[0m\u001b[0;34m\u001b[0m\u001b[0;34m\u001b[0m\u001b[0m\n",
      "\u001b[0;32m/usr/lib64/python3.6/json/decoder.py\u001b[0m in \u001b[0;36mraw_decode\u001b[0;34m(self, s, idx)\u001b[0m\n\u001b[1;32m    355\u001b[0m             \u001b[0mobj\u001b[0m\u001b[0;34m,\u001b[0m \u001b[0mend\u001b[0m \u001b[0;34m=\u001b[0m \u001b[0mself\u001b[0m\u001b[0;34m.\u001b[0m\u001b[0mscan_once\u001b[0m\u001b[0;34m(\u001b[0m\u001b[0ms\u001b[0m\u001b[0;34m,\u001b[0m \u001b[0midx\u001b[0m\u001b[0;34m)\u001b[0m\u001b[0;34m\u001b[0m\u001b[0;34m\u001b[0m\u001b[0m\n\u001b[1;32m    356\u001b[0m         \u001b[0;32mexcept\u001b[0m \u001b[0mStopIteration\u001b[0m \u001b[0;32mas\u001b[0m \u001b[0merr\u001b[0m\u001b[0;34m:\u001b[0m\u001b[0;34m\u001b[0m\u001b[0;34m\u001b[0m\u001b[0m\n\u001b[0;32m--> 357\u001b[0;31m             \u001b[0;32mraise\u001b[0m \u001b[0mJSONDecodeError\u001b[0m\u001b[0;34m(\u001b[0m\u001b[0;34m\"Expecting value\"\u001b[0m\u001b[0;34m,\u001b[0m \u001b[0ms\u001b[0m\u001b[0;34m,\u001b[0m \u001b[0merr\u001b[0m\u001b[0;34m.\u001b[0m\u001b[0mvalue\u001b[0m\u001b[0;34m)\u001b[0m \u001b[0;32mfrom\u001b[0m \u001b[0;32mNone\u001b[0m\u001b[0;34m\u001b[0m\u001b[0;34m\u001b[0m\u001b[0m\n\u001b[0m\u001b[1;32m    358\u001b[0m         \u001b[0;32mreturn\u001b[0m \u001b[0mobj\u001b[0m\u001b[0;34m,\u001b[0m \u001b[0mend\u001b[0m\u001b[0;34m\u001b[0m\u001b[0;34m\u001b[0m\u001b[0m\n",
      "\u001b[0;31mJSONDecodeError\u001b[0m: Expecting value: line 1 column 1 (char 0)"
     ]
    }
   ],
   "source": [
    "# write your code below\n",
    "import re\n",
    "col_names = [\"{0:<60} {1:<10}\".format(\"Name\", \"Distance from NQ\")]\n",
    "fh = open('Unit08_umich_buildings.json',\"r\")\n",
    "umich_buildins_str = fh.read()\n",
    "          \n",
    "north_quad_distance = json.loads(umich_buildins_str)#tried to load similarly to previous problems above\n",
    "\n",
    "        \n",
    "json_file.close()\n",
    "\n",
    "with open(\"north_quad_distance.csv\", \"w\" ,newline = \"\") as file:\n",
    "    write = csv.writer(file)\n",
    "    write.writerow(col_names)\n",
    "\n",
    "    for row in north_quad_distance:\n",
    "        for ele in umich_buildings:\n",
    "            if var[\"id\"] == \"nq\":\n",
    "                start = (var[\"lat\"] , var[\"lng\"])\n",
    "            for var[\"id\"] in var:\n",
    "                end = (var[\"lat\"] , var[\"lng\"])\n",
    "\n",
    "            Distance_from_NQ = latLngDistanceMeters(start, end)\n",
    "\n",
    "            row = \"{0:<60} {1:<10}\".format(var[\"name\"], Distance_from_NQ)\n",
    "            writer.writerow(row.replace(\",\",\"\"))\n",
    "            \n",
    "file.close()"
   ]
  },
  {
   "cell_type": "markdown",
   "metadata": {},
   "source": [
    "### Problem 5\n",
    "This next problem uses the list *baby_names* loaded from Unit08_us-common-baby-names.csv (see first cell). Each element in the list is an OrderedDict object which is just like a dictionary except the elements are ordered in creation sequence.  This means that you may treat *baby_names* as a list where each element in the list is a dictionary.  A sample row appears as below.\n",
    "\n",
    "&nbsp;&nbsp;&nbsp;&nbsp;&nbsp;&nbsp;&nbsp;&nbsp;OrderedDict([('year', '1880'),('name', 'John'),('percent', '0.081541'),('sex', 'boy')])\n",
    "             \n",
    "The *percent* key holds a percentage value which represents the number of babies born that year who were given the name found in the value of the name key.  \n",
    "\n",
    "Write the function *popularInYear* that accepts the  parameter *year* and returns the most popular name for that year and associated percent. The most popular name is the one with the largest percentage.  This problem is essentially finding the maximum percentage in a subset of the baby_names list that match the year parameter.  \n",
    "\n",
    "Write code the iterates over years and prints the most popular name for each year as shown below."
   ]
  },
  {
   "cell_type": "code",
   "execution_count": 415,
   "metadata": {},
   "outputs": [
    {
     "name": "stdout",
     "output_type": "stream",
     "text": [
      "2000\n",
      "Most popular name in 2000 is John with 6.06 percent\n"
     ]
    }
   ],
   "source": [
    "years = ['1900','1925','1950','1975','2000']\n",
    "\n",
    "# write your code below\n",
    "dicts = {}\n",
    "OrderedDict = []\n",
    "\n",
    "with open(\"Unit08_us-common-baby-names.csv\", \"r\") as file:\n",
    "        reader = csv.reader(file)\n",
    "        baby_names = list(reader)\n",
    "\n",
    "        for var in baby_names[1::]:\n",
    "            dicts[baby_names[0][0]] = var[0]\n",
    "            dicts[baby_names[0][1]] = var[1]\n",
    "            dicts[baby_names[0][2]] = var[2]\n",
    "            dicts[baby_names[0][3]] = var[3]\n",
    "\n",
    "            OrderedDict += dicts.items()\n",
    "            \n",
    "percent_dict = {}\n",
    "a = 0\n",
    "b = 1\n",
    "c = 2\n",
    "lists = []\n",
    "\n",
    "while True:\n",
    "    if a == 103201 or b == 103201 or c == 103201:\n",
    "        break\n",
    "    else:\n",
    "        varYear = OrderedDict[a]\n",
    "        a += 4\n",
    "        name = OrderedDict[b]\n",
    "        b += 4\n",
    "        percentAMT = OrderedDict[c]\n",
    "        c += 4\n",
    "        tuples = (varYear[1], name[1], percentAMT[1])\n",
    "        lists.append(tuples)\n",
    "\n",
    "def findMostPopularName(year):\n",
    "    year = int(year)#has predestined value of 2000\n",
    "    largestP = 0\n",
    "    varName = \" \"\n",
    "    print(year)\n",
    "    \n",
    "    #for year in years I thought I could have done something simialr where it'll take all the years in years[] and search in lists and then output for each year. Tried: for year in years: below as well\n",
    "    for yearNum in lists:#checks through big list of all names  \n",
    "        if yearNum[0] == \"1900\":#this acts as what will be the value for other vars, like largestP and varName. \n",
    "        #for eachYear in year:\n",
    "            if float(yearNum[2]) > largestP:#calcs and takes the best of best in that year\n",
    "                varName = yearNum[1]\n",
    "                largestP = yearNum[2]\n",
    "                tuples = (varName, float(largestP))\n",
    "                \n",
    "                return tuples\n",
    "            return None\n",
    "        \n",
    "\n",
    "mostPopName = findMostPopularName(year)\n",
    "p = round(mostPopName[1] * 100, 2)#takes the decimal and converts to percentage\n",
    "\n",
    "print(\"Most popular name in\", year, \"is\", mostPopName[0], \"with\", p, \"percent\")#I know that john is not for 2000 as well. I do not know where the 2000 is coming from\n",
    "\n",
    "#year = \"2000\"#did not work\n",
    "#print(\"Most popular name in\", year, \"is\", mostPopName[0], \"with\", p, \"percent\")"
   ]
  },
  {
   "cell_type": "markdown",
   "metadata": {},
   "source": [
    "<span style=\"color:blue\">Expected output:</span><br/>\n",
    "<span style=\"font: courier; font-size: 13px\">\n",
    "Most popular name in 1900 is John with 6.06 percent<br/>\n",
    "Most popular name in 1925 is Mary with 5.59 percent<br/>\n",
    "Most popular name in 1950 is James with 4.73 percent<br/>\n",
    "Most popular name in 1975 is Michael with 4.22 percent<br/>\n",
    "Most popular name in 2000 is Jacob with 1.65 percent</span>"
   ]
  },
  {
   "cell_type": "markdown",
   "metadata": {},
   "source": [
    "### Nested Data and Nested Iteration\n",
    "Many web services return information either in a json or xml format.  Below is sample json return by the Facebook API and is representative in structure of the json returned by most web services.  You will be working complex nested data in future modules.  This problem will serve as a warmup for those future problem sets.\n",
    "\n",
    "First, just get familiar with the structure of the data. You may want to copy and paste it to a site like https://jsoneditoronline.org/ so you may inspect the data.\n",
    "\n",
    "Run the cell below before proceeding to the problems."
   ]
  },
  {
   "cell_type": "code",
   "execution_count": 119,
   "metadata": {},
   "outputs": [],
   "source": [
    "fb_data = {\n",
    " \"data\": [\n",
    "  {\n",
    "    \"id\": \"2253324325325123432madeup\", \n",
    "    \"from\": {\n",
    "      \"id\": \"23243152523425madeup\", \n",
    "      \"name\": \"Jane Smith\"\n",
    "    }, \n",
    "    \"to\": {\n",
    "      \"data\": [\n",
    "        {\n",
    "          \"name\": \"Your Facebook Group\", \n",
    "          \"id\": \"432542543635453245madeup\"\n",
    "        }\n",
    "      ]\n",
    "    }, \n",
    "    \"message\": \"This problem might use the accumulation pattern, like many problems do\", \n",
    "    \"type\": \"status\", \n",
    "    \"created_time\": \"2014-10-03T02:07:19+0000\", \n",
    "    \"updated_time\": \"2014-10-03T02:07:19+0000\"\n",
    "  }, \n",
    " \n",
    "  {\n",
    "    \"id\": \"2359739457974250975madeup\", \n",
    "    \"from\": {\n",
    "      \"id\": \"4363684063madeup\", \n",
    "      \"name\": \"John Smythe\"\n",
    "    }, \n",
    "    \"to\": {\n",
    "      \"data\": [\n",
    "        {\n",
    "          \"name\": \"Your Facebook Group\", \n",
    "          \"id\": \"432542543635453245madeup\"\n",
    "        }\n",
    "      ]\n",
    "    }, \n",
    "    \"message\": \"Here is a fun link about programming\", \n",
    "    \"type\": \"status\", \n",
    "    \"created_time\": \"2014-10-02T20:12:28+0000\", \n",
    "    \"updated_time\": \"2014-10-02T20:12:28+0000\"\n",
    "  }]\n",
    "}"
   ]
  },
  {
   "cell_type": "markdown",
   "metadata": {},
   "source": [
    "### Problem 6\n",
    "Extract the contents of the first message into a variable called *first_message*.  Print *first_message*."
   ]
  },
  {
   "cell_type": "code",
   "execution_count": 439,
   "metadata": {},
   "outputs": [
    {
     "name": "stdout",
     "output_type": "stream",
     "text": [
      "This problem might use the accumulation pattern, like many problems do\n"
     ]
    }
   ],
   "source": [
    "first_message = []\n",
    "\n",
    "for key, value in fb_data.items():\n",
    "    for dicts in value:\n",
    "        for key2, val2 in dicts.items():\n",
    "            if key2 == \"message\":\n",
    "                message.append(dicts[key2])\n",
    "                \n",
    "                \n",
    "first_message = message[0]\n",
    "\n",
    "print(first_message)"
   ]
  },
  {
   "cell_type": "markdown",
   "metadata": {},
   "source": [
    "<span style=\"color:blue\">Expected output:</span><br/>\n",
    "<span style=\"font: courier; font-size: 13px\">\n",
    "This problem might use the accumulation pattern, like many problems do</span>"
   ]
  },
  {
   "cell_type": "markdown",
   "metadata": {},
   "source": [
    "### Problem 7\n",
    "Extract the name of the author of the second post, into a variable called *second_name*.  Print *second_name*."
   ]
  },
  {
   "cell_type": "code",
   "execution_count": 437,
   "metadata": {},
   "outputs": [
    {
     "name": "stdout",
     "output_type": "stream",
     "text": [
      "John Smythe\n"
     ]
    }
   ],
   "source": [
    "second_name = []\n",
    "for key, value in fb_data.items():\n",
    "    for dicts in value:\n",
    "        for key2, val2 in dicts.items():\n",
    "            if key2 == \"from\":\n",
    "                val3 = dicts[key2]\n",
    "                second_name.append(val3[\"name\"])\n",
    "                \n",
    "second_name = name[1]\n",
    "print(second_name)"
   ]
  },
  {
   "cell_type": "markdown",
   "metadata": {},
   "source": [
    "<span style=\"color:blue\">Expected output:</span><br/>\n",
    "<span style=\"font: courier; font-size: 13px\">\n",
    "John Smythe</span>"
   ]
  },
  {
   "cell_type": "markdown",
   "metadata": {},
   "source": [
    "### Problem 8\n",
    "Write code that generates a list of the names of all the senders of the messages in fb_data. Store it in a variable called *senders*.  Print the variable *senders*."
   ]
  },
  {
   "cell_type": "code",
   "execution_count": 438,
   "metadata": {},
   "outputs": [
    {
     "name": "stdout",
     "output_type": "stream",
     "text": [
      "['Jane Smith', 'John Smythe']\n"
     ]
    }
   ],
   "source": [
    "senders = []\n",
    "\n",
    "for key, value in fb_data.items():\n",
    "    for dicts in value:\n",
    "        for key2, val2 in dicts.items():\n",
    "            if key2 == \"from\":\n",
    "                val3 = dicts[key2]\n",
    "                senders.append(val3[\"name\"])\n",
    "                \n",
    "print(senders)"
   ]
  },
  {
   "cell_type": "markdown",
   "metadata": {},
   "source": [
    "<span style=\"color:blue\">Expected output:</span><br/>\n",
    "<span style=\"font: courier; font-size: 13px\">\n",
    "['Jane Smith', 'John Smythe']</span>"
   ]
  }
 ],
 "metadata": {
  "kernelspec": {
   "display_name": "Python 3",
   "language": "python",
   "name": "python3"
  },
  "language_info": {
   "codemirror_mode": {
    "name": "ipython",
    "version": 3
   },
   "file_extension": ".py",
   "mimetype": "text/x-python",
   "name": "python",
   "nbconvert_exporter": "python",
   "pygments_lexer": "ipython3",
   "version": "3.8.8"
  }
 },
 "nbformat": 4,
 "nbformat_minor": 2
}
