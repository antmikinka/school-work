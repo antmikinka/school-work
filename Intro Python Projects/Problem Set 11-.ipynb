{
 "cells": [
  {
   "cell_type": "markdown",
   "metadata": {},
   "source": [
    "## <span style=\"color:blue\">Problem Set 11</span>"
   ]
  },
  {
   "cell_type": "raw",
   "metadata": {},
   "source": [
    "<Anthony Mikinka>"
   ]
  },
  {
   "cell_type": "markdown",
   "metadata": {},
   "source": [
    "### Problem 1\n",
    "You need to produce a list of Scrabble word values for a list of words.  Write a function *scrabbleValue* that is passed the string parameter *word* and returns the Scrabble value for that word.  The Scrabble value of the word is the sum of each Scrabble value of each letter in the word.  The scrabble value of each letter is in the dictionary *letter_values*.  Use the *map* function and the *scrabbleValue* function to create and print a list of scrabble word values for the words in the list *words*."
   ]
  },
  {
   "cell_type": "code",
   "execution_count": 7,
   "metadata": {},
   "outputs": [
    {
     "name": "stdout",
     "output_type": "stream",
     "text": [
      "[14, 12, 4, 7, 11, 8, 16, 5]\n"
     ]
    }
   ],
   "source": [
    "def scrabbleValue(word):\n",
    "    tot = 0#total\n",
    "    \n",
    "    for l in word:#letter in word\n",
    "        l = l.lower()#makes letters lowercase\n",
    "        \n",
    "        for lValue in letter_values.keys():#letter value \n",
    "            if lValue in l:#letter value in letters\n",
    "                \n",
    "                tot += int(letter_values[lValue])#gets letter values and adds them to total\n",
    "                \n",
    "    return tot#returns total\n",
    "\n",
    "letter_values =  {'a':1, 'b':3, 'c':3, 'd':2, 'e':1, 'f':4, 'g': 2, 'h':4,\n",
    "    'i':1, 'j':8, 'k':5, 'l':1, 'm':3, 'n':1, 'o':1, 'p':3, 'q':10, 'r':1,\n",
    "    's':1, 't':1, 'u':1, 'v':8, 'w':4, 'x':8, 'y':4, 'z':10}\n",
    "\n",
    "words = ['python', 'program', 'list', 'string', 'unix', 'hours', 'syntax', 'error']\n",
    "# write your code below\n",
    "print(list(map(scrabbleValue, words)))\n"
   ]
  },
  {
   "cell_type": "markdown",
   "metadata": {},
   "source": [
    "<span style=\"color:blue\">Expected output:</span><br/>\n",
    "<span style=\"font: courier; font-size: 13px\">\n",
    "[14, 12, 4, 7, 11, 8, 16, 5]</span>"
   ]
  },
  {
   "cell_type": "markdown",
   "metadata": {},
   "source": [
    "### Problem 2\n",
    "Using the list *words*, produce a list of words, called evenWords, whose word length is an even number.  Write the function *selectWord* that is passed the string parameter *word*.  The function returns *True* if the length of the string is an even number; otherwise *False* is returned. Use the *filter* function and *selectWord* function to create and print a list of even length words from the list *words*."
   ]
  },
  {
   "cell_type": "code",
   "execution_count": 8,
   "metadata": {},
   "outputs": [
    {
     "name": "stdout",
     "output_type": "stream",
     "text": [
      "['python', 'list', 'string', 'unix', 'syntax']\n"
     ]
    }
   ],
   "source": [
    "def selectWord(word):\n",
    "    # write your code here\n",
    "    aLen = len(word)#length of word\n",
    "    \n",
    "    oXE = aLen %2#sees if odd or even\n",
    "    if oXE == 1:#if odd, returns false\n",
    "        return False\n",
    "    \n",
    "    if oXE == 0:#if even, returns true\n",
    "        return True\n",
    "\n",
    "words = ['python', 'program', 'list', 'string', 'unix', 'hours', 'syntax', 'error']\n",
    "# write your code below\n",
    "\n",
    "print(list(filter(selectWord, words)))\n"
   ]
  },
  {
   "cell_type": "markdown",
   "metadata": {},
   "source": [
    "<span style=\"color:blue\">Expected output:</span><br/>\n",
    "<span style=\"font: courier; font-size: 13px\">\n",
    "['python', 'list', 'string', 'unix', 'syntax']</span>"
   ]
  },
  {
   "cell_type": "markdown",
   "metadata": {},
   "source": [
    "### Problem 3\n",
    "Alter your solution for problem 2 to use a *list comprehension* and the *filter* function (within the *list comprehension*). "
   ]
  },
  {
   "cell_type": "code",
   "execution_count": 9,
   "metadata": {},
   "outputs": [
    {
     "name": "stdout",
     "output_type": "stream",
     "text": [
      "['python', 'list', 'string', 'unix', 'syntax']\n"
     ]
    }
   ],
   "source": [
    "def selectWord(word):\n",
    "    # write your code here\n",
    "    aLen = len(word)\n",
    "    \n",
    "    oXE = aLen %2#sees if odd or even\n",
    "    if oXE == 1:#if odd, returns false\n",
    "        return False\n",
    "    \n",
    "    if oXE == 0:#if even, returns true\n",
    "        return True\n",
    "\n",
    "words = ['python', 'program', 'list', 'string', 'unix', 'hours', 'syntax', 'error']\n",
    "# write your code below\n",
    "\n",
    "print(list(filter(selectWord, [word for word in words])))"
   ]
  },
  {
   "cell_type": "markdown",
   "metadata": {},
   "source": [
    "<span style=\"color:blue\">Expected output:</span><br/>\n",
    "<span style=\"font: courier; font-size: 13px\">\n",
    "['python', 'list', 'string', 'unix', 'syntax']</span>"
   ]
  },
  {
   "cell_type": "markdown",
   "metadata": {},
   "source": [
    "### Problem 4\n",
    "Alter problem 3 to use a *lamba expression* in the list comprehension instead of the *selectWord* function. Hint: returning true or false based upon whether the length of the string is even or odd, may be done with a simple python expression.  If you used an *if* statement in *selectWord*, ponder the expression that you used. "
   ]
  },
  {
   "cell_type": "code",
   "execution_count": 13,
   "metadata": {},
   "outputs": [
    {
     "name": "stdout",
     "output_type": "stream",
     "text": [
      "['python', 'list', 'string', 'unix', 'syntax']\n"
     ]
    }
   ],
   "source": [
    "words = ['python', 'program', 'list', 'string', 'unix', 'hours', 'syntax', 'error']\n",
    "# write your code below\n",
    "\n",
    "print(list(filter(lambda w: len(w) % 2 == 0, [word for word in words])))"
   ]
  },
  {
   "cell_type": "markdown",
   "metadata": {},
   "source": [
    "<span style=\"color:blue\">Expected output:</span><br/>\n",
    "<span style=\"font: courier; font-size: 13px\">\n",
    "['python', 'list', 'string', 'unix', 'syntax']</span>"
   ]
  },
  {
   "cell_type": "markdown",
   "metadata": {},
   "source": [
    "### Problem 5\n",
    "The variable *names* below is a list where each element is a string in \"First Name Last Name\" sequence. Derive the lst *newNames* from *names* where each element is in \"Last Name, First Name\" sequence.  Use list comprehension to convert the list. Hint, you will need to split each name into the First and Last.  Remember 'a' + 'b' ==> 'ab'. "
   ]
  },
  {
   "cell_type": "code",
   "execution_count": 16,
   "metadata": {},
   "outputs": [
    {
     "name": "stdout",
     "output_type": "stream",
     "text": [
      "['Newton, Isaac', 'Einstein, Albert', 'Bohr, Niels', 'Curie, Marie', 'Darwin, Charles', 'Galilei, Galileo', 'Mead, Margaret']\n"
     ]
    }
   ],
   "source": [
    "names = [\"Isaac Newton\", \"Albert Einstein\", \"Niels Bohr\", \"Marie Curie\",\"Charles Darwin\", \"Galileo Galilei\", \"Margaret Mead\"]\n",
    "# write your code below\n",
    "\n",
    "newNames = [name.split() for name in names]#last name,first\n",
    "\n",
    "#print(newNames)\n",
    "#name2[1] = last, name[0] = first\n",
    "newNames2 = [name2[1] + \", \" + name2[0] for name2 in newNames]\n",
    "\n",
    "print(newNames2)"
   ]
  },
  {
   "cell_type": "markdown",
   "metadata": {},
   "source": [
    "<span style=\"color:blue\">Expected output:</span><br/>\n",
    "<span style=\"font: courier; font-size: 13px\">\n",
    "['Newton, Isaac', 'Einstein, Albert', 'Bohr, Niels', 'Curie, Marie', 'Darwin, Charles', 'Galilei, Galileo', 'Mead, Margaret']</span>"
   ]
  },
  {
   "cell_type": "markdown",
   "metadata": {},
   "source": [
    "### Problem 6\n",
    "Given a string in the variable *sentence* below, write code the uses a list comprehension to reverse the words in the string.  You need to use the reversed() and join() functions. Albeit this solution is just one line of code, this is a challenging problem.  You need to break this down into multiple steps:  \n",
    "&nbsp;&nbsp;&nbsp;&nbsp;1) You know how to split a string into a list of words.  \n",
    "&nbsp;&nbsp;&nbsp;&nbsp;2) Reverse the list of words using reversed().  The end result should the a list of the words in reverse order.  \n",
    "&nbsp;&nbsp;&nbsp;&nbsp;3) Use list comprehension to iterate through the list of reversed words.  \n",
    "&nbsp;&nbsp;&nbsp;&nbsp;4) Use join() to join the words in the reversed list into a string.  "
   ]
  },
  {
   "cell_type": "code",
   "execution_count": 26,
   "metadata": {},
   "outputs": [
    {
     "name": "stdout",
     "output_type": "stream",
     "text": [
      "together back getting ever never are we\n"
     ]
    }
   ],
   "source": [
    "sentence  = 'we are never ever getting back together'\n",
    "# write your code below\n",
    "\n",
    "sSplit = sentence.split(\" \")#splits sentence into words\n",
    "\n",
    "#print(sSplit)\n",
    "rSent = reversed(sSplit)#var = split list of words\n",
    "\n",
    "rSentII = \" \".join(rSent)#joins words into a string\n",
    "\n",
    "print(rSentII)\n"
   ]
  },
  {
   "cell_type": "markdown",
   "metadata": {},
   "source": [
    "<span style=\"color:blue\">Expected output:</span><br/>\n",
    "<span style=\"font: courier; font-size: 13px\">\n",
    "together back getting ever never are we</span>"
   ]
  },
  {
   "cell_type": "code",
   "execution_count": null,
   "metadata": {},
   "outputs": [],
   "source": []
  }
 ],
 "metadata": {
  "kernelspec": {
   "display_name": "Python 3",
   "language": "python",
   "name": "python3"
  },
  "language_info": {
   "codemirror_mode": {
    "name": "ipython",
    "version": 3
   },
   "file_extension": ".py",
   "mimetype": "text/x-python",
   "name": "python",
   "nbconvert_exporter": "python",
   "pygments_lexer": "ipython3",
   "version": "3.8.8"
  }
 },
 "nbformat": 4,
 "nbformat_minor": 2
}
