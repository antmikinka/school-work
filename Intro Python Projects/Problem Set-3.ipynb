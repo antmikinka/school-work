{
 "cells": [
  {
   "cell_type": "markdown",
   "metadata": {},
   "source": [
    "## <span style=\"color:blue\">Problem Set 3</span>"
   ]
  },
  {
   "cell_type": "raw",
   "metadata": {},
   "source": [
    "<Anthony Mikinka>"
   ]
  },
  {
   "cell_type": "markdown",
   "metadata": {},
   "source": [
    "**Note:**   \n",
    "1. You need to use code to arrive at a solution.  Hardcoding a solution results in 0 points for the problem.\n",
    "2. **Use only syntax covered in the Units so far.**  Using any other syntax results in 0 points for the problem. "
   ]
  },
  {
   "cell_type": "markdown",
   "metadata": {},
   "source": [
    "### Problem 1\n",
    "\n",
    "In the cell below, write code that iterates over the string _myStr_ and does the following:\n",
    "1. Print each character.\n",
    "2. Count the number of characters and stores the result the variable _cntChars_.\n",
    "\n",
    "Print the variable _myStr_ and _cntChars_ with an appropriate label as shown below in Expected Output."
   ]
  },
  {
   "cell_type": "code",
   "execution_count": 59,
   "metadata": {},
   "outputs": [
    {
     "name": "stdout",
     "output_type": "stream",
     "text": [
      "M\n",
      "I\n",
      "C\n",
      "H\n",
      "I\n",
      "G\n",
      "A\n",
      "N\n",
      "The amount of characters in MICHIGAN is 8\n"
     ]
    }
   ],
   "source": [
    "myStr = \"MICHIGAN\"\n",
    "\n",
    "# Write your code below.\n",
    "for char in myStr:\n",
    "    print (char)\n",
    "    \n",
    "cntChars = len(myStr)\n",
    "print(\"The amount of characters in MICHIGAN is\", cntChars)"
   ]
  },
  {
   "cell_type": "markdown",
   "metadata": {},
   "source": [
    "<span style=\"color:blue\">Expected output:</span><br/>\n",
    "<span style=\"font: courier; font-size: 13px\">\n",
    "M<br/>\n",
    "I<br/>\n",
    "C<br/>\n",
    "H<br/>\n",
    "I<br/>\n",
    "G<br/>\n",
    "A<br/>\n",
    "N<br />\n",
    "The number of characters in MICHIGAN is 8</span>"
   ]
  },
  {
   "cell_type": "markdown",
   "metadata": {},
   "source": [
    "### Problem 2\n",
    "\n",
    "In the cell below write one loop that iterates over the list _mixedList_ and does the following:\n",
    "1. Prints each element and the element type.\n",
    "2. Count the number of elements and store the result in the variable _cntList_.\n",
    "\n",
    "Print _cntList_ preceded by an appropriate label as shown below."
   ]
  },
  {
   "cell_type": "code",
   "execution_count": 60,
   "metadata": {},
   "outputs": [
    {
     "name": "stdout",
     "output_type": "stream",
     "text": [
      "hello <class 'str'>\n",
      "2 <class 'int'>\n",
      "4 <class 'int'>\n",
      "6.0 <class 'float'>\n",
      "7.5 <class 'float'>\n",
      "234352354 <class 'int'>\n",
      "the end <class 'str'>\n",
      " <class 'str'>\n",
      "99 <class 'int'>\n",
      "The amount of elements in the list is 9\n"
     ]
    }
   ],
   "source": [
    "mixedList = [\"hello\", 2, 4, 6.0, 7.5, 234352354, \"the end\", \"\", 99]\n",
    "\n",
    "# Write your code below.\n",
    "for element in mixedList:\n",
    "    print (element, type(element))\n",
    "cntList = len(mixedList)\n",
    "\n",
    "print(\"The amount of elements in the list is\", cntList)\n"
   ]
  },
  {
   "cell_type": "markdown",
   "metadata": {},
   "source": [
    "<span style=\"color:blue\">Expected output:</span><br/>\n",
    "<span style=\"font: courier; font-size: 13px\">\n",
    "hello <class 'str'><br/>\n",
    "2 < class 'int'><br/>\n",
    "4 < class 'int'><br/>\n",
    "6.0 < class 'float'><br/>\n",
    "7.5 < class 'float'><br/>\n",
    "234352354 < class 'int'><br/>\n",
    "the end < class 'str'><br/>\n",
    " < class 'str'><br/>\n",
    "99 < class 'int'><br />\n",
    "The number of elements in the list is 9</span>"
   ]
  },
  {
   "cell_type": "markdown",
   "metadata": {},
   "source": [
    "### Problem 3\n",
    "Write code that iterates over to the string _sentence_ and does the following:\n",
    "1. Count the number of characters using the variable _numChars_.\n",
    "2. Count the number of vowels using the variable _numVowels_. A character is a vowel if it is a member of the tuple _vowels_. \n",
    "\n",
    "Print the variables _numChars_ and _numVowels_ preceded by appropriate labels as shown below. \n",
    "\n",
    "Do NOT use the **len** function to solve the problem.  You may use the **len** function on the string to confirm the your answer is correct. "
   ]
  },
  {
   "cell_type": "code",
   "execution_count": 72,
   "metadata": {},
   "outputs": [
    {
     "name": "stdout",
     "output_type": "stream",
     "text": [
      "The amount of characters is 57\n",
      "The amount of vowels is 16\n"
     ]
    }
   ],
   "source": [
    "sentence = \"The quick brown rhino jumped over the extremely lazy fox.\"\n",
    "vowels = ('a','e','i','o','u')\n",
    "# Write your code below.\n",
    "numChars = 0\n",
    "\n",
    "for char in sentence:\n",
    "    numChars += 1\n",
    "    \n",
    "print(\"The amount of characters is\", numChars)\n",
    "\n",
    "numVowels = 0\n",
    "for vowel in sentence:\n",
    "    if vowel in vowels:\n",
    "        numVowels += 1\n",
    "        \n",
    "print(\"The amount of vowels is\", numVowels)\n"
   ]
  },
  {
   "cell_type": "markdown",
   "metadata": {},
   "source": [
    "<span style=\"color:blue\">Expected output:</span><br/>\n",
    "<span style=\"font: courier; font-size: 13px\">\n",
    "The number of characters is  57<br />\n",
    "The number of vowels is  16\n",
    "</span>"
   ]
  },
  {
   "cell_type": "markdown",
   "metadata": {},
   "source": [
    "### Problem 4\n",
    "\n",
    "Write code in the cell below that does the following:\n",
    "1. Create a list called _words_ from the words in the string _sentence_.\n",
    "2. Iterate over _words_ \n",
    "    1. Create a list called wordLens which contains the length of every element in _words_.\n",
    "    2. Count the number of words in _words_ in the variable _numWords_.\n",
    "    3. Print the word and the word length.\n",
    "\n",
    "You need one loop to solve this problem.  You need to use the **len** and **split** function. Print the list _wordLens_ and the variable _numWords_ as shown below. "
   ]
  },
  {
   "cell_type": "code",
   "execution_count": 62,
   "metadata": {},
   "outputs": [
    {
     "name": "stdout",
     "output_type": "stream",
     "text": [
      "The 3\n",
      "quick 5\n",
      "brown 5\n",
      "rhino 5\n",
      "jumped 6\n",
      "over 4\n",
      "the 3\n",
      "extremely 9\n",
      "lazy 4\n",
      "fox 3\n",
      "The amount of words is 10\n",
      "[3, 5, 5, 5, 6, 4, 3, 9, 4, 3]\n"
     ]
    }
   ],
   "source": [
    "sentence = \"The quick brown rhino jumped over the extremely lazy fox\"\n",
    "\n",
    "# Write your code below.\n",
    "words = sentence.split()\n",
    "counter = 0\n",
    "wordLens = len(words)\n",
    "counterList = []\n",
    "\n",
    "for x in words:\n",
    "    print(x, len(x))\n",
    "    counter = counter + 1\n",
    "    counterList = counterList + [len(x)]\n",
    "    \n",
    "print(\"The amount of words is\", wordLens)\n",
    "\n",
    "print(counterList)"
   ]
  },
  {
   "cell_type": "markdown",
   "metadata": {},
   "source": [
    "<span style=\"color:blue\">Expected output:</span><br/>\n",
    "<span style=\"font: courier; font-size: 13px\">\n",
    "The 3<br/>\n",
    "quick 5<br/>\n",
    "brown 5<br/>\n",
    "rhino 5<br/>\n",
    "jumped 6<br/>\n",
    "over 4<br/>\n",
    "the 3<br/>\n",
    "extremely 9<br/>\n",
    "lazy 4<br/>\n",
    "fox 3<br/>\n",
    "Number of words is 10<br/>\n",
    "[3, 5, 5, 5, 6, 4, 3, 9, 4, 3]</span>"
   ]
  },
  {
   "cell_type": "markdown",
   "metadata": {},
   "source": [
    "### Problem 5\n",
    "\n",
    "The string _addStr_ contains list of numbers separated by the plus sign. Write code that uses an accumulation pattern to take the sum of all numbers and assigns it to the variable sumVal.  Print the variable sumVal prefixed by an appropriate label. \n",
    "\n",
    "You should use the **split** function to split by \"+\" and int() to cast to an integer."
   ]
  },
  {
   "cell_type": "code",
   "execution_count": 63,
   "metadata": {},
   "outputs": [
    {
     "name": "stdout",
     "output_type": "stream",
     "text": [
      "The total of all numbers is 37\n"
     ]
    }
   ],
   "source": [
    "addStr = \"2+5+10+20\"\n",
    "\n",
    "# Write your code below.\n",
    "addStr = addStr.split(\"+\")\n",
    "sumVal = 0\n",
    "for num in addStr:\n",
    "    sumVal = sumVal + int(num)\n",
    "    \n",
    "print (\"The total of all numbers is\", sumVal)"
   ]
  },
  {
   "cell_type": "markdown",
   "metadata": {},
   "source": [
    "<span style=\"color:blue\">Expected output:</span><br/>\n",
    "<span style=\"font: courier; font-size: 13px\">\n",
    "The total of all numbers is 37</span>"
   ]
  },
  {
   "cell_type": "markdown",
   "metadata": {},
   "source": [
    "### Problem 6\n",
    "\n",
    "The string _weekTemps_ contains a comma-separated list of fahrenheit temperatures.  Write code that computes the average temperature and assign it to the variable _avgTemp_. Do not hard code your answer.  This means that your code must compute both the total of all temperatures and the number of temperatures in _weekTemps_. The average temperature is defined as the total of all temperatures divided by the number of temperatures. Print the variable _avgTemp_ preceded by an appropriate label.\n",
    "\n",
    "You need to use one loop to solve this problem. You need to use the **split** and **float** functions.  "
   ]
  },
  {
   "cell_type": "code",
   "execution_count": 64,
   "metadata": {},
   "outputs": [
    {
     "name": "stdout",
     "output_type": "stream",
     "text": [
      "The average temperature is 80.67142857142858\n"
     ]
    }
   ],
   "source": [
    "weekTemps = \"75.1,77.7,83.2,82.5,81.0,79.5,85.7\"\n",
    "\n",
    "# Write your code below.\n",
    "weekTemps = weekTemps.split(\",\")\n",
    "counter = 0\n",
    "total = 0\n",
    "\n",
    "for num in weekTemps:\n",
    "    counter += 1\n",
    "    total = total + float(num)\n",
    "avgTemp = total / counter\n",
    "\n",
    "print (\"The average temperature is\", float(avgTemp))"
   ]
  },
  {
   "cell_type": "markdown",
   "metadata": {},
   "source": [
    "<span style=\"color:blue\">Expected output:</span><br/>\n",
    "<span style=\"font: courier; font-size: 13px\">\n",
    "The average temperature is 80.67142857142858</span>"
   ]
  },
  {
   "cell_type": "markdown",
   "metadata": {},
   "source": [
    "### Problem 7\n",
    "\n",
    "The variable _rainfallMI_ is a string of comma-separated values.  Each value is the monthly average rainfall in inches for Michigan. Write code that does the following:\n",
    "1. Compute the number of months that have more than 3 inches of rainfall. Store the result in the variable _numRainyMonths_. \n",
    "2. Compute the total rainfall for all months.  Store the result in the variable _totRainfall_. \n",
    "\n",
    "Print the variables _numRainyMonths_ and _avgRainfall_ with the appropriate label as shown below."
   ]
  },
  {
   "cell_type": "code",
   "execution_count": 65,
   "metadata": {},
   "outputs": [
    {
     "name": "stdout",
     "output_type": "stream",
     "text": [
      "The number of months with greater than 3 inches of rain is 5\n",
      "The total amount of rainfall for all months is 31.73\n"
     ]
    }
   ],
   "source": [
    "rainfallMI = \"1.65, 1.46, 2.05, 3.03, 3.35, 3.46, 2.83, 3.23, 3.5, 2.52, 2.8, 1.85\"\n",
    "\n",
    "# Write your code below.\n",
    "rainfallMI = rainfallMI.split(\",\")\n",
    "numRainyMonths = 0\n",
    "totRainfall = 0\n",
    "\n",
    "for num in rainfallMI:\n",
    "    if float(num) > 3:\n",
    "        numRainyMonths += 1\n",
    "    totRainfall = totRainfall + float(num)\n",
    "    \n",
    "print (\"The number of months with greater than 3 inches of rain is\", int(numRainyMonths))\n",
    "print (\"The total amount of rainfall for all months is\", float(totRainfall))\n",
    "\n"
   ]
  },
  {
   "cell_type": "markdown",
   "metadata": {},
   "source": [
    "<span style=\"color:blue\">Expected output:</span><br/>\n",
    "<span style=\"font: courier; font-size: 13px\">\n",
    "Number of months with more than 3 inches of rain 5<br />\n",
    "Total rainfall for all months is 31.73</span>"
   ]
  },
  {
   "cell_type": "markdown",
   "metadata": {},
   "source": [
    "### Problem 8\n",
    "\n",
    "The variable _sentence_ stores a string of words. Write code that does the following:\n",
    "1. Compute the number of words that begin and end with the same letter including one-letter words. Store the result in the variable _sameLetterCount_.\n",
    "2. Compute that number of word that contain an \"f\" or a \"k\".  Store the result in the variable _fkCount_. \n",
    "\n",
    "Print the variables _sameLetterCount_ and _fkCount_ as shown below. \n",
    "\n",
    "You need to use **split**, the **in** operator to test for the existence of an \"f\" or \"k\", the **or** operator to join the logical expressions when testing for the existence of the letters. "
   ]
  },
  {
   "cell_type": "code",
   "execution_count": 66,
   "metadata": {},
   "outputs": [
    {
     "name": "stdout",
     "output_type": "stream",
     "text": [
      "The number of words that begin and end with the same letter is 2\n",
      "The number of words that have f or k is 4\n"
     ]
    }
   ],
   "source": [
    "sentence = \"students flock to the arb for a variety of outdoor activities such as jogging and picnicking\"\n",
    "\n",
    "# write your code below\n",
    "sentence = sentence.split(\" \")\n",
    "sameLetterCount = 0\n",
    "fkCount = 0\n",
    "\n",
    "for word in sentence:\n",
    "    if word[0] == word[-1]:\n",
    "        sameLetterCount += 1\n",
    "    if word.count(\"f\") or word.count(\"k\") > 0 :\n",
    "         fkCount += 1\n",
    "            \n",
    "print (\"The number of words that begin and end with the same letter is\", int(sameLetterCount))\n",
    "print (\"The number of words that have f or k is\", int(fkCount))"
   ]
  },
  {
   "cell_type": "markdown",
   "metadata": {},
   "source": [
    "<span style=\"color:blue\">Expected output:</span><br/>\n",
    "<span style=\"font: courier; font-size: 13px\">\n",
    "The number of words that begin and end with the same letter is 2<br />\n",
    "The number of words that contain f or k is 4</span>"
   ]
  },
  {
   "cell_type": "markdown",
   "metadata": {},
   "source": [
    "### Problem 9\n",
    "\n",
    "Write code that does the followsin:\n",
    "1. Compute the number of words in variable _sentence_ that contain either an \"p\" or an \"g\". Store the result in the variable _numPorG_.  \n",
    "2. Creates a string _strPorG_ composed of those words in _sentence_ that contain an \"p\" or \"g\". Each word in _strPorG_ must be separated by a comma.\n",
    "\n",
    "Print the variables _numPorG_ and _strPorG_ as shown below.\n",
    "\n",
    "Do not double-count words that contain both an p and an g. Use the **in** operator to test for existence. "
   ]
  },
  {
   "cell_type": "code",
   "execution_count": 67,
   "metadata": {},
   "outputs": [
    {
     "name": "stdout",
     "output_type": "stream",
     "text": [
      "The amount of words containing p or g is 8\n",
      "The words are python,high,general,purpose,programming,language,applied,problems,\n"
     ]
    }
   ],
   "source": [
    "sentence = \"python is a high level general purpose programming language that can be applied to many different classes of problems\"\n",
    "\n",
    "# write your code below\n",
    "sentence = sentence.split(\" \")\n",
    "numPorG = 0\n",
    "strPorG = \"\"\n",
    "\n",
    "for word in sentence:\n",
    "    if \"p\" in word or \"g\" in word:\n",
    "        numPorG += 1\n",
    "        strPorG += word + \",\"\n",
    "        \n",
    "print (\"The amount of words containing p or g is\", numPorG)\n",
    "print (\"The words are\", strPorG)\n"
   ]
  },
  {
   "cell_type": "markdown",
   "metadata": {},
   "source": [
    "<span style=\"color:blue\">Expected output:</span><br/>\n",
    "<span style=\"font: courier; font-size: 13px\">\n",
    "Number of words containing p or g is 8<br />\n",
    "Those words are python,high,general,purpose,programming,language,applied,problems</span>"
   ]
  },
  {
   "cell_type": "markdown",
   "metadata": {},
   "source": [
    "### Problem 10\n",
    "\n",
    "Write code that iterates over the list _months_ does the following:\n",
    "1. Displays the elements in the list _months_ and _rainfallMI_ as a two column table as shown below.\n",
    "2. Finds and displays the month with the largest rainfall. Stores the results in the variables _maxRain_ and _maxMonth_.\n",
    "3. Finds and displays the month with the lowest rainfall. Stores the results in the variables _minRain_ and _minMonth_.\n",
    "4. Total the rainfall for the year and store the result in _totRain_.\n",
    "\n",
    "The month must printed  left-justified and the rainfall_mi right-justified.  You must use string formatting.\n",
    "\n",
    "Since you can only iterate over one sequence at a time.  You need to manually index into the list _rainfallMI as you iterate over the first. Also, you must use only one for loop."
   ]
  },
  {
   "cell_type": "code",
   "execution_count": 68,
   "metadata": {},
   "outputs": [
    {
     "name": "stdout",
     "output_type": "stream",
     "text": [
      "Mon Rainfall\n",
      "Jan  1.65\n",
      "Feb  1.46\n",
      "Mar  2.05\n",
      "Apr  3.03\n",
      "May  3.35\n",
      "Jun  3.46\n",
      "Jul  2.83\n",
      "Aug  3.23\n",
      "Sep  3.50\n",
      "Oct  2.52\n",
      "Nov  2.80\n",
      "Dec  1.85\n",
      "The month with the largest rainfall is Sep with a rainfall of 3.50\n",
      "The month with the lowest rainfall is Feb with a rainfall of 1.46\n",
      "The annual rainfall is 31.73\n"
     ]
    }
   ],
   "source": [
    "rainfallMI = ['1.65', ' 1.46', ' 2.05', ' 3.03', ' 3.35', ' 3.46', ' 2.83', ' 3.23',\n",
    "               ' 3.5', ' 2.52', ' 2.8', ' 1.85']\n",
    "months = ['Jan','Feb','Mar','Apr','May','Jun','Jul','Aug','Sep','Oct','Nov','Dec']\n",
    "\n",
    "# Write your code below.\n",
    "output_format = '{0} {1:5.2f}'\n",
    "print(\"Mon Rainfall\")\n",
    "maxRain = None\n",
    "minRain = None\n",
    "index = 0\n",
    "totRain = 0.0\n",
    "\n",
    "for svalue in rainfallMI:\n",
    "    value = float(svalue)\n",
    "    \n",
    "    if maxRain==None or value > maxRain:\n",
    "        maxRain = value\n",
    "        maxMonth = index\n",
    "        \n",
    "    if minRain==None or value < minRain:\n",
    "        minRain = value\n",
    "        minMonth = index\n",
    "        \n",
    "    print(output_format.format(months[index],value))\n",
    "    index = index + 1\n",
    "    totRain = totRain + value\n",
    "    \n",
    "output_format_2 ='{0:.2f}'\n",
    "\n",
    "print(\"The month with the largest rainfall is\",months[maxMonth],\"with a rainfall of\",output_format_2.format(maxRain))\n",
    "\n",
    "print(\"The month with the lowest rainfall is\",months[minMonth],\"with a rainfall of\",output_format_2.format(minRain))\n",
    "\n",
    "print(\"The annual rainfall is\", totRain)"
   ]
  },
  {
   "cell_type": "markdown",
   "metadata": {},
   "source": [
    "<span style=\"color:blue\">Expected output:</span><br/>\n",
    "<span style=\"font: courier; font-size: 13px\">\n",
    "Mon Rainfall<br/>\n",
    "Jan 1.65<br/>\n",
    "Feb 1.46<br/>\n",
    "Mar 2.05<br/>\n",
    "Apr 3.03<br/>\n",
    "May 3.35<br/>\n",
    "Jun 3.46<br/>\n",
    "Jul 2.83<br/>\n",
    "Aug 3.23<br/>\n",
    "Sep 3.50<br/>\n",
    "Oct 2.52<br/>\n",
    "Nov 2.80<br/>\n",
    "Dec 1.85<br/>\n",
    "The month with the largest rainfall is Sep with a rainfall of 3.50<br/>\n",
    "The month with the lowest rainfall is Feb with a rainfall of 1.46<br/>\n",
    "The annual rainfall is 31.73<br/></span>"
   ]
  },
  {
   "cell_type": "markdown",
   "metadata": {},
   "source": [
    "### <span style=\"color:dark green\">Run the cells below to test your code</span>"
   ]
  },
  {
   "cell_type": "code",
   "execution_count": 70,
   "metadata": {},
   "outputs": [],
   "source": [
    "import unittest\n",
    "\n",
    "class PS03_01 (unittest.TestCase):\n",
    "    def test_problem01(self):\n",
    "        self.assertEqual(cntChars, 8)\n",
    "class PS03_02 (unittest.TestCase):\n",
    "    def test_problem02(self):\n",
    "        self.assertEqual(cntList, 9)\n",
    "class PS03_03 (unittest.TestCase):\n",
    "    def test_problem03(self):\n",
    "        self.assertEqual(numChars, 57)\n",
    "        self.assertEqual(numVowels, 16)\n",
    "class PS03_04 (unittest.TestCase):\n",
    "    def test_problem04(self):\n",
    "        self.assertEqual(numWords, 10)\n",
    "        self.assertEqual(sum(wordLens), 47)\n",
    "class PS03_05 (unittest.TestCase):\n",
    "    def test_problem05(self):\n",
    "        self.assertEqual(sumVal, 37)\n",
    "class PS03_06 (unittest.TestCase):\n",
    "    def test_problem06(self):\n",
    "        self.assertEqual(round(avgTemp), 81)\n",
    "class PS03_07 (unittest.TestCase):\n",
    "    def test_problem07(self):\n",
    "        self.assertEqual(numRainyMonths5, 5)\n",
    "        self.assertEqual(round(totRainfall), 32)\n",
    "class PS03_08 (unittest.TestCase):\n",
    "    def test_problem08(self):\n",
    "        self.assertEqual(sameLetterCount, 2)\n",
    "        self.assertEqual(fkCount, 4)\n",
    "class PS03_09 (unittest.TestCase):\n",
    "    def test_problem09(self):\n",
    "        self.assertEqual(numPorG, 8)\n",
    "        self.assertEqual(len(strPorG.split(',')), 8)\n",
    "class PS03_10 (unittest.TestCase):\n",
    "    def test_problem10(self):\n",
    "        self.assertEqual(maxRain, 3.50)\n",
    "        self.assertEqual(maxMonth, 'Sep')\n",
    "        self.assertEqual(minRain, 1.46)\n",
    "        self.assertEqual(minMonth, 'Feb')\n",
    "        self.assertEqual(totRain, 31.73)"
   ]
  },
  {
   "cell_type": "code",
   "execution_count": 39,
   "metadata": {},
   "outputs": [
    {
     "name": "stderr",
     "output_type": "stream",
     "text": [
      "test_problem01 (__main__.PS03_01) ... ok\n",
      "test_problem02 (__main__.PS03_02) ... ok\n",
      "test_problem03 (__main__.PS03_03) ... FAIL\n",
      "test_problem04 (__main__.PS03_04) ... ERROR\n",
      "test_problem05 (__main__.PS03_05) ... ok\n",
      "test_problem06 (__main__.PS03_06) ... ok\n",
      "test_problem07 (__main__.PS03_07) ... ERROR\n",
      "test_problem08 (__main__.PS03_08) ... ok\n",
      "test_problem09 (__main__.PS03_09) ... FAIL\n",
      "test_problem10 (__main__.PS03_10) ... FAIL\n",
      "\n",
      "======================================================================\n",
      "ERROR: test_problem04 (__main__.PS03_04)\n",
      "----------------------------------------------------------------------\n",
      "Traceback (most recent call last):\n",
      "  File \"<ipython-input-38-fe6513c51092>\", line 15, in test_problem04\n",
      "    self.assertEqual(numWords, 10)\n",
      "NameError: name 'numWords' is not defined\n",
      "\n",
      "======================================================================\n",
      "ERROR: test_problem07 (__main__.PS03_07)\n",
      "----------------------------------------------------------------------\n",
      "Traceback (most recent call last):\n",
      "  File \"<ipython-input-38-fe6513c51092>\", line 25, in test_problem07\n",
      "    self.assertEqual(numRainyMonths5, 5)\n",
      "NameError: name 'numRainyMonths5' is not defined\n",
      "\n",
      "======================================================================\n",
      "FAIL: test_problem03 (__main__.PS03_03)\n",
      "----------------------------------------------------------------------\n",
      "Traceback (most recent call last):\n",
      "  File \"<ipython-input-38-fe6513c51092>\", line 11, in test_problem03\n",
      "    self.assertEqual(numChars, 57)\n",
      "AssertionError: 0 != 57\n",
      "\n",
      "======================================================================\n",
      "FAIL: test_problem09 (__main__.PS03_09)\n",
      "----------------------------------------------------------------------\n",
      "Traceback (most recent call last):\n",
      "  File \"<ipython-input-38-fe6513c51092>\", line 34, in test_problem09\n",
      "    self.assertEqual(len(strPorG.split(',')), 8)\n",
      "AssertionError: 9 != 8\n",
      "\n",
      "======================================================================\n",
      "FAIL: test_problem10 (__main__.PS03_10)\n",
      "----------------------------------------------------------------------\n",
      "Traceback (most recent call last):\n",
      "  File \"<ipython-input-38-fe6513c51092>\", line 38, in test_problem10\n",
      "    self.assertEqual(maxMonth, 'Sep')\n",
      "AssertionError: 8 != 'Sep'\n",
      "\n",
      "----------------------------------------------------------------------\n",
      "Ran 10 tests in 0.006s\n",
      "\n",
      "FAILED (failures=3, errors=2)\n"
     ]
    },
    {
     "data": {
      "text/plain": [
       "<unittest.main.TestProgram at 0x7f87004ca0b8>"
      ]
     },
     "execution_count": 39,
     "metadata": {},
     "output_type": "execute_result"
    }
   ],
   "source": [
    "unittest.main(argv=['first-arg-is-ignored'], exit=False, verbosity=2)"
   ]
  },
  {
   "cell_type": "code",
   "execution_count": null,
   "metadata": {},
   "outputs": [],
   "source": []
  }
 ],
 "metadata": {
  "kernelspec": {
   "display_name": "Python 3",
   "language": "python",
   "name": "python3"
  },
  "language_info": {
   "codemirror_mode": {
    "name": "ipython",
    "version": 3
   },
   "file_extension": ".py",
   "mimetype": "text/x-python",
   "name": "python",
   "nbconvert_exporter": "python",
   "pygments_lexer": "ipython3",
   "version": "3.8.8"
  }
 },
 "nbformat": 4,
 "nbformat_minor": 2
}
