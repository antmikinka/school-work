{
 "cells": [
  {
   "cell_type": "markdown",
   "metadata": {},
   "source": [
    "## <span style=\"color:blue\">Problem Set 1<span>"
   ]
  },
  {
   "cell_type": "raw",
   "metadata": {},
   "source": [
    "<Anthony Mikinka>"
   ]
  },
  {
   "cell_type": "markdown",
   "metadata": {},
   "source": [
    "### <span style=\"color:red\">Run the cell below first</span>\n",
    "Before starting the assignment, run the cell below.  This cell has python functions that are used in the problems. \n",
    "\n",
    "<span style=\"color:red\">DO NOT HARD CODE anything unless otherwise directed.</span>"
   ]
  },
  {
   "cell_type": "code",
   "execution_count": 6,
   "metadata": {},
   "outputs": [],
   "source": [
    "def square(num):\n",
    "    return num**2\n",
    "\n",
    "def greeting(st):\n",
    "    st = str(st) # just in case\n",
    "    return \"Hello, \" + st\n",
    "\n",
    "def randomDigit():\n",
    "    import random\n",
    "    return random.choice([0,1,2,3,4,5,6,7,8,9])\n",
    "\n",
    "def addLengths(str1, str2):\n",
    "    return len(str1) + len(str2)"
   ]
  },
  {
   "cell_type": "markdown",
   "metadata": {},
   "source": [
    "### Problem 1\n",
    "\n",
    "In the cell below write code that does the following:\n",
    "1. Assign the value 3.145 to the variable _p_.\n",
    "2. Print the data type of _p_ preceded by the message \"The type of p is\".\n",
    "3. Write an assignment statement that assigns twice the value of the contents of p to _p_.\n",
    "4. Print the value of _p_."
   ]
  },
  {
   "cell_type": "code",
   "execution_count": 19,
   "metadata": {},
   "outputs": [
    {
     "name": "stdout",
     "output_type": "stream",
     "text": [
      "The type of p is <class 'float'>\n",
      "6.29\n"
     ]
    }
   ],
   "source": [
    "p = 3.145\n",
    "print(\"The type of p is\", type(p))\n",
    "p = p*2\n",
    "print(p)"
   ]
  },
  {
   "cell_type": "markdown",
   "metadata": {},
   "source": [
    "<span style=\"color:blue\">Expected output:</span><br/>\n",
    "<span style=\"font: courier; font-size: 13px\">\n",
    "The type of p is < class 'float' > <br />\n",
    "    6.29</span>"
   ]
  },
  {
   "cell_type": "markdown",
   "metadata": {},
   "source": [
    "### Problem 2\n",
    "\n",
    "In the cell below, do the following:\n",
    "1. Write code to assign the number of characters in the string _rv_ to the variable _numChars_.\n",
    "2. Print _numChars_ preceded by the message \"The number of chars is\".\n"
   ]
  },
  {
   "cell_type": "code",
   "execution_count": 25,
   "metadata": {},
   "outputs": [
    {
     "name": "stdout",
     "output_type": "stream",
     "text": [
      "The number of chars is 348\n"
     ]
    }
   ],
   "source": [
    "rv = \"\"\"Once upon a midnight dreary, while I pondered, weak and weary,\n",
    "    Over many a quaint and curious volume of forgotten lore,\n",
    "    While I nodded, nearly napping, suddenly there came a tapping,\n",
    "    As of some one gently rapping, rapping at my chamber door.\n",
    "    'Tis some visitor, I muttered, tapping at my chamber door;\n",
    "    Only this and nothing more.\"\"\"\n",
    "# write your code below\n",
    "numChars = len(rv)\n",
    "print(\"The number of chars is\", + numChars )"
   ]
  },
  {
   "cell_type": "markdown",
   "metadata": {},
   "source": [
    "<span style=\"color:blue\">Expected output:</span><br/>\n",
    "<span style=\"font: courier; font-size: 13px\">\n",
    "The number of chars is 348</span>"
   ]
  },
  {
   "cell_type": "markdown",
   "metadata": {},
   "source": [
    "### Problem 3\n",
    "\n",
    "There is a function in the first cell in this problem set called **square**. It takes one integer and returns the\n",
    "square of that integer value. \n",
    "\n",
    "Write code in the cell below that does the following:\n",
    "1. Calls the **square** function with the value 5 and assigns the returned value to the variable called _xyz_.\n",
    "2. Print _xyz_.\n"
   ]
  },
  {
   "cell_type": "code",
   "execution_count": 49,
   "metadata": {},
   "outputs": [
    {
     "name": "stdout",
     "output_type": "stream",
     "text": [
      "25\n"
     ]
    }
   ],
   "source": [
    "\n",
    "\n",
    "xyz = square(5)\n",
    "print(xyz)\n"
   ]
  },
  {
   "cell_type": "markdown",
   "metadata": {},
   "source": [
    "<span style=\"color:blue\">Expected output:</span><br/>\n",
    "<span style=\"font: courier; font-size: 13px\">\n",
    "25</span>"
   ]
  },
  {
   "cell_type": "markdown",
   "metadata": {},
   "source": [
    "### Problem 4\n",
    "\n",
    "The objective of the code below is:\n",
    "1. Calculate the circumference of a circle and store the result in the variable _circum_.\n",
    "2. Print the contents of the variable _circum_.\n",
    "\n",
    "Run the cell below.  There two errors in the code: a run time error and a logic error. Alter the code below to correct the errors and print the correct value.  "
   ]
  },
  {
   "cell_type": "code",
   "execution_count": 52,
   "metadata": {},
   "outputs": [
    {
     "name": "stdout",
     "output_type": "stream",
     "text": [
      "The circumference of a circule with radius 5 is 31.45\n",
      "31.45\n"
     ]
    }
   ],
   "source": [
    "pi = 0\n",
    "radius = 5\n",
    "pi = 3.145\n",
    "circum = 2 * pi * radius\n",
    "print(\"The circumference of a circule with radius 5 is\",circum)\n",
    "\n",
    "print(circum)\n",
    "# added this in because it is the \"expected  output\""
   ]
  },
  {
   "cell_type": "markdown",
   "metadata": {},
   "source": [
    "<span style=\"color:blue\">Expected output:</span><br/>\n",
    "<span style=\"font: courier; font-size: 13px\">\n",
    "31.45</span>"
   ]
  },
  {
   "cell_type": "markdown",
   "metadata": {},
   "source": [
    "### Problem 5\n",
    "\n",
    "The first line of code below prompts the user to enter an integer. Write additional code below as follows:\n",
    "1. Print the type of the variable _userInput_.  Notice the type.\n",
    "2. Assign the variable _result1_ two times the contents of _userInput_.\n",
    "3. Print _result1_."
   ]
  },
  {
   "cell_type": "code",
   "execution_count": 61,
   "metadata": {},
   "outputs": [
    {
     "name": "stdout",
     "output_type": "stream",
     "text": [
      "Enter an integer: 5\n",
      "<class 'str'>\n",
      "10\n"
     ]
    }
   ],
   "source": [
    "\n",
    "\n",
    "userInput = input('Enter an integer: ')\n",
    "# write your code below\n",
    "print(type(userInput))\n",
    "result1 = int(userInput)*2\n",
    "print(result1)\n",
    "\n"
   ]
  },
  {
   "cell_type": "markdown",
   "metadata": {},
   "source": [
    "<span style=\"color:blue\">Expected output if the user entered the value below:</span><br/>\n",
    "<span style=\"font: courier; font-size: 13px\">\n",
    "Enter an integer: 5<br />\n",
    "< class 'str' > <br />    \n",
    "10</span>"
   ]
  },
  {
   "cell_type": "markdown",
   "metadata": {},
   "source": [
    "### Problem 6\n",
    "\n",
    "The following code asks the user to enter two numbers. Write additional code in the cell below that does the following:\n",
    "1. Divides the first number by the second number and stores the result in the variable _result2_.\n",
    "2. Print the variable _result2_."
   ]
  },
  {
   "cell_type": "code",
   "execution_count": 65,
   "metadata": {},
   "outputs": [
    {
     "name": "stdout",
     "output_type": "stream",
     "text": [
      "Enter the first number: 20\n",
      "Enter the second number: 10\n",
      "2.0\n"
     ]
    }
   ],
   "source": [
    "firstNum = input('Enter the first number: ')\n",
    "secondNum = input('Enter the second number: ')\n",
    "# write your code below\n",
    "result2 = int(firstNum)/int(secondNum)\n",
    "print(result2)\n"
   ]
  },
  {
   "cell_type": "markdown",
   "metadata": {},
   "source": [
    "<span style=\"color:blue\">Expected output if the user entered the values below:</span><br/>\n",
    "<span style=\"font: courier; font-size: 13px\">\n",
    "Enter the first number: 20<br />\n",
    "Enter the second number: 10<br />\n",
    "2.0</span>"
   ]
  },
  {
   "cell_type": "markdown",
   "metadata": {},
   "source": [
    "### Problem 7\n",
    "\n",
    "There a function in the first cell called **greeting**, which takes any string and prepends \"Hello, \".  Another function is called *randomDigit*, which returns a random integer between 0 and 9 (inclusive). \n",
    "\n",
    "Code is already include in the cell below that demonstrates the use of these functions.\n",
    "\n",
    "Write code below that does the following:\n",
    "1.  Call the function **greeting** with a string of your choice and stores the returned result in the variable _greet_. \n",
    "2.  Print the type of the variable _greet_.\n",
    "3.  Print _greet_.\n",
    "4.  Call the function **randomDigit** without any parameters (you still need the parantheses) and store the returned value in  the variable _newDigit_. "
   ]
  },
  {
   "cell_type": "code",
   "execution_count": 73,
   "metadata": {},
   "outputs": [
    {
     "name": "stdout",
     "output_type": "stream",
     "text": [
      "Hello, Jackie\n",
      "Hello, everybody\n",
      "Hello, sdgadgsal\n",
      "5\n",
      "0\n",
      "<class 'str'>\n",
      "Hello, Anthony 2\n"
     ]
    }
   ],
   "source": [
    "print(greeting(\"Jackie\"))\n",
    "print(greeting(\"everybody\"))\n",
    "print(greeting(\"sdgadgsal\"))\n",
    "\n",
    "# Try running all this code more than once, so you can see how calling the function\n",
    "# random_digit works.\n",
    "print(randomDigit())\n",
    "print(randomDigit())\n",
    "\n",
    "# Write your code below that assigns the variables as mentioned in the instructions.\n",
    "greet = greeting(\"Anthony\")\n",
    "print(type(greet))\n",
    "newDigit = randomDigit()\n",
    "print(greet, + newDigit)\n",
    "\n"
   ]
  },
  {
   "cell_type": "markdown",
   "metadata": {},
   "source": [
    "<span style=\"color:blue\">Expected output is similar to but not identical to that below:</span><br/>\n",
    "<span style=\"font: courier; font-size: 13px\">\n",
    "Hello, Jackie<br />\n",
    "Hello, everybody<br />\n",
    "Hello, sdgadgsal<br />\n",
    "0<br />\n",
    "7<br />\n",
    "< class 'str' > <br />\n",
    "Hello, Mike\n",
    "5</span>"
   ]
  },
  {
   "cell_type": "markdown",
   "metadata": {},
   "source": [
    "### Problem 8\n",
    "\n",
    "The code below includes a user written function called **cube** that accepts an integer parameter _num_.   The function should cube the variable _num_, i.e., multiply _num_ by itself three times, and store the result in the variable _result_.  Do not change the existing code of the cell but add your code where indicated to achieve this goal.  "
   ]
  },
  {
   "cell_type": "code",
   "execution_count": 76,
   "metadata": {},
   "outputs": [
    {
     "name": "stdout",
     "output_type": "stream",
     "text": [
      "8\n",
      "27\n"
     ]
    }
   ],
   "source": [
    "def cube(num):\n",
    "    #  add your code here\n",
    "    result = num**3\n",
    "    return result\n",
    "\n",
    "r = cube(2)\n",
    "print(r)\n",
    "r = cube(3)\n",
    "print(r)"
   ]
  },
  {
   "cell_type": "markdown",
   "metadata": {},
   "source": [
    "<span style=\"color:blue\">Expected output:</span><br/>\n",
    "<span style=\"font: courier; font-size: 13px\">\n",
    "8<br />\n",
    "27</span>"
   ]
  },
  {
   "cell_type": "markdown",
   "metadata": {},
   "source": [
    "### Problem 9\n",
    "\n",
    "Alter the arithmetic expression in the assignment statement below so that the subexpressions 6 - 2 and 4 - 2 are evaluated first.  "
   ]
  },
  {
   "cell_type": "code",
   "execution_count": 33,
   "metadata": {},
   "outputs": [
    {
     "name": "stdout",
     "output_type": "stream",
     "text": [
      "32\n"
     ]
    }
   ],
   "source": [
    "num = 4 * (6 - 2) * (4 - 2)\n",
    "print(num)"
   ]
  },
  {
   "cell_type": "markdown",
   "metadata": {},
   "source": [
    "<span style=\"color:blue\">Expected output:</span><br/>\n",
    "<p style=\"font: courier; font-size: 13px\">\n",
    "32</p>"
   ]
  },
  {
   "cell_type": "markdown",
   "metadata": {},
   "source": [
    "### Problem 10\n",
    "\n",
    "The cell below contains syntax and semantic errors.  Run the cell and observe the errors.  Correct any errors that are present such that the code in the cell runs error free.  DO NOT REMOVE any code."
   ]
  },
  {
   "cell_type": "code",
   "execution_count": 32,
   "metadata": {},
   "outputs": [],
   "source": [
    "second = 0\n",
    "\n",
    "var = 1 + 2\n",
    "\n",
    "x = \"1.2\"\n",
    "y = 2 * float(x)\n",
    "\n",
    "z = 5"
   ]
  },
  {
   "cell_type": "markdown",
   "metadata": {},
   "source": [
    "### <span style=\"color:dark green\">Run the cells below to test your code</span>"
   ]
  },
  {
   "cell_type": "code",
   "execution_count": 79,
   "metadata": {},
   "outputs": [],
   "source": [
    "import unittest\n",
    "\n",
    "class PS01_01 (unittest.TestCase):\n",
    "    def test_problem01(self):\n",
    "        self.assertEqual(p, 6.29)\n",
    "\n",
    "class PS01_02 (unittest.TestCase):\n",
    "    def test_problem02(self):\n",
    "        self.assertEqual(numChars,348)\n",
    "\n",
    "class PS01_03 (unittest.TestCase):\n",
    "    def test_problem03(self):\n",
    "        self.assertEqual(xyz,25)\n",
    "\n",
    "class PS01_04 (unittest.TestCase):\n",
    "    def test_problem04(self):\n",
    "        self.assertEqual(circum,31.45)\n",
    "\n",
    "class PS01_05 (unittest.TestCase):\n",
    "    def test_problem05(self):\n",
    "        self.assertEqual(result1,2 * int(userInput))\n",
    "\n",
    "class PS01_06 (unittest.TestCase):\n",
    "    def test_problem06(self):\n",
    "        self.assertEqual(result2,int(firstNum)/int(secondNum))\n",
    "\n",
    "class PS01_07 (unittest.TestCase):\n",
    "    def test_problem08(self):\n",
    "        self.assertIsInstance(greet,str)\n",
    "        self.assertTrue(0 <= newDigit <= 9)\n",
    "        \n",
    "class PS01_08 (unittest.TestCase):\n",
    "    def test_problem08(self):\n",
    "        self.assertEqual(8,cube(2))\n",
    "\n",
    "class PS01_09 (unittest.TestCase):\n",
    "    def test_problem09(self):\n",
    "        self.assertEqual(num,32)"
   ]
  },
  {
   "cell_type": "code",
   "execution_count": 78,
   "metadata": {},
   "outputs": [
    {
     "name": "stderr",
     "output_type": "stream",
     "text": [
      "test_problem01 (__main__.PS01_01) ... ok\n",
      "test_problem02 (__main__.PS01_02) ... ok\n",
      "test_problem03 (__main__.PS01_03) ... ok\n",
      "test_problem04 (__main__.PS01_04) ... ok\n",
      "test_problem05 (__main__.PS01_05) ... ok\n",
      "test_problem06 (__main__.PS01_06) ... ok\n",
      "test_problem08 (__main__.PS01_07) ... ok\n",
      "test_problem08 (__main__.PS01_08) ... ok\n",
      "test_problem09 (__main__.PS01_09) ... ok\n",
      "\n",
      "----------------------------------------------------------------------\n",
      "Ran 9 tests in 0.010s\n",
      "\n",
      "OK\n"
     ]
    },
    {
     "data": {
      "text/plain": [
       "<unittest.main.TestProgram at 0x7f8a2843a668>"
      ]
     },
     "execution_count": 78,
     "metadata": {},
     "output_type": "execute_result"
    }
   ],
   "source": [
    "unittest.main(argv=['first-arg-is-ignored'], exit=False, verbosity=2)"
   ]
  },
  {
   "cell_type": "code",
   "execution_count": null,
   "metadata": {},
   "outputs": [],
   "source": []
  }
 ],
 "metadata": {
  "kernelspec": {
   "display_name": "Python 3",
   "language": "python",
   "name": "python3"
  },
  "language_info": {
   "codemirror_mode": {
    "name": "ipython",
    "version": 3
   },
   "file_extension": ".py",
   "mimetype": "text/x-python",
   "name": "python",
   "nbconvert_exporter": "python",
   "pygments_lexer": "ipython3",
   "version": "3.8.8"
  }
 },
 "nbformat": 4,
 "nbformat_minor": 2
}
