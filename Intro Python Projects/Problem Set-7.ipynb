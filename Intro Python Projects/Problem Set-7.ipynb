{
 "cells": [
  {
   "cell_type": "markdown",
   "metadata": {},
   "source": [
    "## <span style=\"color:blue\">Problem Set 7</span>"
   ]
  },
  {
   "cell_type": "raw",
   "metadata": {},
   "source": [
    "<Anthony Mikinka>"
   ]
  },
  {
   "cell_type": "markdown",
   "metadata": {},
   "source": [
    "### Problem 1\n",
    "Sort the list animals using the sorted function."
   ]
  },
  {
   "cell_type": "code",
   "execution_count": 1,
   "metadata": {},
   "outputs": [
    {
     "name": "stdout",
     "output_type": "stream",
     "text": [
      "['antelope', 'bear', 'cat', 'cow', 'deer', 'elephant', 'elk', 'giraffe', 'goat', 'minx', 'moose', 'otter', 'rabbit', 'salamander', 'tiger', 'yak', 'zebra']\n"
     ]
    }
   ],
   "source": [
    "animals = ['elephant', 'cat', 'moose', 'antelope', 'elk', 'rabbit', 'zebra', 'yak', 'salamander', 'deer',\\\n",
    "           'otter', 'minx', 'giraffe', 'goat', 'cow', 'tiger', 'bear']\n",
    "# write your code below\n",
    "\n",
    "animals.sort()#sorts animals list\n",
    "print(animals)#prints the sorted list\n"
   ]
  },
  {
   "cell_type": "markdown",
   "metadata": {},
   "source": [
    "<span style=\"color:blue\">Expected output:</span><br/>\n",
    "<span style=\"font: courier; font-size: 13px\">\n",
    "['antelope', 'bear', 'cat', 'cow', 'deer', 'elephant', 'elk', 'giraffe', 'goat', 'minx', 'moose', 'otter', 'rabbit', 'salamander', 'tiger', 'yak', 'zebra']</span>"
   ]
  },
  {
   "cell_type": "markdown",
   "metadata": {},
   "source": [
    "### Problem 2\n",
    "Write code that iterates over numList and using a lambda function to compute the square of each value in numList.  Print each value and the square of the value on one line."
   ]
  },
  {
   "cell_type": "code",
   "execution_count": 3,
   "metadata": {},
   "outputs": [
    {
     "name": "stdout",
     "output_type": "stream",
     "text": [
      "{1: 1, 2: 4, 3: 9}\n"
     ]
    }
   ],
   "source": [
    "numList = [1,2,3]\n",
    "# write your code below\n",
    "\n",
    "aDict = {}#creates a dict named aDict\n",
    "\n",
    "for ch in numList:#for each character in numList\n",
    "    aDict[ch] = (lambda x: x**2)(ch)#aDict index of each character is equal to lambda square func\n",
    "    \n",
    "print(aDict)#prints aDict\n"
   ]
  },
  {
   "cell_type": "markdown",
   "metadata": {},
   "source": [
    "<span style=\"color:blue\">Expected output:</span><br/>\n",
    "<span style=\"font: courier; font-size: 13px\">\n",
    "The number is 1<br />\n",
    "The number squared is 1<br />\n",
    "<br />\n",
    "The number is 2<br />\n",
    "The number squared is 4<br />\n",
    "<br />\n",
    "The number is 3<br />\n",
    "The number squared is 9</span>"
   ]
  },
  {
   "cell_type": "markdown",
   "metadata": {},
   "source": [
    "### Problem 3\n",
    "Given numList below, sort the list on the absolute value of the entry.  Use the **sorted** function to sort the list. You will need to pass sorted the list and a lambda function as the key parameter.  The lambda function returns the absolute value of the parameter.  Use the **abs** function to compute the absolute value."
   ]
  },
  {
   "cell_type": "code",
   "execution_count": 95,
   "metadata": {},
   "outputs": [
    {
     "name": "stdout",
     "output_type": "stream",
     "text": [
      "[1, -2, 3, 4, -7]\n"
     ]
    }
   ],
   "source": [
    "numList = [1, -7, 4, -2, 3]\n",
    "# write your code below\n",
    "\n",
    "newList = []#intilize newList\n",
    "\n",
    "newList = sorted(numList, key = lambda a: abs(a))#sorted numList with lambda absolute value func\n",
    "\n",
    "print(newList)#print newList"
   ]
  },
  {
   "cell_type": "markdown",
   "metadata": {},
   "source": [
    "<span style=\"color:blue\">Expected output:</span><br/>\n",
    "<span style=\"font: courier; font-size: 13px\">\n",
    "[1, -2, 3, 4, -7]</span>"
   ]
  },
  {
   "cell_type": "markdown",
   "metadata": {},
   "source": [
    "### Problem 4\n",
    "Given the dictionary states where the key is the state and the value is the population. Sort states on population and print the three states with the highest population and the three states with the lowest population."
   ]
  },
  {
   "cell_type": "code",
   "execution_count": 101,
   "metadata": {},
   "outputs": [
    {
     "name": "stdout",
     "output_type": "stream",
     "text": [
      "The three states with the lowest population are {'Wyoming': 579315, 'Vermont': 623657, 'District of Columbia': 693972}\n",
      "The three states with the largest population are {'California': 39536653, 'Texas': 28304596, 'Florida': 20984400}\n"
     ]
    }
   ],
   "source": [
    "states = {\"California\":39536653,\"Texas\":28304596,\"Florida\":20984400,\"New York\":19849399,\"Pennsylvania\":12805537,\n",
    "          \"Illinois\":12802023,\"Ohio\":11658609,\"Georgia\":10429379,\"North Carolina\":10273419,\"Michigan\":9962311,\n",
    "          \"New Jersey\":9005644,\"Virginia\":8470020,\"Washington\":7405743,\"Arizona\":7016270,\"Massachusetts\":6859819,\n",
    "          \"Tennessee\":6715984,\"Indiana\":6666818,\"Missouri\":6113532,\"Maryland\":6052177,\"Wisconsin\":5795483,\n",
    "          \"Colorado\":5607154,\"Minnesota\":5576606,\"South Carolina\":5024369,\"Alabama\":4874747,\"Louisiana\":4684333,\n",
    "          \"Kentucky\":4454189,\"Oregon\":4142776,\"Oklahoma\":3930864,\"Connecticut\":3588184,\"Puerto Rico\":3337177,\n",
    "          \"Iowa\":3145711,\"Utah\":3101833,\"Arkansas\":3004279,\"Nevada\":2998039,\"Mississippi\":2984100,\"Kansas\":2913123,\n",
    "          \"New Mexico\":2088070,\"Nebraska\":1920076,\"West Virginia\":1815857,\"Idaho\":1716943,\"Hawaii\":1427538,\n",
    "          \"New Hampshire\":1342795,\"Maine\":1335907,\"Rhode Island\":1059639,\"Montana\":1050493,\"Delaware\":961939,\n",
    "          \"South Dakota\":869666,\"North Dakota\":755393,\"Alaska\":739795,\"District of Columbia\":693972,\"Vermont\":623657,\n",
    "          \"Wyoming\":579315}\n",
    "# write your code below\n",
    "\n",
    "items = states.items()#displays the items in states\n",
    "\n",
    "highestPopList = sorted(items, key = lambda item: item[1], reverse = True)#sorted highestPopList with lambda item1\n",
    "lowestPopList = sorted(items, key = lambda item: item[1])#sorted lowestPopList with lambda item1\n",
    "\n",
    "highestPopDict = {}#initilizes highPopDict\n",
    "lowestPopDict = {}#initilizes lowestPopDict \n",
    "\n",
    "for lowState in lowestPopList:\n",
    "    lowestPopDict[lowState[0]] = lowState[1]\n",
    "    threeLow = {lowState: lowestPopDict[lowState] for lowState in list(lowestPopDict) [:3]}\n",
    "    \n",
    "for highState in highestPopList:\n",
    "    highestPopDict[highState[0]] = highState[1]\n",
    "    threeHigh = {highState: highestPopDict[highState] for highState in list(highestPopDict) [:3]}\n",
    "    \n",
    "print(\"The three states with the lowest population are\", threeLow)\n",
    "print(\"The three states with the largest population are\", threeHigh)"
   ]
  },
  {
   "cell_type": "markdown",
   "metadata": {},
   "source": [
    "<span style=\"color:blue\">Expected output:</span><br/>\n",
    "<span style=\"font: courier; font-size: 13px\">\n",
    "The three states with the lowest population are ['Wyoming', 'Vermont', 'District of Columbia']<br />\n",
    "The three states with the largest population are ['California', 'Texas', 'Florida']</span>"
   ]
  },
  {
   "cell_type": "markdown",
   "metadata": {},
   "source": [
    "### Problem 5\n",
    "This is a variation of the problem in the Problem Set 6. The dictionary letter_values maps the each letter in the alphabet to its scrabble point value. Complete the function scrabbleValue below so that the function returns the Scrabble value of the word passed.  In this function, you need to accumulate the value of each letter in the word. You may use a for loop in this function.\n",
    "\n",
    "The function bestScrabbleWords should accept a list of words, sort them by their scrabble value, and return the top howMany words.  You need to use the key parameter to the sorted function with the key parameter specifying a lambda function."
   ]
  },
  {
   "cell_type": "code",
   "execution_count": 104,
   "metadata": {},
   "outputs": [
    {
     "name": "stdout",
     "output_type": "stream",
     "text": [
      "{'syntax': [16], 'python': [14], 'program': [12], 'unix': [11]}\n"
     ]
    }
   ],
   "source": [
    "def scrabbleValue(word):\n",
    "    # complete the function\n",
    "    word = \" \".join(word)#adds space to each word\n",
    "    word = word.lower()#lower cases each word\n",
    "    word = word.split(\" \")#splits each word by space\n",
    "    totalValue = []#creates totalValue list\n",
    "    \n",
    "    for words in word:#for words in word\n",
    "        wordsValue = 0#value of each word = 0\n",
    "        for ch in words:# for each character in words\n",
    "            wordsValue += letter_values[ch]#wordsValue == the letter_values of each character\n",
    "        totalValue.append(wordsValue)#adds the words value to totalValue\n",
    "\n",
    "    return totalValue\n",
    "\n",
    "def bestScrabbleWords(words, howMany=3):\n",
    "    # complete the function\n",
    "    aDict = {}#creates aDict\n",
    "    \n",
    "    for ch in words:#for each character in words\n",
    "        keys = ch\n",
    "        value = scrabbleValue(ch.split())\n",
    "        aDict[keys] = value\n",
    "    items = aDict.items()\n",
    "    lists = sorted(items, key = lambda item: item[1], reverse = True)\n",
    "\n",
    "    newDict = {}\n",
    "    \n",
    "    for x in lists:\n",
    "        newDict[x[0]] = x[1]\n",
    "    bestWords = {x: newDict[x] for x in list(newDict)[:int(howMany)]}\n",
    "    \n",
    "    return bestWords\n",
    "\n",
    "letter_values =  {'a':1, 'b':3, 'c':3, 'd':2, 'e':1, 'f':4, 'g': 2, 'h':4,\n",
    "    'i':1, 'j':8, 'k':5, 'l':1, 'm':3, 'n':1, 'o':1, 'p':3, 'q':10, 'r':1,\n",
    "    's':1, 't':1, 'u':1, 'v':8, 'w':4, 'x':8, 'y':4, 'z':10}\n",
    "\n",
    "scrabbleWords = ['python', 'program', 'list', 'string', 'unix', 'hours', 'syntax', 'error']\n",
    "\n",
    "# write your code here\n",
    "\n",
    "bestWords = bestScrabbleWords(scrabbleWords, 4)\n",
    "print(bestWords)\n"
   ]
  },
  {
   "cell_type": "markdown",
   "metadata": {},
   "source": [
    "<span style=\"color:blue\">Expected output:</span><br/>\n",
    "<span style=\"font: courier; font-size: 13px\">\n",
    "['syntax', 'python', 'program', 'unix']</span>"
   ]
  },
  {
   "cell_type": "code",
   "execution_count": null,
   "metadata": {},
   "outputs": [],
   "source": []
  }
 ],
 "metadata": {
  "kernelspec": {
   "display_name": "Python 3",
   "language": "python",
   "name": "python3"
  },
  "language_info": {
   "codemirror_mode": {
    "name": "ipython",
    "version": 3
   },
   "file_extension": ".py",
   "mimetype": "text/x-python",
   "name": "python",
   "nbconvert_exporter": "python",
   "pygments_lexer": "ipython3",
   "version": "3.8.8"
  }
 },
 "nbformat": 4,
 "nbformat_minor": 2
}
