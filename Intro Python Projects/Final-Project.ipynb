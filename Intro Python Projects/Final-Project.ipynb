{
 "cells": [
  {
   "cell_type": "code",
   "execution_count": 1,
   "metadata": {},
   "outputs": [
    {
     "ename": "ModuleNotFoundError",
     "evalue": "No module named 'matplotlib.pylot'",
     "output_type": "error",
     "traceback": [
      "\u001b[1;31m---------------------------------------------------------------------------\u001b[0m",
      "\u001b[1;31mModuleNotFoundError\u001b[0m                       Traceback (most recent call last)",
      "\u001b[1;32m<ipython-input-1-9294bc01a90c>\u001b[0m in \u001b[0;36m<module>\u001b[1;34m\u001b[0m\n\u001b[0;32m      2\u001b[0m \u001b[1;32mimport\u001b[0m \u001b[0mjson\u001b[0m\u001b[1;33m\u001b[0m\u001b[1;33m\u001b[0m\u001b[0m\n\u001b[0;32m      3\u001b[0m \u001b[1;32mimport\u001b[0m \u001b[0mpandas\u001b[0m \u001b[1;32mas\u001b[0m \u001b[0mpd\u001b[0m\u001b[1;33m\u001b[0m\u001b[1;33m\u001b[0m\u001b[0m\n\u001b[1;32m----> 4\u001b[1;33m \u001b[1;32mimport\u001b[0m \u001b[0mmatplotlib\u001b[0m\u001b[1;33m.\u001b[0m\u001b[0mpylot\u001b[0m \u001b[1;32mas\u001b[0m \u001b[0mplt\u001b[0m\u001b[1;33m\u001b[0m\u001b[1;33m\u001b[0m\u001b[0m\n\u001b[0m\u001b[0;32m      5\u001b[0m \u001b[1;33m\u001b[0m\u001b[0m\n\u001b[0;32m      6\u001b[0m \u001b[1;33m\u001b[0m\u001b[0m\n",
      "\u001b[1;31mModuleNotFoundError\u001b[0m: No module named 'matplotlib.pylot'"
     ]
    }
   ],
   "source": [
    "# import neccesary modules\n",
    "import json\n",
    "import pandas as pd\n",
    "import matplotlib.pylot as plt\n",
    "\n",
    "\n",
    "# Open the data file and load the json data into the variable crime_list\n",
    "file = open('FBI_CrimeData_2016.json', 'r')\n",
    "crime_list_str = file.read()\n",
    "crime_list = json.loads(crime_list_str)\n",
    "\n",
    "crime_list.head()\n",
    "\n",
    "# create 3 dictionaries\n",
    "murder_by_key = {}\n",
    "violent_by_key = {}\n",
    "nonviolent_by_key = {}\n",
    "\n",
    "# 3 functions for crime dictionaries\n",
    "def accume_crime(key, crime, crime_list):\n",
    "    murder_by_key = {}\n",
    "    for i in crime_list:\n",
    "        if i[key] not in murder_by_key:\n",
    "            murder_by_key[i[key]] = int(i['Murder'])\n",
    "    else:\n",
    "            murder_by_key[i[key]] += int(i['Murder'])\n",
    "    return murder_by_key\n",
    "\n",
    "def accume_violent_crime(key, crime, crime_list):\n",
    "    violent_by_key = {}\n",
    "    for i in crime_list:\n",
    "        if i[key] not in violent_by_key:\n",
    "            violent_by_key[i[key]] = int(i['Murder']) + int(i['Rape']) + int(i['Robbery']) + int(i['Assault'])\n",
    "    else:\n",
    "            violent_by_key[i[key]] += int(i['Murder']) + int(i['Rape']) + int(i['Robbery']) + int(i['Assault'])\n",
    "    return violent_by_key\n",
    "\n",
    "def accume_nonviolent_crime(key, crime, crime_list):\n",
    "    nonviolent_by_key = {}\n",
    "    for i in crime_list:\n",
    "        if i[key] not in nonviolent_by_key:\n",
    "            nonviolent_by_key[i[key]] = int(i['Burglary']) + int(i['Theft']) + int (i['Vehicle_Theft'])\n",
    "    else:\n",
    "            nonviolent_by_key[i[key]] += int(i['Burglary']) + int(i['Theft']) + int(i['Vehicle_Theft'])\n",
    "    return nonviolent_by_key\n",
    "\n",
    "# call the 3 functions to generate dictionaries\n",
    "murder_by_region = accume_crime('Region', 'Murder', crime_list)\n",
    "violent_by_region = accume_violent_crime('Region', 'Murder' 'Rape' 'Robbery' 'Assault', crime_list )\n",
    "nonviolent_by_region = accume_nonviolent_crime('Region', 'Burglary' 'Theft' 'Vehicle_Theft', crime_list)\n",
    "  \n",
    "# print out 3 important dictionaries\n",
    "print(murder_by_region)\n",
    "print(violent_by_region)\n",
    "print(nonviolent_by_region)\n",
    "#need a report which is tabular list showing the violent crimes for each state and the distance form the national mean\n"
   ]
  }
 ],
 "metadata": {
  "kernelspec": {
   "display_name": "Python 3",
   "language": "python",
   "name": "python3"
  },
  "language_info": {
   "codemirror_mode": {
    "name": "ipython",
    "version": 3
   },
   "file_extension": ".py",
   "mimetype": "text/x-python",
   "name": "python",
   "nbconvert_exporter": "python",
   "pygments_lexer": "ipython3",
   "version": "3.8.8"
  }
 },
 "nbformat": 4,
 "nbformat_minor": 4
}
